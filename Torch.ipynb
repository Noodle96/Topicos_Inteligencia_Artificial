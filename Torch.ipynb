{
  "nbformat": 4,
  "nbformat_minor": 0,
  "metadata": {
    "colab": {
      "provenance": [],
      "authorship_tag": "ABX9TyO8l8HheSa0IxmCU6Y2AZP5",
      "include_colab_link": true
    },
    "kernelspec": {
      "name": "python3",
      "display_name": "Python 3"
    },
    "language_info": {
      "name": "python"
    }
  },
  "cells": [
    {
      "cell_type": "markdown",
      "metadata": {
        "id": "view-in-github",
        "colab_type": "text"
      },
      "source": [
        "<a href=\"https://colab.research.google.com/github/Noodle96/Topicos_Inteligencia_Artificial/blob/main/Torch.ipynb\" target=\"_parent\"><img src=\"https://colab.research.google.com/assets/colab-badge.svg\" alt=\"Open In Colab\"/></a>"
      ]
    },
    {
      "cell_type": "code",
      "source": [
        "#!pip list"
      ],
      "metadata": {
        "collapsed": true,
        "id": "hbui2no0iWNx"
      },
      "execution_count": 1,
      "outputs": []
    },
    {
      "cell_type": "markdown",
      "source": [
        "## **PyTorch: a deep learning framework**\n",
        "Pytorch is\n",
        "<ul type=\"circle\">\n",
        "    <li>one of the most popular deep learning frameworks</li>\n",
        "    <li>the framework used in many published deep learning papers</li>\n",
        "    <li>intuitive and user-friendly</li>\n",
        "    <li>has much in common with NumPy</li>\n",
        "<ul/>"
      ],
      "metadata": {
        "id": "gO3HutZJmmFR"
      }
    },
    {
      "cell_type": "markdown",
      "source": [
        "### **Importing PyTorch and related packages**\n",
        "```python\n",
        "import torch\n",
        "```\n",
        "PyTorch support\n",
        "*   image data with ```torchvision ```\n",
        "*   audio data with ```torchaudio ```\n",
        "*   text data with ```torchtext ```"
      ],
      "metadata": {
        "id": "jOhatGv1no2S"
      }
    },
    {
      "cell_type": "code",
      "execution_count": 2,
      "metadata": {
        "id": "BrbqNn-ih4r3"
      },
      "outputs": [],
      "source": [
        "import torch\n",
        "import numpy as np"
      ]
    },
    {
      "cell_type": "code",
      "source": [
        "lst = [ [1,2,3],\n",
        "        [4,5,6]\n",
        "    ]\n",
        "print(lst)\n",
        "print(type(lst))"
      ],
      "metadata": {
        "id": "TETlerBKil0f",
        "colab": {
          "base_uri": "https://localhost:8080/"
        },
        "outputId": "bcf50183-25f4-4060-973f-58e7511eb674"
      },
      "execution_count": 3,
      "outputs": [
        {
          "output_type": "stream",
          "name": "stdout",
          "text": [
            "[[1, 2, 3], [4, 5, 6]]\n",
            "<class 'list'>\n"
          ]
        }
      ]
    },
    {
      "cell_type": "markdown",
      "source": [
        "### **Tensors: the building blocks of networks in PyTorch**\n",
        "\n"
      ],
      "metadata": {
        "id": "k7xelNfrkNjP"
      }
    },
    {
      "cell_type": "markdown",
      "source": [
        "> **Load from list**"
      ],
      "metadata": {
        "id": "3v8k2p4OmMP0"
      }
    },
    {
      "cell_type": "code",
      "source": [
        "lst_tensor = torch.tensor(lst)\n",
        "print(lst_tensor)\n",
        "print(type(lst_tensor))"
      ],
      "metadata": {
        "id": "JjHCkmk9i81D",
        "colab": {
          "base_uri": "https://localhost:8080/"
        },
        "outputId": "150cd748-260d-40fd-853e-29b9c57263d9"
      },
      "execution_count": 4,
      "outputs": [
        {
          "output_type": "stream",
          "name": "stdout",
          "text": [
            "tensor([[1, 2, 3],\n",
            "        [4, 5, 6]])\n",
            "<class 'torch.Tensor'>\n"
          ]
        }
      ]
    },
    {
      "cell_type": "code",
      "source": [
        "print(f\"\"\"{lst_tensor.shape}, {lst_tensor.dtype}, {lst_tensor.device}\"\"\")"
      ],
      "metadata": {
        "id": "6-9jfJgnjUCP",
        "colab": {
          "base_uri": "https://localhost:8080/"
        },
        "outputId": "3f40ab2b-1df7-4778-e236-7b18c907d1c1"
      },
      "execution_count": 5,
      "outputs": [
        {
          "output_type": "stream",
          "name": "stdout",
          "text": [
            "torch.Size([2, 3]), torch.int64, cpu\n"
          ]
        }
      ]
    },
    {
      "cell_type": "markdown",
      "source": [
        "> **Load from numpy**"
      ],
      "metadata": {
        "id": "aOltOqe5mcWh"
      }
    },
    {
      "cell_type": "code",
      "source": [
        "np_list = np.array(lst)\n",
        "np_tensor = torch.from_numpy(np_list)\n",
        "print(np_tensor)\n",
        "print(type(np_tensor))"
      ],
      "metadata": {
        "id": "KLeQJQZWpAIt",
        "colab": {
          "base_uri": "https://localhost:8080/"
        },
        "outputId": "c7575432-bedd-42cf-9c4c-484c5c556e4e"
      },
      "execution_count": 6,
      "outputs": [
        {
          "output_type": "stream",
          "name": "stdout",
          "text": [
            "tensor([[1, 2, 3],\n",
            "        [4, 5, 6]])\n",
            "<class 'torch.Tensor'>\n"
          ]
        }
      ]
    },
    {
      "cell_type": "markdown",
      "source": [
        "*   Tensor shape\n",
        "*   Tensor data type\n",
        "*   Tensor device"
      ],
      "metadata": {
        "id": "RbppweDaqEuh"
      }
    },
    {
      "cell_type": "code",
      "source": [
        "# np_tensor es ya un tensor\n",
        "np_tensor.shape"
      ],
      "metadata": {
        "id": "mxX1rVGCqL4K",
        "colab": {
          "base_uri": "https://localhost:8080/"
        },
        "outputId": "133dd369-41fd-49d8-9ce0-b27011e837de"
      },
      "execution_count": 7,
      "outputs": [
        {
          "output_type": "execute_result",
          "data": {
            "text/plain": [
              "torch.Size([2, 3])"
            ]
          },
          "metadata": {},
          "execution_count": 7
        }
      ]
    },
    {
      "cell_type": "code",
      "source": [
        "np_tensor.dtype"
      ],
      "metadata": {
        "id": "0gahS1U6qVWv",
        "colab": {
          "base_uri": "https://localhost:8080/"
        },
        "outputId": "25b5b730-602b-4fcc-c24e-e689c718da31"
      },
      "execution_count": 8,
      "outputs": [
        {
          "output_type": "execute_result",
          "data": {
            "text/plain": [
              "torch.int64"
            ]
          },
          "metadata": {},
          "execution_count": 8
        }
      ]
    },
    {
      "cell_type": "code",
      "source": [
        "np_tensor.device"
      ],
      "metadata": {
        "id": "FRJoMWd6qYVf",
        "colab": {
          "base_uri": "https://localhost:8080/"
        },
        "outputId": "8b78b302-31cb-4de3-e225-dceeb2e3fe29"
      },
      "execution_count": 9,
      "outputs": [
        {
          "output_type": "execute_result",
          "data": {
            "text/plain": [
              "device(type='cpu')"
            ]
          },
          "metadata": {},
          "execution_count": 9
        }
      ]
    },
    {
      "cell_type": "markdown",
      "source": [
        "### **Getting started with tensor operations**"
      ],
      "metadata": {
        "id": "Zqxf10syrhRU"
      }
    },
    {
      "cell_type": "markdown",
      "source": [
        "> **Compatibles shapes**"
      ],
      "metadata": {
        "id": "Hmo6UDsrrmNs"
      }
    },
    {
      "cell_type": "code",
      "source": [
        "a = torch.tensor([[1,1],[2,2]])\n",
        "b = torch.tensor([[10,10],[20,20]])\n",
        "print(a+b)"
      ],
      "metadata": {
        "id": "Fs993LZPrsaz",
        "colab": {
          "base_uri": "https://localhost:8080/"
        },
        "outputId": "67c718d0-fdd1-4d24-d4fe-0d07d512a3f0"
      },
      "execution_count": 10,
      "outputs": [
        {
          "output_type": "stream",
          "name": "stdout",
          "text": [
            "tensor([[11, 11],\n",
            "        [22, 22]])\n"
          ]
        }
      ]
    },
    {
      "cell_type": "markdown",
      "source": [
        "> **Incompatible shapes**"
      ],
      "metadata": {
        "id": "ijGdK98QsITh"
      }
    },
    {
      "cell_type": "code",
      "source": [
        "c = torch.tensor([[100,100],[200,200]])\n",
        "d = torch.tensor([[1,2,3],[4,5,6]])\n",
        "#c+d"
      ],
      "metadata": {
        "id": "0jIK2up6sMB3"
      },
      "execution_count": 11,
      "outputs": []
    },
    {
      "cell_type": "markdown",
      "source": [
        "Element-wise multiplication"
      ],
      "metadata": {
        "id": "FqlH9k9Es0gM"
      }
    },
    {
      "cell_type": "code",
      "source": [
        "e = torch.tensor([[1,2],[3,4]])\n",
        "f = torch.tensor([[2,3],[5,6]])\n",
        "e*f"
      ],
      "metadata": {
        "id": "5D8ixLkpskia",
        "colab": {
          "base_uri": "https://localhost:8080/"
        },
        "outputId": "bc2c9422-dd35-415f-f67a-a16098e9975f"
      },
      "execution_count": 12,
      "outputs": [
        {
          "output_type": "execute_result",
          "data": {
            "text/plain": [
              "tensor([[ 2,  6],\n",
              "        [15, 24]])"
            ]
          },
          "metadata": {},
          "execution_count": 12
        }
      ]
    }
  ]
}