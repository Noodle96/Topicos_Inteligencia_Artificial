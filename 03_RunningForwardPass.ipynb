{
  "nbformat": 4,
  "nbformat_minor": 0,
  "metadata": {
    "colab": {
      "provenance": [],
      "authorship_tag": "ABX9TyNAwOw9QjVQ76jAMRErSmXv",
      "include_colab_link": true
    },
    "kernelspec": {
      "name": "python3",
      "display_name": "Python 3"
    },
    "language_info": {
      "name": "python"
    }
  },
  "cells": [
    {
      "cell_type": "markdown",
      "metadata": {
        "id": "view-in-github",
        "colab_type": "text"
      },
      "source": [
        "<a href=\"https://colab.research.google.com/github/Noodle96/Topicos_Inteligencia_Artificial/blob/main/03_RunningForwardPass.ipynb\" target=\"_parent\"><img src=\"https://colab.research.google.com/assets/colab-badge.svg\" alt=\"Open In Colab\"/></a>"
      ]
    },
    {
      "cell_type": "markdown",
      "source": [
        "## **Running a forward pass**"
      ],
      "metadata": {
        "id": "PDDpTePOU4B9"
      }
    },
    {
      "cell_type": "markdown",
      "source": [
        "### **Binary classification: forward pass**"
      ],
      "metadata": {
        "id": "5zgshFcdVOo0"
      }
    },
    {
      "cell_type": "code",
      "source": [
        "import torch\n",
        "import torch.nn as nn"
      ],
      "metadata": {
        "id": "RpYnU71XVOa8"
      },
      "execution_count": 17,
      "outputs": []
    },
    {
      "cell_type": "code",
      "execution_count": 18,
      "metadata": {
        "id": "rnLVvV4OF4EP",
        "colab": {
          "base_uri": "https://localhost:8080/"
        },
        "outputId": "36c44f06-2493-44a1-b300-ab531125124a"
      },
      "outputs": [
        {
          "output_type": "stream",
          "name": "stdout",
          "text": [
            "torch.Size([5, 6])\n",
            "torch.float32\n"
          ]
        }
      ],
      "source": [
        "# Create input data of shape 5x6\n",
        "input_data = torch.tensor(\n",
        "    [[-0.4421, 1.5207, 2.0607, -0.3647, 0.4691, 0.0946],\n",
        "    [-0.9155, -0.0475, -1.3645,0.6336, -1.9520, -0.3398],\n",
        "    [ 0.7406, 1.6763, -0.8511, 0.2432, 0.1123, -0.0633],\n",
        "    [-1.6630, -0.0718, -0.1285, 0.5396, -0.0288, -0.8622],\n",
        "    [-0.7413, 1.7920, -0.0883, -0.6685,0.4745, -0.4245]]\n",
        ")\n",
        "print(input_data.shape)\n",
        "print(input_data.dtype)"
      ]
    },
    {
      "cell_type": "markdown",
      "source": [
        "El Modelo ```modelo01``` gráficamente lo podemos ver asi:"
      ],
      "metadata": {
        "id": "hofd0E7YZ4aV"
      }
    },
    {
      "cell_type": "markdown",
      "source": [
        "<div style=\"display: flex; flex-direction: row;justify-content: space-between;\">\n",
        "  <img src=\"https://github.com/Noodle96/Topicos_Inteligencia_Artificial/blob/main/assets/img/03_binaryClasification.png?raw=true\" width=\"90%\">\n",
        "</div>"
      ],
      "metadata": {
        "id": "bR0d95b_ajUU"
      }
    },
    {
      "cell_type": "code",
      "source": [
        "# Creamos un modelo de clasificacion binaria\n",
        "model01 = torch.nn.Sequential(\n",
        "    nn.Linear(6, 4), # Primera capa lineal\n",
        "    nn.Linear(4, 1), # Segunda capa lineal\n",
        "    nn.Sigmoid() # a la salida se le aplica la funcion sigmoidea\n",
        ")\n",
        "print(model01)"
      ],
      "metadata": {
        "colab": {
          "base_uri": "https://localhost:8080/"
        },
        "id": "5RXSZjDxWzAh",
        "outputId": "33c54590-ecb1-4bd0-9faf-87aba3f4bb2f"
      },
      "execution_count": 19,
      "outputs": [
        {
          "output_type": "stream",
          "name": "stdout",
          "text": [
            "Sequential(\n",
            "  (0): Linear(in_features=6, out_features=4, bias=True)\n",
            "  (1): Linear(in_features=4, out_features=1, bias=True)\n",
            "  (2): Sigmoid()\n",
            ")\n"
          ]
        }
      ]
    },
    {
      "cell_type": "code",
      "source": [
        "# Pasar el dato de entrada atraves del modelo\n",
        "output01 = model01(input_data)\n",
        "print(output01)\n",
        "output01.shape"
      ],
      "metadata": {
        "colab": {
          "base_uri": "https://localhost:8080/"
        },
        "id": "ckvnfg4vX0n0",
        "outputId": "750c734e-08ef-486a-b778-b75387f321b9"
      },
      "execution_count": 20,
      "outputs": [
        {
          "output_type": "stream",
          "name": "stdout",
          "text": [
            "tensor([[0.4963],\n",
            "        [0.4648],\n",
            "        [0.5222],\n",
            "        [0.4129],\n",
            "        [0.4816]], grad_fn=<SigmoidBackward0>)\n"
          ]
        },
        {
          "output_type": "execute_result",
          "data": {
            "text/plain": [
              "torch.Size([5, 1])"
            ]
          },
          "metadata": {},
          "execution_count": 20
        }
      ]
    },
    {
      "cell_type": "markdown",
      "source": [
        "### **Multi-class classification: forward passpass**"
      ],
      "metadata": {
        "id": "4UlCSE8SiTbJ"
      }
    },
    {
      "cell_type": "markdown",
      "source": [
        "El ```modelo02``` lo podemos graficamente ver asi"
      ],
      "metadata": {
        "id": "8n0bnCjoil8p"
      }
    },
    {
      "cell_type": "markdown",
      "source": [
        "<div style=\"display: flex; flex-direction: row;justify-content: space-between;\">\n",
        "  <img src=\"https://github.com/Noodle96/Topicos_Inteligencia_Artificial/blob/main/assets/img/03_MultiClassClasification.png?raw=true\" width=\"90%\">\n",
        "</div>"
      ],
      "metadata": {
        "id": "nEiIGSilixIl"
      }
    },
    {
      "cell_type": "code",
      "source": [
        "# Specify model has three classes\n",
        "n_classes = 3"
      ],
      "metadata": {
        "id": "M-Uo6PBfoVhl"
      },
      "execution_count": 25,
      "outputs": []
    },
    {
      "cell_type": "code",
      "source": [
        "# Create multiclass classification model\n",
        "model02 = nn.Sequential(\n",
        "    nn.Linear(6, 4), # First linear layer\n",
        "    nn.Linear(4, n_classes), # Second linear layer\n",
        "    nn.Softmax(dim=-1) # Softmax activation\n",
        ")\n",
        "print(model02)"
      ],
      "metadata": {
        "colab": {
          "base_uri": "https://localhost:8080/"
        },
        "id": "U-wqKJgxoXu3",
        "outputId": "c3e505d0-23c4-4bbb-d86d-f548155ae2f1"
      },
      "execution_count": 33,
      "outputs": [
        {
          "output_type": "stream",
          "name": "stdout",
          "text": [
            "Sequential(\n",
            "  (0): Linear(in_features=6, out_features=4, bias=True)\n",
            "  (1): Linear(in_features=4, out_features=3, bias=True)\n",
            "  (2): Softmax(dim=-1)\n",
            ")\n"
          ]
        }
      ]
    },
    {
      "cell_type": "code",
      "source": [
        "# Pass input data through model\n",
        "output02 = model02(input_data)\n",
        "print(output02)\n",
        "print(output02.shape)"
      ],
      "metadata": {
        "colab": {
          "base_uri": "https://localhost:8080/"
        },
        "id": "QDatyLLroZiv",
        "outputId": "eba1bcfa-6c66-4f00-ab6e-4344053198c4"
      },
      "execution_count": 28,
      "outputs": [
        {
          "output_type": "stream",
          "name": "stdout",
          "text": [
            "tensor([[0.2120, 0.5582, 0.2297],\n",
            "        [0.2762, 0.3950, 0.3288],\n",
            "        [0.1614, 0.5460, 0.2926],\n",
            "        [0.3783, 0.3931, 0.2286],\n",
            "        [0.1997, 0.5655, 0.2348]], grad_fn=<SoftmaxBackward0>)\n",
            "torch.Size([5, 3])\n"
          ]
        }
      ]
    },
    {
      "cell_type": "markdown",
      "source": [
        "### **Regression: forward pass**"
      ],
      "metadata": {
        "id": "epX7LZp1iYC-"
      }
    },
    {
      "cell_type": "markdown",
      "source": [
        "El ```modelo03``` lo podemos graficamente ver asi"
      ],
      "metadata": {
        "id": "rZ9quC-Sit3a"
      }
    },
    {
      "cell_type": "markdown",
      "source": [
        "<div style=\"display: flex; flex-direction: row;justify-content: space-between;\">\n",
        "  <img src=\"https://github.com/Noodle96/Topicos_Inteligencia_Artificial/blob/main/assets/img/03_regresion.png?raw=true\" width=\"50%\">\n",
        "</div>"
      ],
      "metadata": {
        "id": "vjFGddG4i1Ii"
      }
    },
    {
      "cell_type": "code",
      "source": [
        "# creacion del modelo 03\n",
        "model03 = nn.Sequential(\n",
        "    nn.Linear(6, 4), # First linear layer\n",
        "    nn.Linear(4, 1), # Second linear layer\n",
        ")\n",
        "print(model03 )"
      ],
      "metadata": {
        "colab": {
          "base_uri": "https://localhost:8080/"
        },
        "id": "TQDERuZYouAq",
        "outputId": "7f0340cd-70b1-4f63-db16-aeeb1af2ad21"
      },
      "execution_count": 31,
      "outputs": [
        {
          "output_type": "stream",
          "name": "stdout",
          "text": [
            "Sequential(\n",
            "  (0): Linear(in_features=6, out_features=4, bias=True)\n",
            "  (1): Linear(in_features=4, out_features=1, bias=True)\n",
            ")\n"
          ]
        }
      ]
    },
    {
      "cell_type": "code",
      "source": [
        "output03 = model03(input_data)\n",
        "print(output03)\n",
        "output03.shape"
      ],
      "metadata": {
        "colab": {
          "base_uri": "https://localhost:8080/"
        },
        "id": "DMx-6g6JpKfP",
        "outputId": "503342b2-d06a-4ba0-8c4e-c679fa6fdb5b"
      },
      "execution_count": 32,
      "outputs": [
        {
          "output_type": "stream",
          "name": "stdout",
          "text": [
            "tensor([[0.4254],\n",
            "        [0.0149],\n",
            "        [0.1207],\n",
            "        [0.0340],\n",
            "        [0.2174]], grad_fn=<AddmmBackward0>)\n"
          ]
        },
        {
          "output_type": "execute_result",
          "data": {
            "text/plain": [
              "torch.Size([5, 1])"
            ]
          },
          "metadata": {},
          "execution_count": 32
        }
      ]
    }
  ]
}