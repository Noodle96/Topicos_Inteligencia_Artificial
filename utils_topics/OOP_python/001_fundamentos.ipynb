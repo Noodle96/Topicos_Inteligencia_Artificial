{
 "cells": [
  {
   "cell_type": "markdown",
   "id": "9aee7d66",
   "metadata": {},
   "source": [
    "## **Parte 1 — Fundamentos (Clase, Objeto, self, __init__, Atributos)**"
   ]
  },
  {
   "cell_type": "markdown",
   "id": "db06ca24",
   "metadata": {},
   "source": [
    "## *1. ¿Qué es una clase en Python?*\n"
   ]
  },
  {
   "cell_type": "markdown",
   "id": "107f1ecd",
   "metadata": {},
   "source": [
    "\n",
    "<!-- <div class=\"alert alert-block alert-success\">\n",
    "    <b>En C++ defines una clase con `class` y puedes especificar acceso (`public`, `private`, etc.).</b>\n",
    "    En Python también usamos class, pero:\n",
    "</div> -->\n",
    "\n",
    "- En C++ defines una clase con `class` y puedes especificar acceso (`public`, `private`, etc.).\n",
    "- En Python también usamos `class`, pero:\n",
    "    - No hay control de acceso real (solo convenciones).\n",
    "    - Todo es dinámico: puedes crear atributos en cualquier momento.\n",
    "    - Las clases son plantillas para crear objetos (instancias).\n",
    "\n",
    "- 📌 En términos sencillos:\n",
    "    - **Clase** = definición de cómo deberían ser los objetos (atributos + métodos).\n",
    "    - **Objeto (instancia)** = un ejemplar concreto de esa clase."
   ]
  },
  {
   "cell_type": "markdown",
   "id": "e9631e6c",
   "metadata": {},
   "source": [
    "## *2. Clase `Book` con atributos*"
   ]
  },
  {
   "cell_type": "markdown",
   "id": "9f930487",
   "metadata": {},
   "source": [
    "- En Python, cada método de instancia recibe `self` como primer parámetro:\n",
    "    - `self` representa la propia instancia (equivalente a `this` en C++, pero aquí es explícito).\n",
    "    - El constructor especial es `__init__`, que se ejecuta al crear un objeto.\n",
    "\n",
    "- En este ejemplo:\n",
    "    - Atributos de instancia: `title`, `author`, `price`.\n",
    "    - Atributo de clase: `DEFAULT_CURRENCY` (común a todas las instancias)."
   ]
  },
  {
   "cell_type": "code",
   "execution_count": null,
   "id": "ba1ffb95",
   "metadata": {},
   "outputs": [],
   "source": [
    "from __future__ import annotations\n",
    "from typing import ClassVar\n",
    "\n",
    "class Book:\n",
    "    \"\"\"\n",
    "    Entidad de dominio: Libro.\n",
    "    - Atributos de instancia: específicos de cada objeto (title, author, price).\n",
    "    - Atributo de clase: compartido entre todos los objetos (DEFAULT_CURRENCY).\n",
    "    \"\"\"\n",
    "    DEFAULT_CURRENCY: ClassVar[str] = \"USD\"  # atributo de clase\n",
    "\n",
    "    def __init__(self, title: str, author: str, price: float) -> None:\n",
    "        # 'self' referencia a la instancia creada\n",
    "        self.title: str = title\n",
    "        self.author: str = author\n",
    "        self.price: float = float(price)  # conversión defensiva\n",
    "    # def __init__(self, title: str = \"Untitled\", author: str = \"Unknown\", price: float = 0.0):\n",
    "    #     self.title = title\n",
    "    #     self.author = author\n",
    "    #     self.price = price\n",
    "\n",
    "    # @classmethod\n",
    "    # def from_title_price(cls, title: str, price: float) -> Book:\n",
    "    #     \"\"\"Crea un libro con autor 'Unknown'\"\"\"\n",
    "    #     return cls(title, \"Unknown\", price)\n",
    "\n",
    "    # @classmethod\n",
    "    # def empty(cls) -> Book:\n",
    "    #     \"\"\"Crea un libro vacío por defecto\"\"\"\n",
    "    #     return cls(\"Untitled\", \"Unknown\", 0.0)\n"
   ]
  },
  {
   "cell_type": "markdown",
   "id": "5733dbbd",
   "metadata": {},
   "source": [
    "## *3. Crear instancias y acceder a atributos*"
   ]
  },
  {
   "cell_type": "markdown",
   "id": "e542d98c",
   "metadata": {},
   "source": [
    "- Cuando invocamos `Book(\"Clean Code\", \"Robert C. Martin\", 39.99)`, Python:\n",
    "    - Reserva memoria para un nuevo objeto.\n",
    "    - Llama automáticamente a `__init__`, pasando `self` como referencia al nuevo objeto.\n",
    "    - Asigna los atributos."
   ]
  },
  {
   "cell_type": "code",
   "execution_count": 3,
   "id": "004c0a9e",
   "metadata": {},
   "outputs": [
    {
     "name": "stdout",
     "output_type": "stream",
     "text": [
      "Clean Code Robert C. Martin 39.99\n",
      "Refactoring Martin Fowler 45.5\n"
     ]
    }
   ],
   "source": [
    "b1 = Book(\"Clean Code\", \"Robert C. Martin\", 39.99)\n",
    "b2 = Book(\"Refactoring\", \"Martin Fowler\", 45.50)\n",
    "\n",
    "# Accedemos a los atributos de instancia\n",
    "print(b1.title, b1.author, b1.price)   # Clean Code Robert C. Martin 39.99\n",
    "print(b2.title, b2.author, b2.price)   # Refactoring Martin Fowler 45.5\n"
   ]
  },
  {
   "cell_type": "markdown",
   "id": "7174a110",
   "metadata": {},
   "source": [
    "## *4. Atributos de clase vs instancia*"
   ]
  },
  {
   "cell_type": "markdown",
   "id": "78ac8e04",
   "metadata": {},
   "source": [
    "\n",
    "- **Atributo de clase**: vive en la clase (`Book.DEFAULT_CURRENCY`).\n",
    "- **Atributo de instancia**: vive en cada objeto (`b1.price`).\n",
    "\n",
    "&nbsp;&nbsp;&nbsp;&nbsp;Si modificamos en la clase, afecta a todas las instancias que no hayan sobrescrito el valor.\n",
    "\n",
    "&nbsp;&nbsp;&nbsp;&nbsp;Si lo modificamos en una instancia, sombreamos el valor solo para esa instancia."
   ]
  },
  {
   "cell_type": "code",
   "execution_count": null,
   "id": "05f69f86",
   "metadata": {},
   "outputs": [
    {
     "name": "stdout",
     "output_type": "stream",
     "text": [
      "USD\n",
      "USD USD\n",
      "EUR EUR EUR\n",
      "EUR PEN EUR\n"
     ]
    }
   ],
   "source": [
    "# Atributo de clase (accesible desde clase o instancia)\n",
    "print(Book.DEFAULT_CURRENCY)  # USD\n",
    "print(b1.DEFAULT_CURRENCY, b2.DEFAULT_CURRENCY)  # USD USD\n",
    "\n",
    "# Cambiamos el valor en la clase\n",
    "Book.DEFAULT_CURRENCY = \"EUR\"\n",
    "print(Book.DEFAULT_CURRENCY, b1.DEFAULT_CURRENCY, b2.DEFAULT_CURRENCY)  # EUR EUR EUR\n",
    "\n",
    "# Sombreamos solo en una instancia\n",
    "b1.DEFAULT_CURRENCY = \"PEN\"\n",
    "print(Book.DEFAULT_CURRENCY, b1.DEFAULT_CURRENCY, b2.DEFAULT_CURRENCY)  # EUR PEN EUR\n"
   ]
  },
  {
   "cell_type": "markdown",
   "id": "844d1347",
   "metadata": {},
   "source": [
    "## *5. Diferencias con C++*"
   ]
  },
  {
   "cell_type": "markdown",
   "id": "020e9173",
   "metadata": {},
   "source": [
    "- 🔑 Cosas que notarás distintas si vienes de C++:\n",
    "    - No hay `private`/`protected` reales → usamos `_atributo` o `__atributo` (lo veremos en Parte 2).\n",
    "    - No hay sobrecarga de constructores(No se puede definir varios constructores con en C++) → usamos argumentos por defecto o `@classmethod`.\n",
    "    - El tipado es dinámico, pero usamos type hints (`str`, `float`) para claridad."
   ]
  },
  {
   "cell_type": "code",
   "execution_count": null,
   "id": "49c2db72",
   "metadata": {},
   "outputs": [],
   "source": [
    "# Acerca de la sobrecarga de constructores:\n",
    "# b1 = Book(\"Clean Code\", \"Robert C. Martin\", 39.99)\n",
    "# b2 = Book.from_title_price(\"Refactoring\", 45.50)\n",
    "# b3 = Book.empty()"
   ]
  }
 ],
 "metadata": {
  "kernelspec": {
   "display_name": "base",
   "language": "python",
   "name": "python3"
  },
  "language_info": {
   "codemirror_mode": {
    "name": "ipython",
    "version": 3
   },
   "file_extension": ".py",
   "mimetype": "text/x-python",
   "name": "python",
   "nbconvert_exporter": "python",
   "pygments_lexer": "ipython3",
   "version": "3.12.2"
  }
 },
 "nbformat": 4,
 "nbformat_minor": 5
}
