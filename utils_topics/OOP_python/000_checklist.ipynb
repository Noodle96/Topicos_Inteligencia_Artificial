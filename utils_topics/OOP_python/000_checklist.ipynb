{
 "cells": [
  {
   "cell_type": "markdown",
   "id": "648b790f",
   "metadata": {},
   "source": [
    "## 📊 **Progreso de la ruta (checklist)**"
   ]
  },
  {
   "cell_type": "markdown",
   "id": "ad7e6cf1",
   "metadata": {},
   "source": [
    "| Módulo/tema                                                                 | Estado |\n",
    "| --------------------------------------------------------------------------- | ------ |\n",
    "| 1) Fundamentos: clase, instancia, `self`, `__init__`, atributos             | ✅      |\n",
    "| 2) Encapsulamiento y `@property`                                            | ✅      |\n",
    "| 3) `@classmethod` y `@staticmethod` (constructores alternativos / fábricas) | ⬜      |\n",
    "| 4) Representación y comparación: `__repr__`, `__str__`, `__eq__`, orden     | ⬜      |\n",
    "| 5) Duck typing e iteración: `__iter__`, `__next__`                          | ⬜      |\n",
    "| 6) Composición vs herencia; clase `Library`                                 | ⬜      |\n",
    "| 7) Context managers (`with`): `__enter__`/`__exit__`                        | ⬜      |\n",
    "| 8) Abstracciones: `abc.ABC` y `typing.Protocol`                             | ⬜      |\n",
    "| 9) `@dataclass` y `__slots__`                                               | ⬜      |\n",
    "| 10) Descriptores: validaciones reutilizables                                | ⬜      |\n",
    "| 11) Excepciones de dominio                                                  | ⬜      |\n",
    "| 12) Mini-proyecto final (préstamos, repositorio, validaciones)              | ⬜      |\n"
   ]
  }
 ],
 "metadata": {
  "language_info": {
   "name": "python"
  }
 },
 "nbformat": 4,
 "nbformat_minor": 5
}
