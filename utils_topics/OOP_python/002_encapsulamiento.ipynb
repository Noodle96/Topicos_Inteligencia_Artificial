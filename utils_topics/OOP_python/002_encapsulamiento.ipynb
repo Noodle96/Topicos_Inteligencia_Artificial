{
 "cells": [
  {
   "cell_type": "markdown",
   "id": "ea77fc7d",
   "metadata": {},
   "source": [
    "## **Parte 2 — Encapsulamiento y @property**"
   ]
  },
  {
   "cell_type": "markdown",
   "id": "6d77eab1",
   "metadata": {},
   "source": [
    "## *0) Objetivos de aprendizaje*"
   ]
  },
  {
   "cell_type": "markdown",
   "id": "4b68e08c",
   "metadata": {},
   "source": [
    "- Entender **encapsulamiento en Python** y diferencias vs C++.\n",
    "- Usar **convenciones** de acceso: público, “protegido” (`_`), “privado” (`__` con *name mangling*).\n",
    "- Implementar **propiedades** con `@property` para **validar** y **controlar** atributos (estilo pythonic).\n",
    "- Aplicarlo al proyecto **Biblioteca** con la entidad `Book`."
   ]
  },
  {
   "cell_type": "markdown",
   "id": "497d7b4c",
   "metadata": {},
   "source": [
    "## *1) Público vs “protegido” vs “privado” en Python*"
   ]
  },
  {
   "cell_type": "markdown",
   "id": "809924b7",
   "metadata": {},
   "source": [
    "💡 Explicación\n",
    "- **Público**: acceso normal; forma parte de la API de la clase.\n",
    "- **“Protegido”** (`_atributo`): **convención** de “uso interno”. No hay bloqueo real (diferente a C++).\n",
    "- **“Privado”** (`__atributo`): activa **name mangling** → el atributo se renombra internamente a `_<NombreClase>__atributo`. No es inviolable, pero evita choques de nombres y accesos accidentales (especialmente en **herencia múltiple**).\n",
    "\n",
    "> En C++ el compilador impide acceder a protected/private.\n",
    "\n",
    "> En Python confiamos en convenciones y en interfaces con @property, abc y Protocol."
   ]
  },
  {
   "cell_type": "code",
   "execution_count": 4,
   "id": "a1673b81",
   "metadata": {},
   "outputs": [
    {
     "name": "stdout",
     "output_type": "stream",
     "text": [
      "soy público\n",
      "soy 'protegido' por convención\n",
      "Acceso directo a __private falló: 'AccessDemo' object has no attribute '__private'\n"
     ]
    }
   ],
   "source": [
    "from __future__ import annotations\n",
    "\n",
    "class AccessDemo:\n",
    "    def __init__(self) -> None:\n",
    "        self.public = \"soy público\"\n",
    "        self._protected = \"soy 'protegido' por convención\"\n",
    "        self.__private = \"soy privado con name mangling\"\n",
    "\n",
    "    def read_inside(self) -> tuple[str, str, str]:\n",
    "        \"\"\"Acceso interno a los tres atributos.\"\"\"\n",
    "        return (self.public, self._protected, self.__private)\n",
    "\n",
    "obj = AccessDemo()\n",
    "\n",
    "# Público: libre acceso\n",
    "pu = obj.public  # ✅\n",
    "print(pu) # soy público\n",
    "\n",
    "# \"Protegido\": accesible pero NO recomendado (convención)\n",
    "pro = obj._protected  # ⚠️\n",
    "print(pro) # soy 'protegido' por convención\n",
    "\n",
    "# Privado: falla el acceso directo\n",
    "try:\n",
    "    pri = obj.__private  # ❌ AttributeError\n",
    "    print(pri)\n",
    "except AttributeError as e:\n",
    "    print(\"Acceso directo a __private falló:\", e) # Acceso directo a __private falló: 'AccessDemo' object has no attribute '__private'\n"
   ]
  },
  {
   "cell_type": "code",
   "execution_count": 5,
   "id": "0ce3c5f9",
   "metadata": {},
   "outputs": [
    {
     "name": "stdout",
     "output_type": "stream",
     "text": [
      "Acceso interno: ('soy público', \"soy 'protegido' por convención\", 'soy privado con name mangling')\n",
      "Name-mangling: soy privado con name mangling\n"
     ]
    }
   ],
   "source": [
    "# Acceso interno (válido)\n",
    "print(\"Acceso interno:\", obj.read_inside()) # ('soy público', \"soy 'protegido' por convención\", 'soy privado con name mangling')\n",
    "\n",
    "# Name mangling (hack consciente)\n",
    "print(\"Name-mangling:\", obj._AccessDemo__private)  # ⚠️ úsalo solo para depuración/pedagogía # Name-mangling: soy privado con name mangling"
   ]
  },
  {
   "cell_type": "markdown",
   "id": "cf9866f1",
   "metadata": {},
   "source": [
    "## *2) `@property`: getters/setters pythonic (sin romper la API)*"
   ]
  },
  {
   "cell_type": "markdown",
   "id": "7467a2c9",
   "metadata": {},
   "source": [
    "💡 Explicación\n",
    "- En C++ usarías `getPrice()/setPrice()`.\n",
    "- En Python expones un **atributo** (`obj.price`) pero con **control** usando `@property`.\n",
    "- Ventajas:\n",
    "    - **Validación** al escribir.\n",
    "    - **API estable**: si más adelante cambias la lógica interna, el **código cliente no se rompe**.\n",
    "- Patrón recomendado: guarda el dato real en `_atributo` y expón la propiedad `atributo`.\n",
    "\n",
    "🧪 Código (aplicado a `Book.price`)"
   ]
  },
  {
   "cell_type": "code",
   "execution_count": 6,
   "id": "5cf0926f",
   "metadata": {},
   "outputs": [],
   "source": [
    "from typing import ClassVar\n",
    "\n",
    "class Book:\n",
    "    \"\"\"\n",
    "    Entidad de dominio: Libro.\n",
    "    - API pública: title, author, price (propiedad), currency (de clase)\n",
    "    - Internos: _price (convención de protegido), __internal_code (privado)\n",
    "    \"\"\"\n",
    "    DEFAULT_CURRENCY: ClassVar[str] = \"USD\"\n",
    "\n",
    "    def __init__(self, title: str, author: str, price: float) -> None:\n",
    "        self.title: str = title                    # público\n",
    "        self.author: str = author                  # público\n",
    "        self._price: float = float(price)          # \"protegido\": respaldo real de la propiedad\n",
    "        self.__internal_code: str = \"B-\" + title[:3].upper()  # privado: ejemplo de dato interno\n",
    "\n",
    "    # --- Propiedad 'price' (lectura) ---\n",
    "    @property\n",
    "    def price(self) -> float:\n",
    "        \"\"\"Precio de venta del libro (nunca negativo).\"\"\"\n",
    "        return self._price\n",
    "\n",
    "    # --- Propiedad 'price' (escritura con validación) ---\n",
    "    @price.setter\n",
    "    def price(self, value: float) -> None:\n",
    "        if value < 0:\n",
    "            raise ValueError(\"El precio no puede ser negativo\")\n",
    "        self._price = float(value)\n",
    "\n",
    "    # Método público para exponer algo derivado de lo privado\n",
    "    def reveal_code(self) -> str:\n",
    "        \"\"\"Devuelve un identificador interno legible (sin exponer el atributo privado directamente).\"\"\"\n",
    "        return self.__internal_code"
   ]
  },
  {
   "cell_type": "code",
   "execution_count": 8,
   "id": "0cba0b2b",
   "metadata": {},
   "outputs": [
    {
     "name": "stdout",
     "output_type": "stream",
     "text": [
      "39.99\n",
      "49.99\n"
     ]
    }
   ],
   "source": [
    "# Uso básico\n",
    "b1 = Book(\"Clean Code\", \"Robert C. Martin\", 39.99)\n",
    "print(b1.price)      # llama al getter # 39.99\n",
    "b1.price = 49.99     # llama al setter (valida)\n",
    "print(b1.price)      # 49.99"
   ]
  },
  {
   "cell_type": "code",
   "execution_count": 10,
   "id": "4f013eeb",
   "metadata": {},
   "outputs": [
    {
     "name": "stdout",
     "output_type": "stream",
     "text": [
      "Validación OK: El precio no puede ser negativo\n",
      "Internal: B-CLE\n",
      "Name-mangled: B-CLE\n"
     ]
    }
   ],
   "source": [
    "# Validación\n",
    "try:\n",
    "    b1.price = -1.0\n",
    "except ValueError as e:\n",
    "    print(\"Validación OK:\", e) # Validación OK: El precio no puede ser negativo\n",
    "\n",
    "# Acceso a 'privado' correcto: a través de método público\n",
    "print(\"Internal:\", b1.reveal_code()) # Internal: B-CLE\n",
    "\n",
    "# Name-mangling (no recomendado en producción)\n",
    "print(\"Name-mangled:\", b1._Book__internal_code)"
   ]
  },
  {
   "cell_type": "markdown",
   "id": "9073e4fa",
   "metadata": {},
   "source": [
    "## *3) “Protegido” que SÍ usarás: respaldo de propiedades*"
   ]
  },
  {
   "cell_type": "markdown",
   "id": "b9dd5445",
   "metadata": {},
   "source": [
    "💡 Explicación\n",
    "- En clases de dominio, el patrón `@property` + `self._campo` es **muy común**.\n",
    "- `self._campo` indica “no escribas aquí desde afuera; usa la **propiedad**”.\n",
    "- Permite centralizar reglas (p. ej., normalizar a `float`, evitar negativos, redondear, etc.).\n",
    "\n",
    "🧪 Código (pattern recomendado)"
   ]
  },
  {
   "cell_type": "code",
   "execution_count": 11,
   "id": "6fb651cf",
   "metadata": {},
   "outputs": [
    {
     "name": "stdout",
     "output_type": "stream",
     "text": [
      "45.5 <class 'float'>\n"
     ]
    }
   ],
   "source": [
    "class NormalizedFloat:\n",
    "    \"\"\"\n",
    "    Descriptor simple para normalizar a float.\n",
    "    (Te adelanto el concepto; descriptores profundos llegarán más adelante.)\n",
    "    \"\"\"\n",
    "    def __set_name__(self, owner, name):\n",
    "        self.private_name = \"_\" + name\n",
    "\n",
    "    def __get__(self, obj, objtype=None) -> float:\n",
    "        return getattr(obj, self.private_name)\n",
    "\n",
    "    def __set__(self, obj, value) -> None:\n",
    "        val = float(value)\n",
    "        setattr(obj, self.private_name, val)\n",
    "\n",
    "class BookWithDescriptor:\n",
    "    price = NormalizedFloat()  # usa descriptor para respaldar a _price\n",
    "\n",
    "    def __init__(self, title: str, price: float) -> None:\n",
    "        self.title = title\n",
    "        self.price = price  # pasa por el descriptor → float\n",
    "\n",
    "b = BookWithDescriptor(\"Refactoring\", \"45.50\")\n",
    "print(b.price, type(b.price))  # 45.5 <class 'float'>\n"
   ]
  },
  {
   "cell_type": "markdown",
   "id": "a7954a4d",
   "metadata": {},
   "source": [
    "## *4) “Privado” (__) y herencia: evitar choques de nombres*\n"
   ]
  },
  {
   "cell_type": "markdown",
   "id": "08fd1830",
   "metadata": {},
   "source": [
    "💡 Explicación\n",
    "- En **herencia múltiple**, dos clases podrían declarar el mismo nombre interno.\n",
    "- `__atributo` ayuda a **evitar colisiones** porque Python renombra internamente con el **prefijo de la clase**.\n",
    "- Úsalo cuando **realmente** necesites que un detalle sea interno y no “choque” en subclases.\n",
    "\n",
    "🧪 Código (colisión evitada con __x)"
   ]
  },
  {
   "cell_type": "code",
   "execution_count": null,
   "id": "047a239d",
   "metadata": {},
   "outputs": [
    {
     "name": "stdout",
     "output_type": "stream",
     "text": [
      "Desde Base.token(): base\n",
      "Acceso name-mangled Base: base\n",
      "Acceso name-mangled Mixin: mixin\n"
     ]
    }
   ],
   "source": [
    "class Base:\n",
    "    def __init__(self) -> None:\n",
    "        self.__token = \"base\"   # se renombra a _Base__token\n",
    "\n",
    "    def token(self) -> str:\n",
    "        return self.__token\n",
    "\n",
    "class Mixin:\n",
    "    def __init__(self) -> None:\n",
    "        self.__token = \"mixin\"  # se renombra a _Mixin__token\n",
    "    def token(self) -> str:\n",
    "        return self.__token\n",
    "\n",
    "# class Child(Mixin, Base):  \n",
    "class Child(Base, Mixin): # Desde Base.token(): base\n",
    "    def __init__(self) -> None:\n",
    "        Base.__init__(self)\n",
    "        Mixin.__init__(self)\n",
    "\n",
    "c = Child() # Child -> Mixin -> Base -> object : # Desde Base.token(): mixin\n",
    "            # Child -> Base -> Mixin -> object : # Desde Base.token(): base\n",
    "\n",
    "# Los dos __token coexisten sin choque:\n",
    "print(\"Desde Base.token():\", c.token())\n",
    "print(\"Acceso name-mangled Base:\", c._Base__token)\n",
    "print(\"Acceso name-mangled Mixin:\", c._Mixin__token)\n"
   ]
  },
  {
   "cell_type": "markdown",
   "id": "4665b3ec",
   "metadata": {},
   "source": [
    "## 5) *Buenas prácticas y “gotchas”*"
   ]
  },
  {
   "cell_type": "markdown",
   "id": "ed64ef3e",
   "metadata": {},
   "source": [
    "✅ Recomendado\n",
    "- Exponer API limpia: **propiedades** para campos con reglas.\n",
    "- `_atributo` como respaldo de la propiedad.\n",
    "- `__atributo` para detalles **muy internos** o para **evitar colisiones** en herencia múltiple.\n",
    "- Acompañar con **tests rápidos** (e.g., `assert`/`pytest`).\n",
    "\n",
    "⚠️ Gotchas\n",
    "- `__getattr__`/`__getattribute__` (temas avanzados) pueden romper acceso si se usan mal.\n",
    "- Asignar directamente `obj._campo` **salta validaciones**: úsalo solo si entiendes el impacto (debug o inicialización controlada).\n",
    "- `__private` **no es seguridad** criptográfica: es solo ofuscación a nivel de nombre."
   ]
  },
  {
   "cell_type": "markdown",
   "id": "889dd88b",
   "metadata": {},
   "source": [
    "## **6) Aplicación al proyecto: Book con price y stock**"
   ]
  },
  {
   "cell_type": "markdown",
   "id": "fe70e56a",
   "metadata": {},
   "source": [
    "💡 Explicación\n",
    "\n",
    "Ampliamos `Book` con:\n",
    "- `price` como **propiedad** (no negativo).\n",
    "- `stock` como **propiedad** (entero ≥ 0).\n",
    "- Un privado `__internal_code` (ejemplo de dato “muy interno”).\n",
    "- Método de dominio: `add_stock()` con validación.\n",
    "\n",
    "🧪 Código (versión de proyecto)"
   ]
  },
  {
   "cell_type": "code",
   "execution_count": 27,
   "id": "215411db",
   "metadata": {},
   "outputs": [],
   "source": [
    "from __future__ import annotations\n",
    "from typing import ClassVar\n",
    "\n",
    "class Book:\n",
    "    DEFAULT_CURRENCY: ClassVar[str] = \"USD\"\n",
    "\n",
    "    def __init__(self, title: str, author: str, price: float, stock: int = 0) -> None:\n",
    "        self.title: str = title\n",
    "        self.author: str = author\n",
    "        # Respaldo \"protegido\"\n",
    "        self._price: float = 0.0\n",
    "        self._stock: int = 0\n",
    "        # Privado (name mangling) solo como ejemplo\n",
    "        self.__internal_code: str = f\"B-{hash((title, author)) & 0xffff:x}\"\n",
    "        # Asignación vía propiedades para validar desde el inicio\n",
    "        self.price = price\n",
    "        self.stock = stock\n",
    "\n",
    "    # ---- price ----\n",
    "    @property\n",
    "    def price(self) -> float:\n",
    "        \"\"\"Precio no negativo.\"\"\"\n",
    "        return self._price\n",
    "\n",
    "    @price.setter\n",
    "    def price(self, value: float) -> None:\n",
    "        val = float(value)\n",
    "        if val < 0:\n",
    "            raise ValueError(\"El precio no puede ser negativo\")\n",
    "        self._price = val\n",
    "\n",
    "    # ---- stock ----\n",
    "    @property\n",
    "    def stock(self) -> int:\n",
    "        \"\"\"Unidades disponibles (entero >= 0).\"\"\"\n",
    "        return self._stock\n",
    "\n",
    "    @stock.setter\n",
    "    def stock(self, value: int) -> None:\n",
    "        if not isinstance(value, int):\n",
    "            raise TypeError(\"El stock debe ser int\")\n",
    "        if value < 0:\n",
    "            raise ValueError(\"El stock no puede ser negativo\")\n",
    "        self._stock = value\n",
    "\n",
    "    # Operación de dominio\n",
    "    def add_stock(self, units: int) -> None:\n",
    "        \"\"\"Agrega unidades al stock (>=1).\"\"\"\n",
    "        if not isinstance(units, int):\n",
    "            raise TypeError(\"units debe ser int\")\n",
    "        if units <= 0:\n",
    "            raise ValueError(\"units debe ser positivo\")\n",
    "        self._stock += units\n",
    "\n",
    "    # API controlada para el dato privado\n",
    "    def reveal_code(self) -> str:\n",
    "        return self.__internal_code\n"
   ]
  },
  {
   "cell_type": "code",
   "execution_count": 28,
   "id": "9ec48d8d",
   "metadata": {},
   "outputs": [
    {
     "name": "stdout",
     "output_type": "stream",
     "text": [
      "39.99\n"
     ]
    }
   ],
   "source": [
    "# Pruebas rápidas\n",
    "book = Book(\"Clean Code\", \"Robert C. Martin\", 39.99, stock=2)\n",
    "print(book.price) # 39.99\n",
    "# book.price = 49.5\n",
    "assert book.price == 39.99\n",
    "assert book.stock == 2\n",
    "book.price = 49.5\n",
    "book.add_stock(3)\n",
    "assert book.stock == 5"
   ]
  },
  {
   "cell_type": "code",
   "execution_count": 22,
   "id": "c593085c",
   "metadata": {},
   "outputs": [
    {
     "name": "stdout",
     "output_type": "stream",
     "text": [
      "Validación OK: precio negativo\n",
      "Validación OK: stock deberia ser int (TypeError)\n",
      "Validación OK: add_stock con 0\n",
      "\n",
      "OK Parte 2 (Book con price/stock y privado). Código interno: B-7160\n"
     ]
    }
   ],
   "source": [
    "\n",
    "\n",
    "# Validaciones\n",
    "try:\n",
    "    book.price = -1\n",
    "except ValueError:\n",
    "    print(\"Validación OK: precio negativo\")\n",
    "else:\n",
    "    raise AssertionError(\"Debió fallar precio negativo\")\n",
    "\n",
    "try:\n",
    "    book.stock = -3.9\n",
    "except ValueError:\n",
    "    print(\"Validación OK: stock negativo\")\n",
    "except TypeError:\n",
    "    print(\"Validación OK: stock deberia ser int (TypeError)\")\n",
    "else:\n",
    "    raise AssertionError(\"Debió fallar stock negativo\")\n",
    "\n",
    "try:\n",
    "    book.add_stock(0)\n",
    "except ValueError:\n",
    "    print(\"Validación OK: add_stock con 0\")\n",
    "else:\n",
    "    raise AssertionError(\"Debió fallar add_stock con 0\")\n",
    "\n",
    "print(\"\\nOK Parte 2 (Book con price/stock y privado). Código interno:\", book.reveal_code())\n"
   ]
  }
 ],
 "metadata": {
  "kernelspec": {
   "display_name": "base",
   "language": "python",
   "name": "python3"
  },
  "language_info": {
   "codemirror_mode": {
    "name": "ipython",
    "version": 3
   },
   "file_extension": ".py",
   "mimetype": "text/x-python",
   "name": "python",
   "nbconvert_exporter": "python",
   "pygments_lexer": "ipython3",
   "version": "3.12.2"
  }
 },
 "nbformat": 4,
 "nbformat_minor": 5
}
