{
 "cells": [
  {
   "cell_type": "markdown",
   "id": "1ef044f6",
   "metadata": {},
   "source": [
    "## **Parte 4 — Representación y Comparación**"
   ]
  },
  {
   "cell_type": "markdown",
   "id": "bb4087ed",
   "metadata": {},
   "source": [
    "## *1. ¿Por qué necesitamos representaciones especiales?*"
   ]
  },
  {
   "cell_type": "markdown",
   "id": "93a300db",
   "metadata": {},
   "source": [
    "> En Python, cuando imprimes un objeto, por defecto ves algo así:"
   ]
  },
  {
   "cell_type": "code",
   "execution_count": 51,
   "id": "45110b94",
   "metadata": {},
   "outputs": [
    {
     "name": "stdout",
     "output_type": "stream",
     "text": [
      "<__main__.Demo object at 0x7ed94c5f78c0>\n"
     ]
    }
   ],
   "source": [
    "class Demo:\n",
    "    pass\n",
    "\n",
    "d = Demo()\n",
    "print(d)     # <__main__.Demo object at 0x7f...>\n"
   ]
  },
  {
   "cell_type": "markdown",
   "id": "418a9292",
   "metadata": {},
   "source": [
    "- Esto no es informativo.\n",
    "- Para hacerlo útil, definimos:\n",
    "    - `__repr__` -> representación “oficial”, pensada para desarrolladores.\n",
    "    - `__str__` -> representación amigable, pensada para usuarios."
   ]
  },
  {
   "cell_type": "markdown",
   "id": "cb3f32d1",
   "metadata": {},
   "source": [
    "## *2. Ejemplo con Book*"
   ]
  },
  {
   "cell_type": "code",
   "execution_count": 52,
   "id": "d8436e40",
   "metadata": {},
   "outputs": [],
   "source": [
    "class Book:\n",
    "    def __init__(self, title, author, price):\n",
    "        self.title = title\n",
    "        self.author = author\n",
    "        self.price = float(price)\n",
    "\n",
    "    def __repr__(self):\n",
    "        # Representación oficial (útil para depuración y REPL)\n",
    "        return f\"Book(title={self.title!r}, author={self.author!r}, price={self.price!r})\"\n",
    "\n",
    "    def __str__(self):\n",
    "        # Representación amigable (para imprimir al usuario)\n",
    "        return f\"'{self.title}' by {self.author} - ${self.price:.2f}\"\n"
   ]
  },
  {
   "cell_type": "markdown",
   "id": "24d91d35",
   "metadata": {},
   "source": [
    "> Uso: "
   ]
  },
  {
   "cell_type": "code",
   "execution_count": 53,
   "id": "38f06821",
   "metadata": {},
   "outputs": [
    {
     "name": "stdout",
     "output_type": "stream",
     "text": [
      "Book(title='Clean Code', author='Robert C. Martin', price=39.99)\n",
      "'Clean Code' by Robert C. Martin - $39.99\n",
      "'Clean Code' by Robert C. Martin - $39.99\n"
     ]
    }
   ],
   "source": [
    "b1 = Book(\"Clean Code\", \"Robert C. Martin\", 39.99)\n",
    "\n",
    "print(repr(b1))  # Book(title='Clean Code', author='Robert C. Martin', price=39.99)\n",
    "print(str(b1))   # 'Clean Code' by Robert C. Martin - $39.99\n",
    "print(b1)        # por defecto usa __str__ si está definido\n"
   ]
  },
  {
   "cell_type": "markdown",
   "id": "a4dc6b69",
   "metadata": {},
   "source": [
    "> 📌 Nota: el !r en un f-string significa “usa repr()”."
   ]
  },
  {
   "cell_type": "markdown",
   "id": "eaa65b01",
   "metadata": {},
   "source": [
    "## *3. Comparación de objetos (`__eq__`, `__lt__`)*"
   ]
  },
  {
   "cell_type": "markdown",
   "id": "10b37cdd",
   "metadata": {},
   "source": [
    "&nbsp;&nbsp;&nbsp;&nbsp;Por defecto, comparar dos objetos compara su identidad en memoria:"
   ]
  },
  {
   "cell_type": "code",
   "execution_count": 54,
   "id": "bcec1683",
   "metadata": {},
   "outputs": [
    {
     "name": "stdout",
     "output_type": "stream",
     "text": [
      "False\n"
     ]
    }
   ],
   "source": [
    "b1 = Book(\"Clean Code\", \"Robert C. Martin\", 39.99)\n",
    "b2 = Book(\"Clean Code\", \"Robert C. Martin\", 39.99)\n",
    "\n",
    "print(b1 == b2)  # False (distintas instancias)\n"
   ]
  },
  {
   "cell_type": "markdown",
   "id": "540abcaa",
   "metadata": {},
   "source": [
    "&nbsp;&nbsp;&nbsp;&nbsp;Para comparar por contenido, redefinimos `__eq__`."
   ]
  },
  {
   "cell_type": "code",
   "execution_count": 57,
   "id": "2c930e89",
   "metadata": {},
   "outputs": [],
   "source": [
    "from functools import total_ordering\n",
    "\n",
    "@total_ordering\n",
    "class Book:\n",
    "    def __init__(self, title, author, price, money):\n",
    "        self.title = title\n",
    "        self.author = author\n",
    "        self.price = float(price)\n",
    "        self.money = money\n",
    "\n",
    "    def __eq__(self, other):\n",
    "        if not isinstance(other, Book):\n",
    "            return NotImplemented\n",
    "        return (self.title, self.author, self.price) == (other.title, other.author, other.price)\n",
    "    \n",
    "    def __lt__(self, other):\n",
    "        if not isinstance(other, Book):\n",
    "            return NotImplemented\n",
    "        if self.price != other.price:\n",
    "            return self.price < other.price\n",
    "        else:\n",
    "            return self.money < other.money\n",
    "    def __repr__(self):\n",
    "        # Representación oficial (útil para depuración y REPL)\n",
    "        return f\"Book(title={self.title!r}, author={self.author!r}, price={self.price!r}, money={self.money!r})\"\n",
    "\n",
    "    def __str__(self):\n",
    "        # Representación amigable (para imprimir al usuario)\n",
    "        return f\"'{self.title}' by {self.author} - ${self.price:.2f} - {self.money}\"\n"
   ]
  },
  {
   "cell_type": "markdown",
   "id": "40081ad9",
   "metadata": {},
   "source": [
    "> Uso: "
   ]
  },
  {
   "cell_type": "code",
   "execution_count": 59,
   "id": "e7f2514e",
   "metadata": {},
   "outputs": [
    {
     "name": "stdout",
     "output_type": "stream",
     "text": [
      "True\n",
      "True\n",
      "[Book(title='Clean Code', author='Robert C. Martin', price=39.99, money=1), Book(title='Clean Code', author='Robert C. Martin', price=39.99, money=50), Book(title='Refactoring', author='Martin Fowler', price=45.5, money=20), Book(title='Domain-Driven Design', author='Eric Evans', price=50.0, money=10)]\n"
     ]
    }
   ],
   "source": [
    "b1 = Book(\"Clean Code\", \"Robert C. Martin\", 39.99, 50)\n",
    "b2 = Book(\"Refactoring\", \"Martin Fowler\", 45.50, 20)\n",
    "b3 = Book(\"Domain-Driven Design\", \"Eric Evans\", 50.00, 10)\n",
    "b4 = Book(\"Clean Code\", \"Robert C. Martin\", 39.99,1)\n",
    "\n",
    "\n",
    "print(b1 == b4)   # True\n",
    "print(b1 < b2)    # True (39.99 < 45.50)\n",
    "\n",
    "books = [b3, b1, b2,b4]\n",
    "print(sorted(books))\n"
   ]
  },
  {
   "cell_type": "markdown",
   "id": "262a89e3",
   "metadata": {},
   "source": [
    "## *5. Herencia: `Ebook`*"
   ]
  },
  {
   "cell_type": "markdown",
   "id": "ed1c10fb",
   "metadata": {},
   "source": [
    "> Las subclases también pueden sobrescribir su representación o reutilizar la de la base."
   ]
  },
  {
   "cell_type": "code",
   "execution_count": 65,
   "id": "f7d558b1",
   "metadata": {},
   "outputs": [],
   "source": [
    "class Ebook(Book):\n",
    "    def __init__(self, title, author, price, money, filesize=0):\n",
    "        super().__init__(title, author, price, money)\n",
    "        self.filesize = filesize\n",
    "\n",
    "    def __repr__(self):\n",
    "        return f\"Ebook({self.title!r}, {self.author!r}, {self.price!r}, {self.money!r}, {self.filesize!r})\"\n",
    "\n",
    "    def __str__(self):\n",
    "        return f\"Ebook: '{self.title}' by {self.author} - ${self.price:.2f}, {self.money}, {self.filesize}MB\"\n"
   ]
  },
  {
   "cell_type": "code",
   "execution_count": 66,
   "id": "475caac6",
   "metadata": {},
   "outputs": [
    {
     "name": "stdout",
     "output_type": "stream",
     "text": [
      "Ebook('Clean Code', 'Robert C. Martin', 39.99, 100, 5)\n",
      "Ebook: 'Clean Code' by Robert C. Martin - $39.99, 100, 5MB\n"
     ]
    }
   ],
   "source": [
    "e1 = Ebook(\"Clean Code\", \"Robert C. Martin\", 39.99, 100,  filesize=5)\n",
    "print(repr(e1))  # Ebook('Clean Code', 'Robert C. Martin', 39.99, 5)\n",
    "print(str(e1))   # Ebook: 'Clean Code' by Robert C. Martin - $39.99, 5MB\n"
   ]
  }
 ],
 "metadata": {
  "kernelspec": {
   "display_name": "base",
   "language": "python",
   "name": "python3"
  },
  "language_info": {
   "codemirror_mode": {
    "name": "ipython",
    "version": 3
   },
   "file_extension": ".py",
   "mimetype": "text/x-python",
   "name": "python",
   "nbconvert_exporter": "python",
   "pygments_lexer": "ipython3",
   "version": "3.12.2"
  }
 },
 "nbformat": 4,
 "nbformat_minor": 5
}
