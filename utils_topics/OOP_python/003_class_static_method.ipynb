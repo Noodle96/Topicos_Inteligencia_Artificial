{
 "cells": [
  {
   "cell_type": "markdown",
   "id": "51bb5736",
   "metadata": {},
   "source": [
    "## **Parte 3 — `@classmethod` y `@staticmethod`**"
   ]
  },
  {
   "cell_type": "markdown",
   "id": "6e96885b",
   "metadata": {},
   "source": [
    "## *1. Diferencias clave entre `@classmethod`, `@staticmethod` y métodos normales*"
   ]
  },
  {
   "cell_type": "markdown",
   "id": "a9e65870",
   "metadata": {},
   "source": [
    "- **Método normal:**\n",
    "\n",
    "&nbsp;&nbsp;&nbsp;&nbsp;Recibe como primer parámetro `self` -> trabaja sobre una **instancia**."
   ]
  },
  {
   "cell_type": "code",
   "execution_count": 1,
   "id": "f7305b60",
   "metadata": {},
   "outputs": [
    {
     "name": "stdout",
     "output_type": "stream",
     "text": [
      "Instancia: <__main__.A object at 0x7d88385212b0>\n"
     ]
    }
   ],
   "source": [
    "class A:\n",
    "    def foo(self):  # usa self\n",
    "        print(\"Instancia:\", self)\n",
    "a = A()\n",
    "a.foo()  # Instancia: <__main__.A object at 0x7f...>"
   ]
  },
  {
   "cell_type": "markdown",
   "id": "7581a53a",
   "metadata": {},
   "source": [
    "- `@classmethod`:\n",
    "\n",
    "&nbsp;&nbsp;&nbsp;&nbsp;Recibe como primer parámetro `cls` -> trabaja sobre la **clase**, no sobre una instancia.\n",
    "\n",
    "&nbsp;&nbsp;&nbsp;&nbsp;Muy usado como **constructor alternativo** (simula “sobrecarga de constructores” que en C++ sí existe)."
   ]
  },
  {
   "cell_type": "code",
   "execution_count": null,
   "id": "7476c486",
   "metadata": {},
   "outputs": [
    {
     "name": "stdout",
     "output_type": "stream",
     "text": [
      "Clase: <class '__main__.A'>\n"
     ]
    }
   ],
   "source": [
    "class A:\n",
    "    @classmethod\n",
    "    def bar(cls):\n",
    "        print(\"Clase:\", cls)\n",
    "\n",
    "a = A()\n",
    "a.bar()  # Clase: <class '__main__.A'>  \n"
   ]
  },
  {
   "cell_type": "markdown",
   "id": "2c11acf1",
   "metadata": {},
   "source": [
    "- `@staticmethod`:\n",
    "\n",
    "&nbsp;&nbsp;&nbsp;&nbsp;No recibe ni `self` ni `cls`.\n",
    "\n",
    "&nbsp;&nbsp;&nbsp;&nbsp;Es solo una función dentro de la clase, usada por organización.\n",
    "\n",
    "&nbsp;&nbsp;&nbsp;&nbsp;No depende ni de la clase ni de la instancia."
   ]
  },
  {
   "cell_type": "code",
   "execution_count": 3,
   "id": "d882f92c",
   "metadata": {},
   "outputs": [
    {
     "name": "stdout",
     "output_type": "stream",
     "text": [
      "8\n"
     ]
    }
   ],
   "source": [
    "class A:\n",
    "    @staticmethod\n",
    "    def baz(x, y):\n",
    "        return x + y\n",
    "\n",
    "a = A()\n",
    "print(a.baz(3, 5))  # 8"
   ]
  },
  {
   "cell_type": "markdown",
   "id": "035308fb",
   "metadata": {},
   "source": [
    "## *2. Aplicación al proyecto: clase `Book`*"
   ]
  },
  {
   "cell_type": "markdown",
   "id": "f2a4b7c4",
   "metadata": {},
   "source": [
    "Queremos poder crear libros de diferentes maneras:\n",
    "- Constructor normal (`__init__`).\n",
    "- Desde un diccionario (`from_dict`).\n",
    "- Un libro vacío (`empty`).\n",
    "- Validaciones con un método estático auxiliar."
   ]
  },
  {
   "cell_type": "code",
   "execution_count": 16,
   "id": "6dbbff4e",
   "metadata": {},
   "outputs": [],
   "source": [
    "from __future__ import annotations\n",
    "from typing import ClassVar\n",
    "\n",
    "class Book:\n",
    "    DEFAULT_CURRENCY: ClassVar[str] = \"USD\"\n",
    "\n",
    "    def __init__(self, title: str, author: str, price: float) -> None:\n",
    "        self.title = title\n",
    "        self.author = author\n",
    "        self.price = float(price)\n",
    "\n",
    "    # --- Constructor alternativo desde un dict ---\n",
    "    @classmethod\n",
    "    def from_dict(cls, data: dict[str, str | float]) -> Book:\n",
    "        \"\"\"Crea un libro a partir de un diccionario con keys title, author, price\"\"\"\n",
    "        return cls(data[\"titl\"], data[\"author\"], float(data[\"price\"]))\n",
    "    \n",
    "    @classmethod\n",
    "    def from_title_price(cls, title: str, price: float) -> Book:\n",
    "        \"\"\"Crea un libro con autor 'Unknown' por defecto\"\"\"\n",
    "        return cls(title, \"Unknown\", price)\n",
    "\n",
    "    # --- Constructor alternativo vacío ---\n",
    "    @classmethod\n",
    "    def empty(cls) -> Book:\n",
    "        \"\"\"Crea un libro vacío con valores por defecto\"\"\"\n",
    "        return cls(\"Untitled\", \"Unknown\", 0.0)\n",
    "\n",
    "    # --- Método estático auxiliar ---\n",
    "    @staticmethod\n",
    "    def validate_price(price: float) -> bool:\n",
    "        \"\"\"Valida que el precio sea correcto (no negativo).\"\"\"\n",
    "        return price >= 0\n"
   ]
  },
  {
   "cell_type": "code",
   "execution_count": 14,
   "id": "1a1d2416",
   "metadata": {},
   "outputs": [
    {
     "name": "stdout",
     "output_type": "stream",
     "text": [
      "True\n",
      "False\n"
     ]
    }
   ],
   "source": [
    "# Constructor normal\n",
    "b1 = Book(\"Clean Code\", \"Robert C. Martin\", 39.99)\n",
    "\n",
    "# Constructor alternativo desde diccionario\n",
    "data = {\"titl\": \"Refactoring\", \"author\": \"Martin Fowler\", \"price\": 45.50}\n",
    "b2 = Book.from_dict(data)\n",
    "\n",
    "# Constructor alternativo vacío\n",
    "b3 = Book.empty()\n",
    "\n",
    "# Validación de precio con método estático\n",
    "print(Book.validate_price(10.0))   # True\n",
    "print(Book.validate_price(-5.0))   # False\n"
   ]
  },
  {
   "cell_type": "code",
   "execution_count": 17,
   "id": "9ae3621b",
   "metadata": {},
   "outputs": [],
   "source": [
    "b4 = Book.from_title_price(\"The Pragmatic Programmer\", 42.0)\n",
    "assert b4.author == \"Unknown\""
   ]
  },
  {
   "cell_type": "markdown",
   "id": "bbee6140",
   "metadata": {},
   "source": [
    "## *3. Explicación*"
   ]
  },
  {
   "cell_type": "markdown",
   "id": "ddd1789b",
   "metadata": {},
   "source": [
    "- `from_dict` usa `cls(...)`. Esto significa que si más adelante heredas de Book,\n",
    "ese constructor alternativo creará instancias de la subclase automáticamente. (Esto es lo que lo diferencia de un simple `staticmethod`).\n",
    "\n",
    "- `empty` es una forma explícita de crear un objeto con valores predefinidos. En C++ esto sería un **constructor sobrecargado sin parámetros**.\n",
    "\n",
    "- `validate_price` es un método **independiente del estado**.\n",
    "Podría estar fuera de la clase, pero mantenerlo dentro la hace más organizada."
   ]
  },
  {
   "cell_type": "markdown",
   "id": "12352c7d",
   "metadata": {},
   "source": [
    "- En c++"
   ]
  },
  {
   "cell_type": "markdown",
   "id": "95b8c371",
   "metadata": {},
   "source": [
    "```cpp\n",
    "class Book {\n",
    "public:\n",
    "    string title, author;\n",
    "    double price;\n",
    "\n",
    "    // Constructor normal\n",
    "    Book(string t, string a, double p): title(t), author(a), price(p) {}\n",
    "\n",
    "    // Constructor vacío\n",
    "    Book(): title(\"Untitled\"), author(\"Unknown\"), price(0.0) {}\n",
    "\n",
    "    // Método estático\n",
    "    static bool validate_price(double p) {\n",
    "        return p >= 0;\n",
    "    }\n",
    "};\n",
    "\n",
    "```"
   ]
  },
  {
   "cell_type": "markdown",
   "id": "0ee26e60",
   "metadata": {},
   "source": [
    "## *4. `@classmethod` vs `@staticmethod` en herencia*"
   ]
  },
  {
   "cell_type": "markdown",
   "id": "d1f993a7",
   "metadata": {},
   "source": [
    "> Cuando defines un método de clase:"
   ]
  },
  {
   "cell_type": "code",
   "execution_count": null,
   "id": "c3887f68",
   "metadata": {},
   "outputs": [],
   "source": [
    "class Book:\n",
    "    def __init__(self, title, author, price):\n",
    "        self.title = title\n",
    "        self.author = author\n",
    "        self.price = price\n",
    "\n",
    "    @classmethod\n",
    "    def from_dict(cls, data: dict):\n",
    "        return cls(data[\"title\"], data[\"author\"], data[\"price\"])\n"
   ]
  },
  {
   "cell_type": "markdown",
   "id": "7a87c42a",
   "metadata": {},
   "source": [
    "- El primer parámetro es `cls`, que representa **la clase sobre la que se llama el método.**\n",
    "- Eso significa que si heredas de `Book`, el `cls` ya no será `Book`, sino la **subclase**.\n",
    "- Y como devolvemos `cls(...)`, lo que se crea es una instancia de esa **subclase**, no de la clase base."
   ]
  },
  {
   "cell_type": "markdown",
   "id": "21781702",
   "metadata": {},
   "source": [
    "> Ejemplo práctico:"
   ]
  },
  {
   "cell_type": "code",
   "execution_count": 24,
   "id": "6320e9ac",
   "metadata": {},
   "outputs": [
    {
     "name": "stdout",
     "output_type": "stream",
     "text": [
      "<class '__main__.Book'>\n",
      "<class '__main__.Ebook'>\n"
     ]
    }
   ],
   "source": [
    "class Book:\n",
    "    def __init__(self, title, author, price):\n",
    "        self.title = title\n",
    "        self.author = author\n",
    "        self.price = price\n",
    "\n",
    "    @classmethod\n",
    "    def from_dict(cls, data: dict):\n",
    "        return cls(**data)   # desempaqueta todo el dict como argumentos\n",
    "\n",
    "\n",
    "# Subclase\n",
    "class Ebook(Book):\n",
    "    def __init__(self, title, author, price, filesize):\n",
    "        super().__init__(title, author, price)\n",
    "        self.filesize = filesize\n",
    "\n",
    "\n",
    "# Uso\n",
    "data = {\"title\": \"Refactoring\", \"author\": \"Martin Fowler\", \"price\": 45.50}\n",
    "b1 = Book.from_dict(data)   # aquí cls = Book\n",
    "print(type(b1))             # <class '__main__.Book'>\n",
    "\n",
    "data2 = {\"title\": \"Clean Code\", \"author\": \"Robert C. Martin\", \"price\": 39.99, \"filesize\": 2.5}\n",
    "b2 = Ebook.from_dict(data2)  # aquí cls = Ebook\n",
    "print(type(b2))             # <class '__main__.Ebook'>\n",
    "\n",
    "\n"
   ]
  }
 ],
 "metadata": {
  "kernelspec": {
   "display_name": "base",
   "language": "python",
   "name": "python3"
  },
  "language_info": {
   "codemirror_mode": {
    "name": "ipython",
    "version": 3
   },
   "file_extension": ".py",
   "mimetype": "text/x-python",
   "name": "python",
   "nbconvert_exporter": "python",
   "pygments_lexer": "ipython3",
   "version": "3.12.2"
  }
 },
 "nbformat": 4,
 "nbformat_minor": 5
}
