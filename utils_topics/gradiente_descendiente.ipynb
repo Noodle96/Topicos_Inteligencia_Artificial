{
  "nbformat": 4,
  "nbformat_minor": 0,
  "metadata": {
    "colab": {
      "provenance": [],
      "authorship_tag": "ABX9TyPl73KJBcQh43nqFt6wif92",
      "include_colab_link": true
    },
    "kernelspec": {
      "name": "python3",
      "display_name": "Python 3"
    },
    "language_info": {
      "name": "python"
    }
  },
  "cells": [
    {
      "cell_type": "markdown",
      "metadata": {
        "id": "view-in-github",
        "colab_type": "text"
      },
      "source": [
        "<a href=\"https://colab.research.google.com/github/Noodle96/Topicos_Inteligencia_Artificial/blob/main/utils_topics/gradiente_descendiente.ipynb\" target=\"_parent\"><img src=\"https://colab.research.google.com/assets/colab-badge.svg\" alt=\"Open In Colab\"/></a>"
      ]
    },
    {
      "cell_type": "code",
      "source": [
        "import matplotlib.pyplot as plt\n",
        "from numpy.random import randint\n",
        "from numpy import linspace"
      ],
      "metadata": {
        "id": "Pde0gr1MfaUY"
      },
      "execution_count": 57,
      "outputs": []
    },
    {
      "cell_type": "code",
      "source": [
        "# Ejemplo del gradiente descendente aplicado a la función y = x^2 + 1\n",
        "# La ecuación matemática para el gradiente (derivada) es = 2*x\n",
        "\n",
        "x_inicial = randint(30)\n",
        "print('x_inicial = ', str(x_inicial))\n",
        "alpha = 0.1\n",
        "n_iteraciones = 15\n",
        "iteraciones = []\n",
        "y = []\n",
        "print(type(iteraciones))\n",
        "print(type(y))\n",
        "\n",
        "x = x_inicial\n",
        "print(\"x: \",x)"
      ],
      "metadata": {
        "colab": {
          "base_uri": "https://localhost:8080/"
        },
        "id": "2TIkgTWXfiq0",
        "outputId": "b2f8509d-52c6-43d0-c86a-3fb69837994f"
      },
      "execution_count": 60,
      "outputs": [
        {
          "output_type": "stream",
          "name": "stdout",
          "text": [
            "x_inicial =  12\n",
            "<class 'list'>\n",
            "<class 'list'>\n",
            "x:  12\n"
          ]
        }
      ]
    },
    {
      "cell_type": "code",
      "execution_count": 61,
      "metadata": {
        "colab": {
          "base_uri": "https://localhost:8080/",
          "height": 1000
        },
        "id": "NIs0RtX8fQA-",
        "outputId": "cb297f6a-649b-4697-8833-0898a2f4db47"
      },
      "outputs": [
        {
          "output_type": "stream",
          "name": "stdout",
          "text": [
            "------------------------\n",
            "iteración  1\n",
            "x =  9.6 , y =  93.16\n",
            "------------------------\n",
            "iteración  2\n",
            "x =  7.68 , y =  59.9824\n",
            "------------------------\n",
            "iteración  3\n",
            "x =  6.144 , y =  38.748736\n",
            "------------------------\n",
            "iteración  4\n",
            "x =  4.9152000000000005 , y =  25.159191040000003\n",
            "------------------------\n",
            "iteración  5\n",
            "x =  3.9321600000000005 , y =  16.461882265600003\n",
            "------------------------\n",
            "iteración  6\n",
            "x =  3.1457280000000005 , y =  10.895604649984003\n",
            "------------------------\n",
            "iteración  7\n",
            "x =  2.5165824000000003 , y =  7.333186975989761\n",
            "------------------------\n",
            "iteración  8\n",
            "x =  2.0132659200000003 , y =  5.053239664633447\n",
            "------------------------\n",
            "iteración  9\n",
            "x =  1.6106127360000002 , y =  3.5940733853654065\n",
            "------------------------\n",
            "iteración  10\n",
            "x =  1.2884901888000002 , y =  2.66020696663386\n",
            "------------------------\n",
            "iteración  11\n",
            "x =  1.0307921510400002 , y =  2.062532458645671\n",
            "------------------------\n",
            "iteración  12\n",
            "x =  0.8246337208320001 , y =  1.6800207735332293\n",
            "------------------------\n",
            "iteración  13\n",
            "x =  0.6597069766656001 , y =  1.4352132950612666\n",
            "------------------------\n",
            "iteración  14\n",
            "x =  0.5277655813324801 , y =  1.2785365088392107\n",
            "------------------------\n",
            "iteración  15\n",
            "x =  0.4222124650659841 , y =  1.1782633656570949\n"
          ]
        },
        {
          "output_type": "display_data",
          "data": {
            "text/plain": [
              "<Figure size 640x480 with 2 Axes>"
            ],
            "image/png": "[encoded data removed]"
          },
          "metadata": {}
        }
      ],
      "source": [
        "for i in range(n_iteraciones):\n",
        "\tprint('------------------------')\n",
        "\tprint('iteración ', str(i+1))\n",
        "\n",
        "\t# Calcular gradiente\n",
        "\tgradiente = 2*x\n",
        "\n",
        "\t# Actualizar \"x\" usando gradiente descendente\n",
        "\tx = x - alpha*gradiente\n",
        "\n",
        "\t# Almacenar iteración y valor correspondiente\n",
        "\ty.append(x**2 + 1)\n",
        "\titeraciones.append(i+1)\n",
        "\n",
        "\t# Imprimir resultados\n",
        "\tprint('x = ', str(x), ', y = ', str(x**2+1))\n",
        "\n",
        "plt.subplot(1,3,1)\n",
        "plt.plot(iteraciones,y)\n",
        "plt.scatter(iteraciones, y, color='b', marker='o')  # Cambiar plot por scatter\n",
        "plt.axhline(y=1, color='r', linestyle='-', label='Línea horizontal')  # Línea horizontal en y = 1\n",
        "# plt.legend()\n",
        "plt.xlabel('Iteración')\n",
        "plt.ylabel('y')\n",
        "\n",
        "X = linspace(-5,5,100)\n",
        "Y = X**2 + 1\n",
        "plt.subplot(1,3,2)\n",
        "plt.plot(X,Y,0.0,1.0,'ro')\n",
        "plt.xlabel('x')\n",
        "plt.ylabel('y')\n",
        "\n",
        "plt.show()"
      ]
    }
  ]
}