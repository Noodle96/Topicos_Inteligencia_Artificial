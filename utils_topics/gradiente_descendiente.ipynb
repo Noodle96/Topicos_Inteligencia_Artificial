{
  "nbformat": 4,
  "nbformat_minor": 0,
  "metadata": {
    "colab": {
      "provenance": [],
      "authorship_tag": "ABX9TyNZjnHx4DAYCDP2tPw17lgE",
      "include_colab_link": true
    },
    "kernelspec": {
      "name": "python3",
      "display_name": "Python 3"
    },
    "language_info": {
      "name": "python"
    }
  },
  "cells": [
    {
      "cell_type": "markdown",
      "metadata": {
        "id": "view-in-github",
        "colab_type": "text"
      },
      "source": [
        "<a href=\"https://colab.research.google.com/github/Noodle96/Topicos_Inteligencia_Artificial/blob/main/utils_topics/gradiente_descendiente.ipynb\" target=\"_parent\"><img src=\"https://colab.research.google.com/assets/colab-badge.svg\" alt=\"Open In Colab\"/></a>"
      ]
    },
    {
      "cell_type": "code",
      "source": [
        "import matplotlib.pyplot as plt\n",
        "from numpy.random import randint\n",
        "from numpy import linspace"
      ],
      "metadata": {
        "id": "Pde0gr1MfaUY"
      },
      "execution_count": 1,
      "outputs": []
    },
    {
      "cell_type": "code",
      "source": [
        "# Ejemplo del gradiente descendente aplicado a la función y = x^2 + 1\n",
        "# La ecuación matemática para el gradiente (derivada) es = 2*x\n",
        "\n",
        "x_inicial = randint(10)\n",
        "print('x_inicial = ', str(x_inicial))\n",
        "alpha = 0.1\n",
        "n_iteraciones = 15\n",
        "iteraciones = []\n",
        "y = []\n",
        "print(type(iteraciones))\n",
        "print(type(y))\n",
        "\n",
        "x = x_inicial\n",
        "print(\"x: \",x)"
      ],
      "metadata": {
        "colab": {
          "base_uri": "https://localhost:8080/"
        },
        "id": "2TIkgTWXfiq0",
        "outputId": "9d0da4f7-1582-4710-8a9f-6ce669bf28a7"
      },
      "execution_count": 9,
      "outputs": [
        {
          "output_type": "stream",
          "name": "stdout",
          "text": [
            "x_inicial =  3\n",
            "<class 'list'>\n",
            "<class 'list'>\n",
            "x:  3\n"
          ]
        }
      ]
    },
    {
      "cell_type": "code",
      "execution_count": 10,
      "metadata": {
        "colab": {
          "base_uri": "https://localhost:8080/",
          "height": 1000
        },
        "id": "NIs0RtX8fQA-",
        "outputId": "6124ee5f-b077-4f54-ddfb-3964c7d47081"
      },
      "outputs": [
        {
          "output_type": "stream",
          "name": "stdout",
          "text": [
            "------------------------\n",
            "iteración  1\n",
            "x =  2.4 , y =  6.76\n",
            "------------------------\n",
            "iteración  2\n",
            "x =  1.92 , y =  4.6864\n",
            "------------------------\n",
            "iteración  3\n",
            "x =  1.536 , y =  3.359296\n",
            "------------------------\n",
            "iteración  4\n",
            "x =  1.2288000000000001 , y =  2.50994944\n",
            "------------------------\n",
            "iteración  5\n",
            "x =  0.9830400000000001 , y =  1.9663676416000002\n",
            "------------------------\n",
            "iteración  6\n",
            "x =  0.7864320000000001 , y =  1.618475290624\n",
            "------------------------\n",
            "iteración  7\n",
            "x =  0.6291456000000001 , y =  1.39582418599936\n",
            "------------------------\n",
            "iteración  8\n",
            "x =  0.5033164800000001 , y =  1.2533274790395905\n",
            "------------------------\n",
            "iteración  9\n",
            "x =  0.40265318400000005 , y =  1.1621295865853378\n",
            "------------------------\n",
            "iteración  10\n",
            "x =  0.32212254720000005 , y =  1.1037629354146163\n",
            "------------------------\n",
            "iteración  11\n",
            "x =  0.25769803776000005 , y =  1.0664082786653544\n",
            "------------------------\n",
            "iteración  12\n",
            "x =  0.20615843020800004 , y =  1.0425012983458268\n",
            "------------------------\n",
            "iteración  13\n",
            "x =  0.16492674416640002 , y =  1.0272008309413292\n",
            "------------------------\n",
            "iteración  14\n",
            "x =  0.13194139533312002 , y =  1.0174085318024506\n",
            "------------------------\n",
            "iteración  15\n",
            "x =  0.10555311626649602 , y =  1.0111414603535684\n"
          ]
        },
        {
          "output_type": "display_data",
          "data": {
            "text/plain": [
              "<Figure size 640x480 with 2 Axes>"
            ],
            "image/png": "[encoded data removed]"
          },
          "metadata": {}
        }
      ],
      "source": [
        "for i in range(n_iteraciones):\n",
        "\tprint('------------------------')\n",
        "\tprint('iteración ', str(i+1))\n",
        "\n",
        "\t# Calcular gradiente\n",
        "\tgradiente = 2*x\n",
        "\n",
        "\t# Actualizar \"x\" usando gradiente descendente\n",
        "\tx = x - alpha*gradiente\n",
        "\n",
        "\t# Almacenar iteración y valor correspondiente\n",
        "\ty.append(x**2 + 1)\n",
        "\titeraciones.append(i+1)\n",
        "\n",
        "\t# Imprimir resultados\n",
        "\tprint('x = ', str(x), ', y = ', str(x**2+1))\n",
        "\n",
        "plt.subplot(1,2,1)\n",
        "plt.plot(iteraciones,y)\n",
        "plt.xlabel('Iteración')\n",
        "plt.ylabel('y')\n",
        "\n",
        "X = linspace(-5,5,100)\n",
        "Y = X**2 + 1\n",
        "plt.subplot(1,2,2)\n",
        "plt.plot(X,Y,0.0,1.0,'ro')\n",
        "plt.xlabel('x')\n",
        "plt.ylabel('y')\n",
        "\n",
        "plt.show()"
      ]
    }
  ]
}