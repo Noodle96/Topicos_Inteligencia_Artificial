{
 "cells": [
  {
   "cell_type": "markdown",
   "id": "6b76e20b",
   "metadata": {},
   "source": [
    "# ⚡ CPU vs CUDA (GPU) en PyTorch\n",
    "\n",
    "En PyTorch, cada **tensor** y cada **modelo** vive en un *device* (dispositivo).  \n",
    "Los más comunes son:\n",
    "\n",
    "- `cpu`: Procesador central de la computadora.\n",
    "- `cuda`: GPU de NVIDIA, usando la librería CUDA.\n",
    "\n",
    "---\n",
    "\n",
    "## 🔹 1. CPU (Central Processing Unit)\n",
    "\n",
    "- Es el procesador principal de tu computadora.\n",
    "- Tiene **pocos núcleos muy potentes**.\n",
    "- Está diseñado para manejar muchas tareas distintas, como:\n",
    "  - Control del sistema operativo.\n",
    "  - Tareas secuenciales y lógicas.\n",
    "  - Entrada/Salida (I/O).\n",
    "\n",
    "**En PyTorch:**\n",
    "```python\n",
    "device = torch.device(\"cpu\")\n",
    "x = torch.randn(3, 4, device=device)\n",
    "print(x.device)  # cpu"
   ]
  },
  {
   "cell_type": "markdown",
   "id": "c93c53fe",
   "metadata": {},
   "source": [
    "➡️ El tensor vive en la RAM y todas las operaciones se ejecutan en CPU.\n"
   ]
  },
  {
   "cell_type": "markdown",
   "id": "c0e73ea9",
   "metadata": {},
   "source": [
    "## 🔹 2. CUDA (GPU de NVIDIA)\n",
    "\n",
    "- CUDA = Compute Unified Device Architecture, la API de NVIDIA para usar la GPU.\n",
    "- Una GPU (tarjeta gráfica) tiene miles de núcleos pequeños diseñados para paralelizar operaciones.\n",
    "- Ideal para:\n",
    "    - Multiplicaciones de matrices grandes.\n",
    "    - Operaciones vectorizadas.\n",
    "    - Entrenamiento de redes neuronales (miles/millones de pesos en paralelo).\n",
    "\n",
    "**En PyTorch:**\n",
    "```python\n",
    "device = torch.device(\"cuda\")   # o \"cuda:0\" si tienes varias\n",
    "x = torch.randn(1000, 1000, device=device)"
   ]
  },
  {
   "cell_type": "markdown",
   "id": "6add6f06",
   "metadata": {},
   "source": [
    "→ El tensor se guarda en la memoria VRAM de la GPU y todas las operaciones se ejecutan ahí."
   ]
  },
  {
   "cell_type": "code",
   "execution_count": null,
   "id": "ac6e368f",
   "metadata": {},
   "outputs": [
    {
     "name": "stdout",
     "output_type": "stream",
     "text": [
      "Using device: cpu\n",
      "CPU time: 16.25542664527893\n"
     ]
    }
   ],
   "source": [
    "import torch\n",
    "import time\n",
    "\n",
    "# CPU\n",
    "device_cpu = torch.device(\"cpu\")\n",
    "print(\"Using device:\", device_cpu)\n",
    "a_cpu = torch.randn(10000, 10000, device=device_cpu)\n",
    "b_cpu = torch.randn(10000, 10000, device=device_cpu)\n",
    "\n",
    "start = time.time()\n",
    "c_cpu = a_cpu @ b_cpu\n",
    "print(\"CPU time:\", time.time() - start)\n"
   ]
  },
  {
   "cell_type": "code",
   "execution_count": 10,
   "id": "60ccae0c",
   "metadata": {},
   "outputs": [
    {
     "name": "stdout",
     "output_type": "stream",
     "text": [
      "Using device: cuda\n",
      "GPU time: 0.5716845989227295\n"
     ]
    }
   ],
   "source": [
    "# CUDA\n",
    "device_gpu = torch.device(\"cuda\")\n",
    "print(\"Using device:\", device_gpu)\n",
    "a_gpu = torch.randn(10000, 10000, device=device_gpu)\n",
    "b_gpu = torch.randn(10000, 10000, device=device_gpu)\n",
    "\n",
    "torch.cuda.synchronize()  # asegurar timings correctos\n",
    "start = time.time()\n",
    "c_gpu = a_gpu @ b_gpu\n",
    "torch.cuda.synchronize()\n",
    "print(\"GPU time:\", time.time() - start)"
   ]
  }
 ],
 "metadata": {
  "kernelspec": {
   "display_name": "base",
   "language": "python",
   "name": "python3"
  },
  "language_info": {
   "codemirror_mode": {
    "name": "ipython",
    "version": 3
   },
   "file_extension": ".py",
   "mimetype": "text/x-python",
   "name": "python",
   "nbconvert_exporter": "python",
   "pygments_lexer": "ipython3",
   "version": "3.12.2"
  }
 },
 "nbformat": 4,
 "nbformat_minor": 5
}
