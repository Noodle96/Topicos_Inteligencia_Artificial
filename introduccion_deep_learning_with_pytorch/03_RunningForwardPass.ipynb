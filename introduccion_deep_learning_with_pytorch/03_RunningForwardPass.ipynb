{
 "cells": [
  {
   "cell_type": "markdown",
   "metadata": {
    "colab_type": "text",
    "id": "view-in-github"
   },
   "source": [
    "<a href=\"https://colab.research.google.com/github/Noodle96/Topicos_Inteligencia_Artificial/blob/main/03_RunningForwardPass.ipynb\" target=\"_parent\"><img src=\"https://colab.research.google.com/assets/colab-badge.svg\" alt=\"Open In Colab\"/></a>"
   ]
  },
  {
   "cell_type": "markdown",
   "metadata": {
    "id": "PDDpTePOU4B9"
   },
   "source": [
    "## **Running a forward pass**"
   ]
  },
  {
   "cell_type": "markdown",
   "metadata": {
    "id": "5zgshFcdVOo0"
   },
   "source": [
    "### **Binary classification: forward pass**"
   ]
  },
  {
   "cell_type": "code",
   "execution_count": 37,
   "metadata": {
    "id": "RpYnU71XVOa8"
   },
   "outputs": [],
   "source": [
    "import torch\n",
    "import torch.nn as nn"
   ]
  },
  {
   "cell_type": "code",
   "execution_count": 38,
   "metadata": {
    "colab": {
     "base_uri": "https://localhost:8080/"
    },
    "id": "rnLVvV4OF4EP",
    "outputId": "7aee83b9-71e0-47d2-c1f6-048f68504823"
   },
   "outputs": [
    {
     "name": "stdout",
     "output_type": "stream",
     "text": [
      "torch.Size([5, 6])\n",
      "torch.float32\n"
     ]
    }
   ],
   "source": [
    "# Create input data of shape 5x6\n",
    "input_data = torch.tensor(\n",
    "    [[-0.4421, 1.5207, 2.0607, -0.3647, 0.4691, 0.0946],\n",
    "    [-0.9155, -0.0475, -1.3645,0.6336, -1.9520, -0.3398],\n",
    "    [ 0.7406, 1.6763, -0.8511, 0.2432, 0.1123, -0.0633],\n",
    "    [-1.6630, -0.0718, -0.1285, 0.5396, -0.0288, -0.8622],\n",
    "    [-0.7413, 1.7920, -0.0883, -0.6685,0.4745, -0.4245]]\n",
    ")\n",
    "print(input_data.shape)\n",
    "print(input_data.dtype)"
   ]
  },
  {
   "cell_type": "markdown",
   "metadata": {
    "id": "hofd0E7YZ4aV"
   },
   "source": [
    "El Modelo ```modelo01``` gráficamente lo podemos ver asi:"
   ]
  },
  {
   "cell_type": "markdown",
   "metadata": {
    "id": "bR0d95b_ajUU"
   },
   "source": [
    "<div style=\"display: flex; flex-direction: row;justify-content: space-between;\">\n",
    "  <img src=\"https://github.com/Noodle96/Topicos_Inteligencia_Artificial/blob/main/assets/img/03_binaryClasification.png?raw=true\" width=\"90%\">\n",
    "</div>"
   ]
  },
  {
   "cell_type": "code",
   "execution_count": 39,
   "metadata": {
    "colab": {
     "base_uri": "https://localhost:8080/"
    },
    "id": "5RXSZjDxWzAh",
    "outputId": "bbc03726-2d1f-42fa-87df-514e8c28249c"
   },
   "outputs": [
    {
     "name": "stdout",
     "output_type": "stream",
     "text": [
      "Sequential(\n",
      "  (0): Linear(in_features=6, out_features=4, bias=True)\n",
      "  (1): Linear(in_features=4, out_features=1, bias=True)\n",
      "  (2): Sigmoid()\n",
      ")\n"
     ]
    }
   ],
   "source": [
    "# Creamos un modelo de clasificacion binaria\n",
    "model01 = torch.nn.Sequential(\n",
    "    nn.Linear(6, 4), # Primera capa lineal\n",
    "    nn.Linear(4, 1), # Segunda capa lineal\n",
    "    nn.Sigmoid() # a la salida se le aplica la funcion sigmoidea\n",
    ")\n",
    "print(model01)"
   ]
  },
  {
   "cell_type": "markdown",
   "metadata": {
    "id": "3ERUVCAYraYD"
   },
   "source": [
    "Sea:\n",
    "*   A : Matriz **Input data**\n",
    "*   B: Transpuesta matriz **weight** between input layer and hidden layer\n",
    "*   b: matriz **bias** between input layer and hidden layer\n",
    "*   C: Matriz input to hidden layer\n",
    "\n",
    "Forward entre A y B\n",
    "$$\n",
    "  \\left(\\underset{(5 \\times 6)}{A} \\times \\underset{(6 \\times 4)}{B} \\right) + \\underset{(5 \\times 4)}{b}   \\ = \\underset{(5\\times 4)}{C}\n",
    "$$\n",
    "\n",
    "*   D: Transpuesta matriz **weight** between hidden layer and output\n",
    "*   d: matriz **bias** between **input layer** and **hidden layer**\n",
    "*   E: preactivation\n",
    "\n",
    "Forward entre C y D\n",
    "\n",
    "$$\n",
    "  \\left(\\underset{(5 \\times 4)}{C} \\times \\underset{(4 \\times 1)}{D}\\right) + \\underset{(5 \\times 1)}{b}   \\ = \\underset{(5\\times 1)}{E}\n",
    "$$\n",
    "\n",
    "Finalmente the preactivation queda de la forma:\n",
    "\n",
    "$$\n",
    "    \\underset{(5\\times 1)}{E}\n",
    "$$\n",
    "\n",
    "\n"
   ]
  },
  {
   "cell_type": "code",
   "execution_count": 40,
   "metadata": {
    "colab": {
     "base_uri": "https://localhost:8080/"
    },
    "id": "EDzBB0Rct1Ab",
    "outputId": "89300802-8b2c-420e-d81d-531139b0d5b0"
   },
   "outputs": [
    {
     "name": "stdout",
     "output_type": "stream",
     "text": [
      "torch.Size([4, 6])\n",
      "Parameter containing:\n",
      "tensor([[ 0.2631, -0.2695,  0.4025, -0.2255, -0.0715,  0.1756],\n",
      "        [ 0.0626,  0.1894, -0.1724,  0.2952,  0.2952, -0.1753],\n",
      "        [ 0.0903, -0.1975,  0.3600, -0.3122,  0.2341,  0.0534],\n",
      "        [-0.0289, -0.3240,  0.0518,  0.2426,  0.0342,  0.1362]],\n",
      "       requires_grad=True)\n",
      "torch.Size([4])\n",
      "Parameter containing:\n",
      "tensor([ 0.0783,  0.0537, -0.2683, -0.3274], requires_grad=True)\n",
      "torch.Size([1, 4])\n",
      "Parameter containing:\n",
      "tensor([[ 0.2161, -0.4950,  0.4738,  0.4519]], requires_grad=True)\n",
      "torch.Size([1])\n",
      "Parameter containing:\n",
      "tensor([-0.1337], requires_grad=True)\n"
     ]
    }
   ],
   "source": [
    "for e in model01.children():\n",
    "    # con este of evitamos entrar a nn.Sigmoid()\n",
    "    if isinstance(e, nn.Linear):\n",
    "        print(e.weight.shape)\n",
    "        print(e.weight)\n",
    "        print(e.bias.shape)\n",
    "        print(e.bias)"
   ]
  },
  {
   "cell_type": "code",
   "execution_count": 41,
   "metadata": {
    "colab": {
     "base_uri": "https://localhost:8080/"
    },
    "id": "ckvnfg4vX0n0",
    "outputId": "ef4ce722-3324-4d10-ed8e-c43579be2a36"
   },
   "outputs": [
    {
     "name": "stdout",
     "output_type": "stream",
     "text": [
      "tensor([[0.4512],\n",
      "        [0.2494],\n",
      "        [0.1946],\n",
      "        [0.3021],\n",
      "        [0.2414]], grad_fn=<SigmoidBackward0>)\n"
     ]
    },
    {
     "data": {
      "text/plain": [
       "torch.Size([5, 1])"
      ]
     },
     "execution_count": 41,
     "metadata": {},
     "output_type": "execute_result"
    }
   ],
   "source": [
    "# Pasar el dato de entrada atraves del modelo\n",
    "output01 = model01(input_data)\n",
    "print(output01)\n",
    "output01.shape"
   ]
  },
  {
   "cell_type": "markdown",
   "metadata": {
    "id": "4UlCSE8SiTbJ"
   },
   "source": [
    "### **Multi-class classification: forward passpass**"
   ]
  },
  {
   "cell_type": "markdown",
   "metadata": {
    "id": "8n0bnCjoil8p"
   },
   "source": [
    "El ```modelo02``` lo podemos graficamente ver asi"
   ]
  },
  {
   "cell_type": "markdown",
   "metadata": {
    "id": "nEiIGSilixIl"
   },
   "source": [
    "<div style=\"display: flex; flex-direction: row;justify-content: space-between;\">\n",
    "  <img src=\"https://github.com/Noodle96/Topicos_Inteligencia_Artificial/blob/main/assets/img/03_MultiClassClasification.png?raw=true\" width=\"90%\">\n",
    "</div>"
   ]
  },
  {
   "cell_type": "code",
   "execution_count": 42,
   "metadata": {
    "id": "M-Uo6PBfoVhl"
   },
   "outputs": [],
   "source": [
    "# Specify model has three classes\n",
    "n_classes = 3"
   ]
  },
  {
   "cell_type": "code",
   "execution_count": 43,
   "metadata": {
    "colab": {
     "base_uri": "https://localhost:8080/"
    },
    "id": "U-wqKJgxoXu3",
    "outputId": "9a35af36-0534-42f0-cb1d-8d1c4a6fdb21"
   },
   "outputs": [
    {
     "name": "stdout",
     "output_type": "stream",
     "text": [
      "Sequential(\n",
      "  (0): Linear(in_features=6, out_features=4, bias=True)\n",
      "  (1): Linear(in_features=4, out_features=3, bias=True)\n",
      "  (2): Softmax(dim=-1)\n",
      ")\n"
     ]
    }
   ],
   "source": [
    "# Create multiclass classification model\n",
    "model02 = nn.Sequential(\n",
    "    nn.Linear(6, 4), # First linear layer\n",
    "    nn.Linear(4, n_classes), # Second linear layer\n",
    "    nn.Softmax(dim=-1) # Softmax activation\n",
    ")\n",
    "print(model02)"
   ]
  },
  {
   "cell_type": "markdown",
   "metadata": {
    "id": "DLDWNvkoy0OU"
   },
   "source": [
    "Hacer el mismo procedimiento que la clasificacion binaria"
   ]
  },
  {
   "cell_type": "code",
   "execution_count": 47,
   "metadata": {
    "colab": {
     "base_uri": "https://localhost:8080/"
    },
    "id": "QDatyLLroZiv",
    "outputId": "fc16e15f-5351-447d-b7ce-6a64413a4ba5"
   },
   "outputs": [
    {
     "name": "stdout",
     "output_type": "stream",
     "text": [
      "tensor([[0.1500, 0.3520, 0.4980],\n",
      "        [0.3877, 0.1819, 0.4303],\n",
      "        [0.2529, 0.2363, 0.5107],\n",
      "        [0.3229, 0.2300, 0.4471],\n",
      "        [0.2367, 0.2554, 0.5079]], grad_fn=<SoftmaxBackward0>)\n",
      "torch.Size([5, 3])\n"
     ]
    }
   ],
   "source": [
    "# Pass input data through model\n",
    "output02 = model02(input_data)\n",
    "print(output02)\n",
    "print(output02.shape)"
   ]
  },
  {
   "cell_type": "markdown",
   "metadata": {
    "id": "epX7LZp1iYC-"
   },
   "source": [
    "### **Regression: forward pass**"
   ]
  },
  {
   "cell_type": "markdown",
   "metadata": {
    "id": "rZ9quC-Sit3a"
   },
   "source": [
    "El ```modelo03``` lo podemos graficamente ver asi"
   ]
  },
  {
   "cell_type": "markdown",
   "metadata": {
    "id": "vjFGddG4i1Ii"
   },
   "source": [
    "<div style=\"display: flex; flex-direction: row;justify-content: space-between;\">\n",
    "  <img src=\"https://github.com/Noodle96/Topicos_Inteligencia_Artificial/blob/main/assets/img/03_regresion.png?raw=true\" width=\"50%\">\n",
    "</div>"
   ]
  },
  {
   "cell_type": "code",
   "execution_count": 45,
   "metadata": {
    "colab": {
     "base_uri": "https://localhost:8080/"
    },
    "id": "TQDERuZYouAq",
    "outputId": "f7873199-291c-4f82-fc63-867d6919a0f9"
   },
   "outputs": [
    {
     "name": "stdout",
     "output_type": "stream",
     "text": [
      "Sequential(\n",
      "  (0): Linear(in_features=6, out_features=4, bias=True)\n",
      "  (1): Linear(in_features=4, out_features=1, bias=True)\n",
      ")\n"
     ]
    }
   ],
   "source": [
    "# creacion del modelo 03\n",
    "model03 = nn.Sequential(\n",
    "    nn.Linear(6, 4), # First linear layer\n",
    "    nn.Linear(4, 1), # Second linear layer\n",
    ")\n",
    "print(model03 )"
   ]
  },
  {
   "cell_type": "code",
   "execution_count": 46,
   "metadata": {
    "colab": {
     "base_uri": "https://localhost:8080/"
    },
    "id": "DMx-6g6JpKfP",
    "outputId": "3fcc8800-d514-434a-e2b3-753e099c5352"
   },
   "outputs": [
    {
     "name": "stdout",
     "output_type": "stream",
     "text": [
      "tensor([[-0.1878],\n",
      "        [-0.1270],\n",
      "        [-0.2307],\n",
      "        [-0.0499],\n",
      "        [-0.1177]], grad_fn=<AddmmBackward0>)\n"
     ]
    },
    {
     "data": {
      "text/plain": [
       "torch.Size([5, 1])"
      ]
     },
     "execution_count": 46,
     "metadata": {},
     "output_type": "execute_result"
    }
   ],
   "source": [
    "output03 = model03(input_data)\n",
    "print(output03)\n",
    "output03.shape"
   ]
  }
 ],
 "metadata": {
  "colab": {
   "authorship_tag": "ABX9TyOk9K/Cyt6QeNbzWHv/C24R",
   "include_colab_link": true,
   "provenance": []
  },
  "kernelspec": {
   "display_name": "Python [conda env:base] *",
   "language": "python",
   "name": "conda-base-py"
  },
  "language_info": {
   "codemirror_mode": {
    "name": "ipython",
    "version": 3
   },
   "file_extension": ".py",
   "mimetype": "text/x-python",
   "name": "python",
   "nbconvert_exporter": "python",
   "pygments_lexer": "ipython3",
   "version": "3.12.7"
  }
 },
 "nbformat": 4,
 "nbformat_minor": 4
}
