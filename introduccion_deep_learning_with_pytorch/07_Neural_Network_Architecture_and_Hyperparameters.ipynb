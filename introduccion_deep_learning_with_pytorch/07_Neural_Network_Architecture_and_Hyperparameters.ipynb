{
  "nbformat": 4,
  "nbformat_minor": 0,
  "metadata": {
    "colab": {
      "provenance": [],
      "authorship_tag": "ABX9TyPZghrRd1bSL1R0OaIGFRTd",
      "include_colab_link": true
    },
    "kernelspec": {
      "name": "python3",
      "display_name": "Python 3"
    },
    "language_info": {
      "name": "python"
    }
  },
  "cells": [
    {
      "cell_type": "markdown",
      "metadata": {
        "id": "view-in-github",
        "colab_type": "text"
      },
      "source": [
        "<a href=\"https://colab.research.google.com/github/Noodle96/Topicos_Inteligencia_Artificial/blob/main/introduccion_deep_learning_with_pytorch/07_Neural_Network_Architecture_and_Hyperparameters.ipynb\" target=\"_parent\"><img src=\"https://colab.research.google.com/assets/colab-badge.svg\" alt=\"Open In Colab\"/></a>"
      ]
    },
    {
      "cell_type": "code",
      "execution_count": 67,
      "metadata": {
        "id": "9pyxRE-5qtyw"
      },
      "outputs": [],
      "source": [
        "import torch\n",
        "import torch.nn as nn\n",
        "import torch.nn.functional as F\n",
        "import numpy as np\n",
        "import matplotlib.pyplot as plt"
      ]
    },
    {
      "cell_type": "markdown",
      "source": [
        "**Discovering activation functions**"
      ],
      "metadata": {
        "id": "MRTKg8nOq7Hi"
      }
    },
    {
      "cell_type": "markdown",
      "source": [
        "**The ReLU function activation**"
      ],
      "metadata": {
        "id": "4r3nYHXVrAeU"
      }
    },
    {
      "cell_type": "code",
      "source": [
        "# Create a ReLU function with pytorch\n",
        "relu = nn.ReLU()"
      ],
      "metadata": {
        "id": "5Oi7Ni-srI4f"
      },
      "execution_count": 68,
      "outputs": []
    },
    {
      "cell_type": "code",
      "source": [
        "# Aplicar relu al vector x y calcular las gradientes\n",
        "x1 = torch.tensor(-10.0, requires_grad=True)\n",
        "x2 = torch.tensor(0.0, requires_grad=True)\n",
        "x3 = torch.tensor(10.0, requires_grad=True)\n",
        "print(x1)\n",
        "print(x2)\n",
        "print(x3)"
      ],
      "metadata": {
        "colab": {
          "base_uri": "https://localhost:8080/"
        },
        "id": "trjJAEYnrUlE",
        "outputId": "69f2a5f3-6d4f-409b-c66b-3494e951e77f"
      },
      "execution_count": 69,
      "outputs": [
        {
          "output_type": "stream",
          "name": "stdout",
          "text": [
            "tensor(-10., requires_grad=True)\n",
            "tensor(0., requires_grad=True)\n",
            "tensor(10., requires_grad=True)\n"
          ]
        }
      ]
    },
    {
      "cell_type": "code",
      "source": [
        "y1 = relu(x1)\n",
        "y2 = relu(x2)\n",
        "y3 = relu(x3)\n",
        "print(y1)\n",
        "print(y2)\n",
        "print(y3)"
      ],
      "metadata": {
        "colab": {
          "base_uri": "https://localhost:8080/"
        },
        "id": "f4s3Qbv0r6aE",
        "outputId": "efb63493-8f76-45f7-ebfb-edc90dab5254"
      },
      "execution_count": 70,
      "outputs": [
        {
          "output_type": "stream",
          "name": "stdout",
          "text": [
            "tensor(0., grad_fn=<ReluBackward0>)\n",
            "tensor(0., grad_fn=<ReluBackward0>)\n",
            "tensor(10., grad_fn=<ReluBackward0>)\n"
          ]
        }
      ]
    },
    {
      "cell_type": "code",
      "source": [
        "print(x1.grad)\n",
        "print(x2.grad)\n",
        "print(x3.grad)"
      ],
      "metadata": {
        "colab": {
          "base_uri": "https://localhost:8080/"
        },
        "id": "HzbMrQVpupaQ",
        "outputId": "7eb5836a-c1eb-4a2b-9a93-4401ec706151"
      },
      "execution_count": 71,
      "outputs": [
        {
          "output_type": "stream",
          "name": "stdout",
          "text": [
            "None\n",
            "None\n",
            "None\n"
          ]
        }
      ]
    },
    {
      "cell_type": "markdown",
      "source": [
        "> Ahora veamos las gradientes"
      ],
      "metadata": {
        "id": "MATu4G20xWhs"
      }
    },
    {
      "cell_type": "code",
      "source": [
        "y1.backward()\n",
        "y2.backward()\n",
        "y3.backward()"
      ],
      "metadata": {
        "id": "NO8wHWGjs0DY"
      },
      "execution_count": 72,
      "outputs": []
    },
    {
      "cell_type": "code",
      "source": [
        "print(x1.grad)\n",
        "print(x2.grad)\n",
        "print(x3.grad)"
      ],
      "metadata": {
        "colab": {
          "base_uri": "https://localhost:8080/"
        },
        "id": "rkCSuqW4uv_r",
        "outputId": "9f1b492e-6008-4b72-e909-fa1fa5e7c928"
      },
      "execution_count": 73,
      "outputs": [
        {
          "output_type": "stream",
          "name": "stdout",
          "text": [
            "tensor(0.)\n",
            "tensor(0.)\n",
            "tensor(1.)\n"
          ]
        }
      ]
    },
    {
      "cell_type": "markdown",
      "source": [
        "**The Leaky ReLU function activation**"
      ],
      "metadata": {
        "id": "SoQQk-9KvCp1"
      }
    },
    {
      "cell_type": "code",
      "source": [
        "# DEFAULT negative_slope = 0.01\n",
        "# 7 to test\n",
        "leaky_relu = nn.LeakyReLU(negative_slope=7)"
      ],
      "metadata": {
        "id": "0s_OxoyyvIPz"
      },
      "execution_count": 74,
      "outputs": []
    },
    {
      "cell_type": "code",
      "source": [
        "\n",
        "x1 = torch.tensor(-10.0, requires_grad=True)\n",
        "x2 = torch.tensor(0.0, requires_grad=True)\n",
        "x3 = torch.tensor(10.0, requires_grad=True)\n",
        "print(x1)\n",
        "print(x2)\n",
        "print(x3)"
      ],
      "metadata": {
        "colab": {
          "base_uri": "https://localhost:8080/"
        },
        "id": "MBmDZq8nvJxn",
        "outputId": "3ff77bc6-d91a-4422-8962-d3d1c61b29f0"
      },
      "execution_count": 75,
      "outputs": [
        {
          "output_type": "stream",
          "name": "stdout",
          "text": [
            "tensor(-10., requires_grad=True)\n",
            "tensor(0., requires_grad=True)\n",
            "tensor(10., requires_grad=True)\n"
          ]
        }
      ]
    },
    {
      "cell_type": "code",
      "source": [
        "g1 = leaky_relu(x1)\n",
        "g2 = leaky_relu(x2)\n",
        "g3 = leaky_relu(x3)"
      ],
      "metadata": {
        "id": "73uabc3zvRLQ"
      },
      "execution_count": 76,
      "outputs": []
    },
    {
      "cell_type": "code",
      "source": [
        "print(g1)\n",
        "print(g2)\n",
        "print(g3)"
      ],
      "metadata": {
        "colab": {
          "base_uri": "https://localhost:8080/"
        },
        "id": "hsrZrytrvUSR",
        "outputId": "83df939b-2dc9-4300-fc7d-6273ee84df3b"
      },
      "execution_count": 77,
      "outputs": [
        {
          "output_type": "stream",
          "name": "stdout",
          "text": [
            "tensor(-70., grad_fn=<LeakyReluBackward0>)\n",
            "tensor(0., grad_fn=<LeakyReluBackward0>)\n",
            "tensor(10., grad_fn=<LeakyReluBackward0>)\n"
          ]
        }
      ]
    },
    {
      "cell_type": "markdown",
      "source": [
        "> Ahora veamos las gradientes"
      ],
      "metadata": {
        "id": "OVb2VuC6xcdP"
      }
    },
    {
      "cell_type": "code",
      "source": [
        "g1.backward()\n",
        "g2.backward()\n",
        "g3.backward()\n",
        "print(x1.grad)\n",
        "print(x2.grad)\n",
        "print(x3.grad)"
      ],
      "metadata": {
        "colab": {
          "base_uri": "https://localhost:8080/"
        },
        "id": "3umosc0zvhbd",
        "outputId": "d4c9144c-12ac-4cc3-a1f0-e0855454b23f"
      },
      "execution_count": 78,
      "outputs": [
        {
          "output_type": "stream",
          "name": "stdout",
          "text": [
            "tensor(7.)\n",
            "tensor(7.)\n",
            "tensor(1.)\n"
          ]
        }
      ]
    },
    {
      "cell_type": "markdown",
      "source": [
        "**<h2>Counting the number of parameters</h2>**"
      ],
      "metadata": {
        "id": "DUQQMDMfyWg3"
      }
    },
    {
      "cell_type": "markdown",
      "source": [
        "**<h4>Capacidad de una red</h4>**"
      ],
      "metadata": {
        "id": "v4aeSYwc2vVL"
      }
    },
    {
      "cell_type": "code",
      "source": [
        "# Suma de todos los parametros\n",
        "def calculate_capacity(model):\n",
        "  total = 0\n",
        "  for p in model.parameters():\n",
        "    total += p.numel()\n",
        "  return total"
      ],
      "metadata": {
        "id": "D-IgVopY22QX"
      },
      "execution_count": 98,
      "outputs": []
    },
    {
      "cell_type": "code",
      "source": [
        "model = nn.Sequential(nn.Linear(16, 4),\n",
        "                      nn.Linear(4, 2),\n",
        "                      nn.Linear(2, 1))"
      ],
      "metadata": {
        "id": "0yV1IR6cyfeN"
      },
      "execution_count": 79,
      "outputs": []
    },
    {
      "cell_type": "markdown",
      "source": [
        "> Calculando la capacidad(numero de parametros de **modelo**)"
      ],
      "metadata": {
        "id": "UchXy9on2tnC"
      }
    },
    {
      "cell_type": "code",
      "source": [
        "# Suma de todos los parametros\n",
        "print(calculate_capacity(model))"
      ],
      "metadata": {
        "colab": {
          "base_uri": "https://localhost:8080/"
        },
        "id": "O244o9xE3b5c",
        "outputId": "70f99e43-240b-4d56-96b6-92c805c451c5"
      },
      "execution_count": 101,
      "outputs": [
        {
          "output_type": "stream",
          "name": "stdout",
          "text": [
            "81\n"
          ]
        }
      ]
    },
    {
      "cell_type": "code",
      "source": [
        "print(model)"
      ],
      "metadata": {
        "colab": {
          "base_uri": "https://localhost:8080/"
        },
        "id": "u3_LcoQkzC8b",
        "outputId": "cb061d79-7e75-4d0a-ed71-d79190f9a459"
      },
      "execution_count": 84,
      "outputs": [
        {
          "output_type": "stream",
          "name": "stdout",
          "text": [
            "Sequential(\n",
            "  (0): Linear(in_features=16, out_features=4, bias=True)\n",
            "  (1): Linear(in_features=4, out_features=2, bias=True)\n",
            "  (2): Linear(in_features=2, out_features=1, bias=True)\n",
            ")\n"
          ]
        }
      ]
    },
    {
      "cell_type": "code",
      "source": [
        "for param in model.parameters():\n",
        "    print(f'''shape: {param.shape} and nums params: {param.numel()}''')"
      ],
      "metadata": {
        "colab": {
          "base_uri": "https://localhost:8080/"
        },
        "id": "0veDBORmzlQq",
        "outputId": "19275bbd-8043-4986-d0a9-5ece53cead95"
      },
      "execution_count": 96,
      "outputs": [
        {
          "output_type": "stream",
          "name": "stdout",
          "text": [
            "shape: torch.Size([4, 16]) and nums params: 64\n",
            "shape: torch.Size([4]) and nums params: 4\n",
            "shape: torch.Size([2, 4]) and nums params: 8\n",
            "shape: torch.Size([2]) and nums params: 2\n",
            "shape: torch.Size([1, 2]) and nums params: 2\n",
            "shape: torch.Size([1]) and nums params: 1\n"
          ]
        }
      ]
    },
    {
      "cell_type": "code",
      "source": [
        "total = 0\n",
        "for param in model.parameters():\n",
        "    total += param.numel()\n",
        "print(total)"
      ],
      "metadata": {
        "colab": {
          "base_uri": "https://localhost:8080/"
        },
        "id": "WPg7c4RFylcA",
        "outputId": "58086314-0fde-468c-dc36-f9340dbc7495"
      },
      "execution_count": 97,
      "outputs": [
        {
          "output_type": "stream",
          "name": "stdout",
          "text": [
            "81\n"
          ]
        }
      ]
    },
    {
      "cell_type": "code",
      "source": [
        "# crear un tensor con 16 caracteristicas\n",
        "input_features = torch.randn(16)\n",
        "print(input_features)\n",
        "output = model(input_features)\n",
        "print(output)"
      ],
      "metadata": {
        "colab": {
          "base_uri": "https://localhost:8080/"
        },
        "id": "GA36BqVr3BrC",
        "outputId": "1aaf7327-7a7b-4e6c-a2f3-033cb7ece949"
      },
      "execution_count": 104,
      "outputs": [
        {
          "output_type": "stream",
          "name": "stdout",
          "text": [
            "tensor([-1.3440, -0.9475, -0.1533,  2.4068, -0.9718,  0.7646,  0.5306,  1.4277,\n",
            "        -0.0858, -0.6720, -0.2090, -1.2212,  0.7563, -0.0427,  0.3750,  0.5080])\n",
            "tensor([-0.5576], grad_fn=<ViewBackward0>)\n"
          ]
        }
      ]
    }
  ]
}