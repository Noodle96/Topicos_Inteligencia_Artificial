{
  "nbformat": 4,
  "nbformat_minor": 0,
  "metadata": {
    "colab": {
      "provenance": [],
      "authorship_tag": "ABX9TyMW8eBR5/pTaDMYQ8+QNzFE",
      "include_colab_link": true
    },
    "kernelspec": {
      "name": "python3",
      "display_name": "Python 3"
    },
    "language_info": {
      "name": "python"
    }
  },
  "cells": [
    {
      "cell_type": "markdown",
      "metadata": {
        "id": "view-in-github",
        "colab_type": "text"
      },
      "source": [
        "<a href=\"https://colab.research.google.com/github/Noodle96/Topicos_Inteligencia_Artificial/blob/main/introduccion_deep_learning_with_pytorch/07_Neural_Network_Architecture_and_Hyperparameters.ipynb\" target=\"_parent\"><img src=\"https://colab.research.google.com/assets/colab-badge.svg\" alt=\"Open In Colab\"/></a>"
      ]
    },
    {
      "cell_type": "code",
      "execution_count": 54,
      "metadata": {
        "id": "9pyxRE-5qtyw"
      },
      "outputs": [],
      "source": [
        "import torch\n",
        "import torch.nn as nn\n",
        "import torch.nn.functional as F\n",
        "import numpy as np\n",
        "import matplotlib.pyplot as plt"
      ]
    },
    {
      "cell_type": "markdown",
      "source": [
        "**Discovering activation functions**"
      ],
      "metadata": {
        "id": "MRTKg8nOq7Hi"
      }
    },
    {
      "cell_type": "markdown",
      "source": [
        "**The ReLU function activation**"
      ],
      "metadata": {
        "id": "4r3nYHXVrAeU"
      }
    },
    {
      "cell_type": "code",
      "source": [
        "# Create a ReLU function with pytorch\n",
        "relu = nn.ReLU()"
      ],
      "metadata": {
        "id": "5Oi7Ni-srI4f"
      },
      "execution_count": 55,
      "outputs": []
    },
    {
      "cell_type": "code",
      "source": [
        "# Aplicar relu al vector x y calcular las gradientes\n",
        "x1 = torch.tensor(-10.0, requires_grad=True)\n",
        "x2 = torch.tensor(0.0, requires_grad=True)\n",
        "x3 = torch.tensor(10.0, requires_grad=True)\n",
        "print(x1)\n",
        "print(x2)\n",
        "print(x3)"
      ],
      "metadata": {
        "colab": {
          "base_uri": "https://localhost:8080/"
        },
        "id": "trjJAEYnrUlE",
        "outputId": "de864b62-2de8-4d06-ea5a-f67c5b8e7d85"
      },
      "execution_count": 56,
      "outputs": [
        {
          "output_type": "stream",
          "name": "stdout",
          "text": [
            "tensor(-10., requires_grad=True)\n",
            "tensor(0., requires_grad=True)\n",
            "tensor(10., requires_grad=True)\n"
          ]
        }
      ]
    },
    {
      "cell_type": "code",
      "source": [
        "y1 = relu(x1)\n",
        "y2 = relu(x2)\n",
        "y3 = relu(x3)\n",
        "print(y1)\n",
        "print(y2)\n",
        "print(y3)"
      ],
      "metadata": {
        "colab": {
          "base_uri": "https://localhost:8080/"
        },
        "id": "f4s3Qbv0r6aE",
        "outputId": "8d2674e3-afda-4224-8653-feb45de4ccf4"
      },
      "execution_count": 57,
      "outputs": [
        {
          "output_type": "stream",
          "name": "stdout",
          "text": [
            "tensor(0., grad_fn=<ReluBackward0>)\n",
            "tensor(0., grad_fn=<ReluBackward0>)\n",
            "tensor(10., grad_fn=<ReluBackward0>)\n"
          ]
        }
      ]
    },
    {
      "cell_type": "code",
      "source": [
        "print(x1.grad)\n",
        "print(x2.grad)\n",
        "print(x3.grad)"
      ],
      "metadata": {
        "colab": {
          "base_uri": "https://localhost:8080/"
        },
        "id": "HzbMrQVpupaQ",
        "outputId": "cdd5ee5b-f2c8-4d99-fc8c-ad20f0611329"
      },
      "execution_count": 58,
      "outputs": [
        {
          "output_type": "stream",
          "name": "stdout",
          "text": [
            "None\n",
            "None\n",
            "None\n"
          ]
        }
      ]
    },
    {
      "cell_type": "code",
      "source": [
        "y1.backward()\n",
        "y2.backward()\n",
        "y3.backward()"
      ],
      "metadata": {
        "id": "NO8wHWGjs0DY"
      },
      "execution_count": 59,
      "outputs": []
    },
    {
      "cell_type": "code",
      "source": [
        "print(x1.grad)\n",
        "print(x2.grad)\n",
        "print(x3.grad)"
      ],
      "metadata": {
        "colab": {
          "base_uri": "https://localhost:8080/"
        },
        "id": "rkCSuqW4uv_r",
        "outputId": "5d7f72a1-ba7a-4aba-f96d-50e809d32c4d"
      },
      "execution_count": 60,
      "outputs": [
        {
          "output_type": "stream",
          "name": "stdout",
          "text": [
            "tensor(0.)\n",
            "tensor(0.)\n",
            "tensor(1.)\n"
          ]
        }
      ]
    },
    {
      "cell_type": "markdown",
      "source": [
        "**The Leaky ReLU function activation**"
      ],
      "metadata": {
        "id": "SoQQk-9KvCp1"
      }
    },
    {
      "cell_type": "code",
      "source": [
        "# DEFAULT negative_slope = 0.01\n",
        "# 7 to test\n",
        "leaky_relu = nn.LeakyReLU(negative_slope=7)"
      ],
      "metadata": {
        "id": "0s_OxoyyvIPz"
      },
      "execution_count": 66,
      "outputs": []
    },
    {
      "cell_type": "code",
      "source": [
        "\n",
        "x1 = torch.tensor(-10.0, requires_grad=True)\n",
        "x2 = torch.tensor(0.0, requires_grad=True)\n",
        "x3 = torch.tensor(10.0, requires_grad=True)\n",
        "print(x1)\n",
        "print(x2)\n",
        "print(x3)"
      ],
      "metadata": {
        "colab": {
          "base_uri": "https://localhost:8080/"
        },
        "id": "MBmDZq8nvJxn",
        "outputId": "5c273a3b-c3fb-4377-f50a-b19827695cc9"
      },
      "execution_count": 62,
      "outputs": [
        {
          "output_type": "stream",
          "name": "stdout",
          "text": [
            "tensor(-10., requires_grad=True)\n",
            "tensor(0., requires_grad=True)\n",
            "tensor(10., requires_grad=True)\n"
          ]
        }
      ]
    },
    {
      "cell_type": "code",
      "source": [
        "g1 = leaky_relu(x1)\n",
        "g2 = leaky_relu(x2)\n",
        "g3 = leaky_relu(x3)"
      ],
      "metadata": {
        "id": "73uabc3zvRLQ"
      },
      "execution_count": 63,
      "outputs": []
    },
    {
      "cell_type": "code",
      "source": [
        "print(g1)\n",
        "print(g2)\n",
        "print(g3)"
      ],
      "metadata": {
        "colab": {
          "base_uri": "https://localhost:8080/"
        },
        "id": "hsrZrytrvUSR",
        "outputId": "2d0cbbe8-631f-4517-ae5c-7bdc13c6c3e8"
      },
      "execution_count": 64,
      "outputs": [
        {
          "output_type": "stream",
          "name": "stdout",
          "text": [
            "tensor(-70., grad_fn=<LeakyReluBackward0>)\n",
            "tensor(0., grad_fn=<LeakyReluBackward0>)\n",
            "tensor(10., grad_fn=<LeakyReluBackward0>)\n"
          ]
        }
      ]
    },
    {
      "cell_type": "code",
      "source": [
        "g1.backward()\n",
        "g2.backward()\n",
        "g3.backward()\n",
        "print(x1.grad)\n",
        "print(x2.grad)\n",
        "print(x3.grad)"
      ],
      "metadata": {
        "colab": {
          "base_uri": "https://localhost:8080/"
        },
        "id": "3umosc0zvhbd",
        "outputId": "b748d534-8464-47b3-9402-df0dba5022bb"
      },
      "execution_count": 65,
      "outputs": [
        {
          "output_type": "stream",
          "name": "stdout",
          "text": [
            "tensor(7.)\n",
            "tensor(7.)\n",
            "tensor(1.)\n"
          ]
        }
      ]
    }
  ]
}