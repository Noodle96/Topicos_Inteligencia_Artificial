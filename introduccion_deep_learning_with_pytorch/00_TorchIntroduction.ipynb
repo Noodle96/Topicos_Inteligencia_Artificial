{
 "cells": [
  {
   "cell_type": "markdown",
   "metadata": {
    "colab_type": "text",
    "id": "view-in-github"
   },
   "source": [
    "<a href=\"https://colab.research.google.com/github/Noodle96/Topicos_Inteligencia_Artificial/blob/main/00_TorchIntroduction.ipynb\" target=\"_parent\"><img src=\"https://colab.research.google.com/assets/colab-badge.svg\" alt=\"Open In Colab\"/></a>"
   ]
  },
  {
   "cell_type": "code",
   "execution_count": 1,
   "metadata": {
    "id": "hbui2no0iWNx"
   },
   "outputs": [
    {
     "name": "stdout",
     "output_type": "stream",
     "text": [
      "Package                           Version\n",
      "--------------------------------- ------------------\n",
      "aiobotocore                       2.12.3\n",
      "aiohappyeyeballs                  2.4.0\n",
      "aiohttp                           3.10.5\n",
      "aioitertools                      0.7.1\n",
      "aiosignal                         1.2.0\n",
      "alabaster                         0.7.16\n",
      "altair                            5.0.1\n",
      "anaconda-anon-usage               0.4.4\n",
      "anaconda-catalogs                 0.2.0\n",
      "anaconda-client                   1.12.3\n",
      "anaconda-cloud-auth               0.5.1\n",
      "anaconda-navigator                2.6.3\n",
      "anaconda-project                  0.11.1\n",
      "annotated-types                   0.6.0\n",
      "anyio                             4.2.0\n",
      "appdirs                           1.4.4\n",
      "archspec                          0.2.3\n",
      "argon2-cffi                       21.3.0\n",
      "argon2-cffi-bindings              21.2.0\n",
      "arrow                             1.2.3\n",
      "astroid                           2.14.2\n",
      "astropy                           6.1.3\n",
      "astropy-iers-data                 0.2024.9.2.0.33.23\n",
      "asttokens                         2.0.5\n",
      "async-lru                         2.0.4\n",
      "atomicwrites                      1.4.0\n",
      "attrs                             23.1.0\n",
      "Automat                           20.2.0\n",
      "autopep8                          2.0.4\n",
      "Babel                             2.11.0\n",
      "bcrypt                            3.2.0\n",
      "beautifulsoup4                    4.12.3\n",
      "binaryornot                       0.4.4\n",
      "black                             24.8.0\n",
      "bleach                            4.1.0\n",
      "blinker                           1.6.2\n",
      "bokeh                             3.6.0\n",
      "boltons                           23.0.0\n",
      "botocore                          1.34.69\n",
      "Bottleneck                        1.3.7\n",
      "Brotli                            1.0.9\n",
      "cachetools                        5.3.3\n",
      "certifi                           2025.1.31\n",
      "cffi                              1.17.1\n",
      "chardet                           4.0.0\n",
      "charset-normalizer                3.3.2\n",
      "click                             8.1.7\n",
      "cloudpickle                       3.0.0\n",
      "colorama                          0.4.6\n",
      "colorcet                          3.1.0\n",
      "comm                              0.2.1\n",
      "conda                             24.11.3\n",
      "conda-build                       24.9.0\n",
      "conda-content-trust               0.2.0\n",
      "conda_index                       0.5.0\n",
      "conda-libmamba-solver             24.9.0\n",
      "conda-pack                        0.7.1\n",
      "conda-package-handling            2.3.0\n",
      "conda_package_streaming           0.10.0\n",
      "conda-repo-cli                    1.0.114\n",
      "conda-token                       0.5.0+1.g2209e04\n",
      "constantly                        23.10.4\n",
      "contourpy                         1.2.0\n",
      "cookiecutter                      2.6.0\n",
      "cryptography                      43.0.0\n",
      "cssselect                         1.2.0\n",
      "cycler                            0.11.0\n",
      "cytoolz                           0.12.2\n",
      "dask                              2024.8.2\n",
      "dask-expr                         1.1.13\n",
      "datashader                        0.16.3\n",
      "debugpy                           1.6.7\n",
      "decorator                         5.1.1\n",
      "defusedxml                        0.7.1\n",
      "diff-match-patch                  20200713\n",
      "dill                              0.3.8\n",
      "distributed                       2024.8.2\n",
      "distro                            1.9.0\n",
      "docstring-to-markdown             0.11\n",
      "docutils                          0.18.1\n",
      "et-xmlfile                        1.1.0\n",
      "executing                         0.8.3\n",
      "fastjsonschema                    2.16.2\n",
      "filelock                          3.13.1\n",
      "flake8                            7.0.0\n",
      "Flask                             3.0.3\n",
      "fonttools                         4.51.0\n",
      "frozendict                        2.4.2\n",
      "frozenlist                        1.4.0\n",
      "fsspec                            2024.6.1\n",
      "gensim                            4.3.3\n",
      "gitdb                             4.0.7\n",
      "GitPython                         3.1.43\n",
      "greenlet                          3.0.1\n",
      "h11                               0.14.0\n",
      "h5py                              3.11.0\n",
      "HeapDict                          1.0.1\n",
      "holoviews                         1.19.1\n",
      "httpcore                          1.0.2\n",
      "httpx                             0.27.0\n",
      "hvplot                            0.11.0\n",
      "hyperlink                         21.0.0\n",
      "idna                              3.7\n",
      "imagecodecs                       2023.1.23\n",
      "imageio                           2.33.1\n",
      "imagesize                         1.4.1\n",
      "imbalanced-learn                  0.12.3\n",
      "importlib-metadata                7.0.1\n",
      "incremental                       22.10.0\n",
      "inflection                        0.5.1\n",
      "iniconfig                         1.1.1\n",
      "intake                            2.0.7\n",
      "intervaltree                      3.1.0\n",
      "ipykernel                         6.28.0\n",
      "ipython                           8.27.0\n",
      "ipython-genutils                  0.2.0\n",
      "ipywidgets                        7.8.1\n",
      "isort                             5.13.2\n",
      "itemadapter                       0.3.0\n",
      "itemloaders                       1.1.0\n",
      "itsdangerous                      2.2.0\n",
      "jaraco.classes                    3.2.1\n",
      "jedi                              0.19.1\n",
      "jeepney                           0.7.1\n",
      "jellyfish                         1.0.1\n",
      "Jinja2                            3.1.4\n",
      "jmespath                          1.0.1\n",
      "joblib                            1.4.2\n",
      "json5                             0.9.6\n",
      "jsonpatch                         1.33\n",
      "jsonpointer                       2.1\n",
      "jsonschema                        4.23.0\n",
      "jsonschema-specifications         2023.7.1\n",
      "jupyter                           1.0.0\n",
      "jupyter_client                    8.6.0\n",
      "jupyter-console                   6.6.3\n",
      "jupyter_core                      5.7.2\n",
      "jupyter-events                    0.10.0\n",
      "jupyter-lsp                       2.2.0\n",
      "jupyter_server                    2.14.1\n",
      "jupyter_server_terminals          0.4.4\n",
      "jupyterlab                        4.4.0\n",
      "jupyterlab-pygments               0.1.2\n",
      "jupyterlab_server                 2.27.3\n",
      "jupyterlab-widgets                1.0.0\n",
      "keyring                           24.3.1\n",
      "kiwisolver                        1.4.4\n",
      "lazy_loader                       0.4\n",
      "lazy-object-proxy                 1.10.0\n",
      "lckr_jupyterlab_variableinspector 3.1.0\n",
      "libarchive-c                      5.1\n",
      "libmambapy                        1.5.8\n",
      "linkify-it-py                     2.0.0\n",
      "llvmlite                          0.43.0\n",
      "lmdb                              1.4.1\n",
      "locket                            1.0.0\n",
      "lxml                              5.2.1\n",
      "lz4                               4.3.2\n",
      "Markdown                          3.4.1\n",
      "markdown-it-py                    2.2.0\n",
      "MarkupSafe                        2.1.3\n",
      "matplotlib                        3.9.2\n",
      "matplotlib-inline                 0.1.6\n",
      "mccabe                            0.7.0\n",
      "mdit-py-plugins                   0.3.0\n",
      "mdurl                             0.1.0\n",
      "menuinst                          2.1.2\n",
      "mistune                           2.0.4\n",
      "mkl_fft                           1.3.10\n",
      "mkl_random                        1.2.7\n",
      "mkl-service                       2.4.0\n",
      "more-itertools                    10.3.0\n",
      "mpmath                            1.3.0\n",
      "msgpack                           1.0.3\n",
      "multidict                         6.0.4\n",
      "multipledispatch                  0.6.0\n",
      "mypy                              1.11.2\n",
      "mypy-extensions                   1.0.0\n",
      "navigator-updater                 0.5.1\n",
      "nbclient                          0.8.0\n",
      "nbconvert                         7.16.4\n",
      "nbformat                          5.10.4\n",
      "nest-asyncio                      1.6.0\n",
      "networkx                          3.3\n",
      "nltk                              3.9.1\n",
      "notebook                          7.4.0\n",
      "notebook_shim                     0.2.3\n",
      "numba                             0.60.0\n",
      "numexpr                           2.8.7\n",
      "numpy                             1.26.4\n",
      "numpydoc                          1.7.0\n",
      "openpyxl                          3.1.5\n",
      "overrides                         7.4.0\n",
      "packaging                         24.1\n",
      "pandas                            2.2.2\n",
      "pandocfilters                     1.5.0\n",
      "panel                             1.5.2\n",
      "param                             2.1.1\n",
      "parsel                            1.8.1\n",
      "parso                             0.8.3\n",
      "partd                             1.4.1\n",
      "pathspec                          0.10.3\n",
      "patsy                             0.5.6\n",
      "pexpect                           4.8.0\n",
      "pickleshare                       0.7.5\n",
      "pillow                            10.4.0\n",
      "pip                               24.2\n",
      "pkce                              1.0.3\n",
      "pkginfo                           1.10.0\n",
      "platformdirs                      3.10.0\n",
      "plotly                            5.24.1\n",
      "pluggy                            1.0.0\n",
      "ply                               3.11\n",
      "prometheus-client                 0.14.1\n",
      "prompt-toolkit                    3.0.43\n",
      "Protego                           0.1.16\n",
      "protobuf                          4.25.3\n",
      "psutil                            5.9.0\n",
      "ptyprocess                        0.7.0\n",
      "pure-eval                         0.2.2\n",
      "py-cpuinfo                        9.0.0\n",
      "pyarrow                           16.1.0\n",
      "pyasn1                            0.4.8\n",
      "pyasn1-modules                    0.2.8\n",
      "pycodestyle                       2.11.1\n",
      "pycosat                           0.6.6\n",
      "pycparser                         2.21\n",
      "pyct                              0.5.0\n",
      "pycurl                            7.45.3\n",
      "pydantic                          2.8.2\n",
      "pydantic_core                     2.20.1\n",
      "pydeck                            0.8.0\n",
      "PyDispatcher                      2.0.5\n",
      "pydocstyle                        6.3.0\n",
      "pyerfa                            2.0.1.4\n",
      "pyflakes                          3.2.0\n",
      "Pygments                          2.15.1\n",
      "PyJWT                             2.8.0\n",
      "pylint                            2.16.2\n",
      "pylint-venv                       3.0.3\n",
      "pyls-spyder                       0.4.0\n",
      "pyodbc                            5.1.0\n",
      "pyOpenSSL                         24.2.1\n",
      "pyparsing                         3.1.2\n",
      "PyQt5                             5.15.10\n",
      "PyQt5-sip                         12.13.0\n",
      "PyQtWebEngine                     5.15.6\n",
      "PySocks                           1.7.1\n",
      "pytest                            7.4.4\n",
      "python-dateutil                   2.9.0.post0\n",
      "python-dotenv                     0.21.0\n",
      "python-json-logger                2.0.7\n",
      "python-lsp-black                  2.0.0\n",
      "python-lsp-jsonrpc                1.1.2\n",
      "python-lsp-server                 1.10.0\n",
      "python-slugify                    5.0.2\n",
      "pytoolconfig                      1.2.6\n",
      "pytz                              2024.1\n",
      "pyviz_comms                       3.0.2\n",
      "PyWavelets                        1.7.0\n",
      "pyxdg                             0.27\n",
      "PyYAML                            6.0.1\n",
      "pyzmq                             25.1.2\n",
      "QDarkStyle                        3.2.3\n",
      "qstylizer                         0.2.2\n",
      "QtAwesome                         1.3.1\n",
      "qtconsole                         5.5.1\n",
      "QtPy                              2.4.1\n",
      "queuelib                          1.6.2\n",
      "referencing                       0.30.2\n",
      "regex                             2024.9.11\n",
      "requests                          2.32.3\n",
      "requests-file                     1.5.1\n",
      "requests-toolbelt                 1.0.0\n",
      "rfc3339-validator                 0.1.4\n",
      "rfc3986-validator                 0.1.1\n",
      "rich                              13.7.1\n",
      "rope                              1.12.0\n",
      "rpds-py                           0.10.6\n",
      "Rtree                             1.0.1\n",
      "ruamel.yaml                       0.18.6\n",
      "ruamel.yaml.clib                  0.2.8\n",
      "ruamel-yaml-conda                 0.17.21\n",
      "s3fs                              2024.6.1\n",
      "scikit-image                      0.24.0\n",
      "scikit-learn                      1.5.1\n",
      "scipy                             1.13.1\n",
      "Scrapy                            2.11.1\n",
      "seaborn                           0.13.2\n",
      "SecretStorage                     3.3.1\n",
      "semver                            3.0.2\n",
      "Send2Trash                        1.8.2\n",
      "service-identity                  18.1.0\n",
      "setuptools                        75.1.0\n",
      "sip                               6.7.12\n",
      "six                               1.16.0\n",
      "smart-open                        5.2.1\n",
      "smmap                             4.0.0\n",
      "sniffio                           1.3.0\n",
      "snowballstemmer                   2.2.0\n",
      "sortedcontainers                  2.4.0\n",
      "soupsieve                         2.5\n",
      "Sphinx                            7.3.7\n",
      "sphinxcontrib-applehelp           1.0.2\n",
      "sphinxcontrib-devhelp             1.0.2\n",
      "sphinxcontrib-htmlhelp            2.0.0\n",
      "sphinxcontrib-jsmath              1.0.1\n",
      "sphinxcontrib-qthelp              1.0.3\n",
      "sphinxcontrib-serializinghtml     1.1.10\n",
      "spyder                            5.5.1\n",
      "spyder-kernels                    2.5.0\n",
      "SQLAlchemy                        2.0.34\n",
      "stack-data                        0.2.0\n",
      "statsmodels                       0.14.2\n",
      "streamlit                         1.37.1\n",
      "sympy                             1.13.2\n",
      "tables                            3.10.1\n",
      "tabulate                          0.9.0\n",
      "tblib                             1.7.0\n",
      "tenacity                          8.2.3\n",
      "terminado                         0.17.1\n",
      "text-unidecode                    1.3\n",
      "textdistance                      4.2.1\n",
      "threadpoolctl                     3.5.0\n",
      "three-merge                       0.1.1\n",
      "tifffile                          2023.4.12\n",
      "tinycss2                          1.2.1\n",
      "tldextract                        5.1.2\n",
      "toml                              0.10.2\n",
      "tomli                             2.0.1\n",
      "tomlkit                           0.11.1\n",
      "toolz                             0.12.0\n",
      "tornado                           6.4.1\n",
      "tqdm                              4.66.5\n",
      "traitlets                         5.14.3\n",
      "truststore                        0.8.0\n",
      "Twisted                           23.10.0\n",
      "typing_extensions                 4.11.0\n",
      "tzdata                            2023.3\n",
      "uc-micro-py                       1.0.1\n",
      "ujson                             5.10.0\n",
      "unicodedata2                      15.1.0\n",
      "Unidecode                         1.3.8\n",
      "urllib3                           2.2.3\n",
      "w3lib                             1.21.0\n",
      "watchdog                          4.0.1\n",
      "wcwidth                           0.2.5\n",
      "webencodings                      0.5.1\n",
      "websocket-client                  1.8.0\n",
      "Werkzeug                          3.0.3\n",
      "whatthepatch                      1.0.2\n",
      "wheel                             0.44.0\n",
      "widgetsnbextension                3.6.6\n",
      "wrapt                             1.14.1\n",
      "wurlitzer                         3.0.2\n",
      "xarray                            2023.6.0\n",
      "xyzservices                       2022.9.0\n",
      "yapf                              0.40.2\n",
      "yarl                              1.11.0\n",
      "zict                              3.0.0\n",
      "zipp                              3.17.0\n",
      "zope.interface                    5.4.0\n",
      "zstandard                         0.23.0\n"
     ]
    }
   ],
   "source": [
    "!pip list"
   ]
  },
  {
   "cell_type": "markdown",
   "metadata": {
    "id": "gO3HutZJmmFR"
   },
   "source": [
    "## **PyTorch: a deep learning framework**\n",
    "Pytorch is\n",
    "<ul type=\"circle\">\n",
    "    <li>one of the most popular deep learning frameworks</li>\n",
    "    <li>the framework used in many published deep learning papers</li>\n",
    "    <li>intuitive and user-friendly</li>\n",
    "    <li>has much in common with NumPy</li>\n",
    "<ul/>"
   ]
  },
  {
   "cell_type": "markdown",
   "metadata": {
    "id": "jOhatGv1no2S"
   },
   "source": [
    "### **Importing PyTorch and related packages**\n",
    "```python\n",
    "import torch\n",
    "```\n",
    "PyTorch support\n",
    "*   image data with ```torchvision ```\n",
    "*   audio data with ```torchaudio ```\n",
    "*   text data with ```torchtext ```"
   ]
  },
  {
   "cell_type": "code",
   "execution_count": 2,
   "metadata": {
    "id": "BrbqNn-ih4r3"
   },
   "outputs": [],
   "source": [
    "import torch\n",
    "import numpy as np"
   ]
  },
  {
   "cell_type": "code",
   "execution_count": 3,
   "metadata": {
    "colab": {
     "base_uri": "https://localhost:8080/"
    },
    "id": "TETlerBKil0f",
    "outputId": "d5c6c80e-07a3-4a54-f319-75062101c089"
   },
   "outputs": [
    {
     "name": "stdout",
     "output_type": "stream",
     "text": [
      "[[1, 2, 3], [4, 5, 6]]\n",
      "<class 'list'>\n"
     ]
    }
   ],
   "source": [
    "lst = [ [1,2,3],\n",
    "        [4,5,6]\n",
    "    ]\n",
    "print(lst)\n",
    "print(type(lst))"
   ]
  },
  {
   "cell_type": "markdown",
   "metadata": {
    "id": "k7xelNfrkNjP"
   },
   "source": [
    "### **Tensors: the building blocks of networks in PyTorch**\n",
    "\n"
   ]
  },
  {
   "cell_type": "markdown",
   "metadata": {
    "id": "3v8k2p4OmMP0"
   },
   "source": [
    "> **Load from list**"
   ]
  },
  {
   "cell_type": "code",
   "execution_count": 4,
   "metadata": {
    "colab": {
     "base_uri": "https://localhost:8080/"
    },
    "id": "JjHCkmk9i81D",
    "outputId": "47da29b9-a66f-4dab-8e1d-6ba5eb6e916c"
   },
   "outputs": [
    {
     "name": "stdout",
     "output_type": "stream",
     "text": [
      "tensor([[1, 2, 3],\n",
      "        [4, 5, 6]])\n",
      "<class 'torch.Tensor'>\n"
     ]
    }
   ],
   "source": [
    "lst_tensor = torch.tensor(lst)\n",
    "print(lst_tensor)\n",
    "print(type(lst_tensor))"
   ]
  },
  {
   "cell_type": "code",
   "execution_count": 5,
   "metadata": {
    "colab": {
     "base_uri": "https://localhost:8080/"
    },
    "id": "6-9jfJgnjUCP",
    "outputId": "73b533b3-66b7-4532-af85-605d68b922d7"
   },
   "outputs": [
    {
     "name": "stdout",
     "output_type": "stream",
     "text": [
      "torch.Size([2, 3]), torch.int64, cpu\n"
     ]
    }
   ],
   "source": [
    "print(f\"\"\"{lst_tensor.shape}, {lst_tensor.dtype}, {lst_tensor.device}\"\"\")"
   ]
  },
  {
   "cell_type": "markdown",
   "metadata": {
    "id": "aOltOqe5mcWh"
   },
   "source": [
    "> **Load from numpy**"
   ]
  },
  {
   "cell_type": "code",
   "execution_count": 6,
   "metadata": {
    "colab": {
     "base_uri": "https://localhost:8080/"
    },
    "id": "KLeQJQZWpAIt",
    "outputId": "267c15d5-b221-403d-b733-441452267cef"
   },
   "outputs": [
    {
     "name": "stdout",
     "output_type": "stream",
     "text": [
      "tensor([[1, 2, 3],\n",
      "        [4, 5, 6]])\n",
      "<class 'torch.Tensor'>\n"
     ]
    }
   ],
   "source": [
    "np_list = np.array(lst)\n",
    "np_tensor = torch.from_numpy(np_list)\n",
    "print(np_tensor)\n",
    "print(type(np_tensor))"
   ]
  },
  {
   "cell_type": "markdown",
   "metadata": {
    "id": "RbppweDaqEuh"
   },
   "source": [
    "*   Tensor shape\n",
    "*   Tensor data type\n",
    "*   Tensor device"
   ]
  },
  {
   "cell_type": "code",
   "execution_count": 7,
   "metadata": {
    "colab": {
     "base_uri": "https://localhost:8080/"
    },
    "id": "mxX1rVGCqL4K",
    "outputId": "489606d9-5276-4f04-96b8-a15e803c7226"
   },
   "outputs": [
    {
     "data": {
      "text/plain": [
       "torch.Size([2, 3])"
      ]
     },
     "execution_count": 7,
     "metadata": {},
     "output_type": "execute_result"
    }
   ],
   "source": [
    "# np_tensor es ya un tensor\n",
    "np_tensor.shape"
   ]
  },
  {
   "cell_type": "code",
   "execution_count": 8,
   "metadata": {
    "colab": {
     "base_uri": "https://localhost:8080/"
    },
    "id": "0gahS1U6qVWv",
    "outputId": "adf1df03-d5f0-401b-9c75-2fcf2478d4f2"
   },
   "outputs": [
    {
     "data": {
      "text/plain": [
       "torch.int64"
      ]
     },
     "execution_count": 8,
     "metadata": {},
     "output_type": "execute_result"
    }
   ],
   "source": [
    "np_tensor.dtype"
   ]
  },
  {
   "cell_type": "code",
   "execution_count": 9,
   "metadata": {
    "colab": {
     "base_uri": "https://localhost:8080/"
    },
    "id": "FRJoMWd6qYVf",
    "outputId": "8a3b6d8f-1689-4c1f-f26a-dbe90a5e50bb"
   },
   "outputs": [
    {
     "data": {
      "text/plain": [
       "device(type='cpu')"
      ]
     },
     "execution_count": 9,
     "metadata": {},
     "output_type": "execute_result"
    }
   ],
   "source": [
    "np_tensor.device"
   ]
  },
  {
   "cell_type": "markdown",
   "metadata": {
    "id": "Zqxf10syrhRU"
   },
   "source": [
    "### **Getting started with tensor operations**"
   ]
  },
  {
   "cell_type": "markdown",
   "metadata": {
    "id": "Hmo6UDsrrmNs"
   },
   "source": [
    "> **Compatibles shapes**"
   ]
  },
  {
   "cell_type": "code",
   "execution_count": 10,
   "metadata": {
    "colab": {
     "base_uri": "https://localhost:8080/"
    },
    "id": "Fs993LZPrsaz",
    "outputId": "aa70c2ab-4a34-487b-fb2b-e51169d24142"
   },
   "outputs": [
    {
     "name": "stdout",
     "output_type": "stream",
     "text": [
      "tensor([[11, 11],\n",
      "        [22, 22]])\n"
     ]
    }
   ],
   "source": [
    "a = torch.tensor([[1,1],[2,2]])\n",
    "b = torch.tensor([[10,10],[20,20]])\n",
    "print(a+b)"
   ]
  },
  {
   "cell_type": "markdown",
   "metadata": {
    "id": "ijGdK98QsITh"
   },
   "source": [
    "> **Incompatible shapes**"
   ]
  },
  {
   "cell_type": "code",
   "execution_count": 12,
   "metadata": {
    "id": "0jIK2up6sMB3"
   },
   "outputs": [],
   "source": [
    "c = torch.tensor([[100,100],[200,200]])\n",
    "d = torch.tensor([[1,2,3],[4,5,6]])\n",
    "#c+d error by shape"
   ]
  },
  {
   "cell_type": "markdown",
   "metadata": {
    "id": "FqlH9k9Es0gM"
   },
   "source": [
    "Element-wise multiplication"
   ]
  },
  {
   "cell_type": "code",
   "execution_count": 14,
   "metadata": {
    "colab": {
     "base_uri": "https://localhost:8080/"
    },
    "id": "5D8ixLkpskia",
    "outputId": "0909c44c-ab0b-4ea4-bb47-322b9105c19f"
   },
   "outputs": [
    {
     "name": "stdout",
     "output_type": "stream",
     "text": [
      "<class 'torch.Tensor'>\n",
      "tensor([[ 2,  6],\n",
      "        [15, 24]])\n"
     ]
    }
   ],
   "source": [
    "e = torch.tensor([[1,2],[3,4]])\n",
    "f = torch.tensor([[2,3],[5,6]])\n",
    "e*f\n",
    "print(type(e))\n",
    "print(e*f)"
   ]
  },
  {
   "cell_type": "code",
   "execution_count": 15,
   "metadata": {
    "colab": {
     "base_uri": "https://localhost:8080/"
    },
    "id": "qokN-Txkbw3M",
    "outputId": "506f9935-f820-4b1f-ef93-24d38526dd9a"
   },
   "outputs": [
    {
     "name": "stdout",
     "output_type": "stream",
     "text": [
      "El Toyota Corolla azul está arrancando...\n",
      "El Toyota Corolla azul está acelerando a 80 km/h\n",
      "El Toyota Corolla azul está frenando...\n",
      "<class '__main__.Coche'>\n"
     ]
    }
   ],
   "source": [
    "class Coche:\n",
    "  \"\"\"Define las propiedades y comportamientos de un coche.\"\"\"\n",
    "\n",
    "  def __init__(self, marca, modelo, color):\n",
    "    \"\"\"Inicializa las propiedades del coche.\"\"\"\n",
    "    self.marca = marca\n",
    "    self.modelo = modelo\n",
    "    self.color = color\n",
    "\n",
    "  def arrancar(self):\n",
    "    \"\"\"Simula el arranque del coche.\"\"\"\n",
    "    print(f\"El {self.marca} {self.modelo} {self.color} está arrancando...\")\n",
    "\n",
    "  def acelerar(self, velocidad):\n",
    "    \"\"\"Simula la aceleración del coche.\"\"\"\n",
    "    print(f\"El {self.marca} {self.modelo} {self.color} está acelerando a {velocidad} km/h\")\n",
    "\n",
    "  def frenar(self):\n",
    "    \"\"\"Simula el frenado del coche.\"\"\"\n",
    "    print(f\"El {self.marca} {self.modelo} {self.color} está frenando...\")\n",
    "\n",
    "# Crea una instancia de la clase Coche\n",
    "miCoche = Coche(\"Toyota\", \"Corolla\", \"azul\")\n",
    "\n",
    "# Llama a los métodos del coche\n",
    "miCoche.arrancar()\n",
    "miCoche.acelerar(80)\n",
    "miCoche.frenar()\n",
    "print(type(miCoche))\n"
   ]
  },
  {
   "cell_type": "code",
   "execution_count": 16,
   "metadata": {
    "colab": {
     "base_uri": "https://localhost:8080/"
    },
    "id": "wDhx_ObFcEPq",
    "outputId": "f5786c1a-1c66-4122-d2bf-fd467bb29963"
   },
   "outputs": [
    {
     "data": {
      "text/plain": [
       "tensor([[0., 0., 0.],\n",
       "        [0., 0., 0.]])"
      ]
     },
     "execution_count": 16,
     "metadata": {},
     "output_type": "execute_result"
    }
   ],
   "source": [
    "torch_zeros = torch.zeros(2,3)\n",
    "torch_zeros"
   ]
  },
  {
   "cell_type": "code",
   "execution_count": 17,
   "metadata": {
    "colab": {
     "base_uri": "https://localhost:8080/"
    },
    "id": "zVds-Kmve_3l",
    "outputId": "db52a567-08cd-46e2-9a63-54bbc143e131"
   },
   "outputs": [
    {
     "data": {
      "text/plain": [
       "tensor([[1., 1., 1.]])"
      ]
     },
     "execution_count": 17,
     "metadata": {},
     "output_type": "execute_result"
    }
   ],
   "source": [
    "torch_ones = torch.ones(1,3)\n",
    "torch_ones"
   ]
  },
  {
   "cell_type": "code",
   "execution_count": 18,
   "metadata": {
    "colab": {
     "base_uri": "https://localhost:8080/"
    },
    "id": "8XPEKr_TfDmw",
    "outputId": "48455513-9da7-4974-dda7-74dc7213aad4"
   },
   "outputs": [
    {
     "data": {
      "text/plain": [
       "tensor([[7, 7, 7, 7],\n",
       "        [7, 7, 7, 7],\n",
       "        [7, 7, 7, 7]])"
      ]
     },
     "execution_count": 18,
     "metadata": {},
     "output_type": "execute_result"
    }
   ],
   "source": [
    "torch_num = torch.full((3,4),7)\n",
    "torch_num"
   ]
  },
  {
   "cell_type": "code",
   "execution_count": 19,
   "metadata": {
    "colab": {
     "base_uri": "https://localhost:8080/"
    },
    "id": "qyh0PhRwfPSB",
    "outputId": "31a36aa1-9116-4b52-e2c0-5cffdff353ae"
   },
   "outputs": [
    {
     "data": {
      "text/plain": [
       "tensor([[0.4037, 0.7419, 0.1120],\n",
       "        [0.6974, 0.0927, 0.1904]])"
      ]
     },
     "execution_count": 19,
     "metadata": {},
     "output_type": "execute_result"
    }
   ],
   "source": [
    "# Crea un tensor con valores aleatorios uniformes entre 0 y 1 de forma (2, 3)\n",
    "tensor_aleatorio_uniforme = torch.rand(2, 3)\n",
    "tensor_aleatorio_uniforme"
   ]
  },
  {
   "cell_type": "code",
   "execution_count": 20,
   "metadata": {
    "colab": {
     "base_uri": "https://localhost:8080/"
    },
    "id": "Hl_n1-BoffWp",
    "outputId": "7bba3855-8b6a-4341-ef2f-8d8be162196d"
   },
   "outputs": [
    {
     "data": {
      "text/plain": [
       "tensor([[ 1.0633, -0.1193, -0.0746],\n",
       "        [ 1.7647,  2.5592,  1.6103]])"
      ]
     },
     "execution_count": 20,
     "metadata": {},
     "output_type": "execute_result"
    }
   ],
   "source": [
    "# Crea un tensor con valores aleatorios normales (distribución gaussiana) de forma (2, 3)\n",
    "tensor_aleatorio_normal = torch.randn(2, 3)\n",
    "tensor_aleatorio_normal"
   ]
  },
  {
   "cell_type": "markdown",
   "metadata": {},
   "source": [
    "____\n",
    "____"
   ]
  },
  {
   "cell_type": "markdown",
   "metadata": {},
   "source": [
    "## 🔹 1) Semillas y reproducibilidad\n",
    "\n",
    "Para asegurar *reproducibilidad* en los experimentos, fijamos semillas aleatorias.  \n",
    "Esto hace que las inicializaciones y valores aleatorios sean consistentes entre ejecuciones.  \n",
    "\n",
    "- **random.seed()**: controla aleatoriedad de Python.  \n",
    "- **np.random.seed()**: controla aleatoriedad de NumPy.  \n",
    "- **torch.manual_seed()**: controla aleatoriedad en PyTorch (CPU).  \n",
    "- **torch.cuda.manual_seed_all()**: controla aleatoriedad en PyTorch (GPU, si está disponible).  \n",
    "\n",
    "> ⚠️ Nota: Activar determinismo en `cudnn` puede reducir el rendimiento."
   ]
  },
  {
   "cell_type": "code",
   "execution_count": 21,
   "metadata": {},
   "outputs": [],
   "source": [
    "import torch, random, numpy as np\n",
    "\n",
    "SEED = 1337\n",
    "random.seed(SEED)\n",
    "np.random.seed(SEED)\n",
    "torch.manual_seed(SEED)\n",
    "if torch.cuda.is_available():\n",
    "    torch.cuda.manual_seed_all(SEED)\n",
    "\n",
    "# Opcional: más determinismo (puede reducir rendimiento)\n",
    "torch.backends.cudnn.deterministic = True\n",
    "torch.backends.cudnn.benchmark = False\n"
   ]
  },
  {
   "cell_type": "markdown",
   "metadata": {},
   "source": [
    "## 🔹 2) `device` y `dtype` (CPU/GPU y tipos de dato)\n",
    "\n",
    "Cada tensor en PyTorch tiene dos atributos clave:\n",
    "\n",
    "- **device** → dónde se almacena: `cpu` o `cuda` (GPU).  \n",
    "- **dtype** → tipo de dato: `torch.float32`, `torch.int64`, etc.  \n",
    "\n",
    "En entrenamiento con redes neuronales:  \n",
    "- Usamos casi siempre **float32**.  \n",
    "- Si hay GPU, mover tensores a `cuda` acelera los cálculos.  \n"
   ]
  },
  {
   "cell_type": "code",
   "execution_count": 29,
   "metadata": {},
   "outputs": [
    {
     "name": "stdout",
     "output_type": "stream",
     "text": [
      "Usando: cuda\n",
      "dtype: torch.float32 | device: cuda:0\n",
      "tensor([[-0.4470,  0.8750,  0.6787],\n",
      "        [ 0.4578, -0.8858,  0.4472]])\n",
      "tensor([[-0.4470,  0.8750,  0.6787],\n",
      "        [ 0.4578, -0.8858,  0.4472]], device='cuda:0')\n"
     ]
    }
   ],
   "source": [
    "device = torch.device('cuda' if torch.cuda.is_available() else 'cpu')\n",
    "print(\"Usando:\", device)\n",
    "\n",
    "x = torch.randn(2, 3, dtype=torch.float32, device=device)\n",
    "print(\"dtype:\", x.dtype, \"| device:\", x.device)\n",
    "\n",
    "# Mover tensor explícitamente\n",
    "x_cpu = x.to('cpu')\n",
    "x_gpu = x.to(device)\n",
    "print(x_cpu)\n",
    "print(x_gpu)\n"
   ]
  },
  {
   "cell_type": "markdown",
   "metadata": {},
   "source": [
    "## 🔹 3) `unsqueeze` y `squeeze`\n",
    "\n",
    "Estas operaciones permiten **añadir o quitar dimensiones** de tamaño 1:\n",
    "\n",
    "- `unsqueeze(dim)` → inserta una dimensión de tamaño 1 en la posición `dim`.  \n",
    "- `squeeze(dim)` → elimina una dimensión de tamaño 1 (si existe).  \n",
    "\n",
    "👉 Muy útil al preparar *batches*, canales de imágenes, o secuencias.  \n"
   ]
  },
  {
   "cell_type": "code",
   "execution_count": 34,
   "metadata": {},
   "outputs": [
    {
     "name": "stdout",
     "output_type": "stream",
     "text": [
      "t shape: torch.Size([3])\n",
      "t_unsq0 shape: torch.Size([1, 3])\n",
      "t_unsq0: tensor([[10, 20, 30]])\n",
      "t_unsq1 shape: torch.Size([3, 1])\n",
      "t_unsq1: tensor([[10],\n",
      "        [20],\n",
      "        [30]])\n",
      "t_sq shape: torch.Size([3])\n",
      "t_sq: tensor([10, 20, 30])\n",
      "t: torch.Size([3]) | unsqueeze(0): torch.Size([1, 3]) | unsqueeze(1): torch.Size([3, 1]) | squeeze: torch.Size([3])\n"
     ]
    }
   ],
   "source": [
    "t = torch.tensor([10, 20, 30])   # [3]\n",
    "print(\"t shape:\", t.shape)\n",
    "\n",
    "t_unsq0 = t.unsqueeze(0)         # [1,3]\n",
    "print(\"t_unsq0 shape:\", t_unsq0.shape)\n",
    "print(\"t_unsq0:\", t_unsq0)\n",
    "\n",
    "t_unsq1 = t.unsqueeze(1)         # [3,1]\n",
    "print(\"t_unsq1 shape:\", t_unsq1.shape)\n",
    "print(\"t_unsq1:\", t_unsq1)\n",
    "\n",
    "\n",
    "t_sq = t_unsq1.squeeze()         # [3]\n",
    "print(\"t_sq shape:\", t_sq.shape)\n",
    "print(\"t_sq:\", t_sq)\n",
    "\n",
    "print(\"t:\", t.shape, \"| unsqueeze(0):\", t_unsq0.shape, \"| unsqueeze(1):\", t_unsq1.shape, \"| squeeze:\", t_sq.shape)\n"
   ]
  },
  {
   "cell_type": "code",
   "execution_count": 38,
   "metadata": {},
   "outputs": [
    {
     "name": "stdout",
     "output_type": "stream",
     "text": [
      "t_test shape: torch.Size([2, 3])\n",
      "t_test:  tensor([[1, 2, 3],\n",
      "        [4, 5, 6]])\n",
      "\n",
      "\n",
      "t_test_unsq0 shape: torch.Size([1, 2, 3])\n",
      "t_test_unsq0:  tensor([[[1, 2, 3],\n",
      "         [4, 5, 6]]])\n",
      "\n",
      "\n",
      "t_test_sq1 shape: torch.Size([2, 3])\n",
      "t_test_sq1:  tensor([[1, 2, 3],\n",
      "        [4, 5, 6]])\n"
     ]
    }
   ],
   "source": [
    "t_test = torch.tensor([[1,2,3],[4,5,6]])  # [2,3]\n",
    "print(\"t_test shape:\", t_test.shape)\n",
    "print(\"t_test: \", t_test)\n",
    "\n",
    "t_test_unsq0 = t_test.unsqueeze(0)      # [1,2,3]\n",
    "print(\"\\n\\nt_test_unsq0 shape:\", t_test_unsq0.shape)\n",
    "print(\"t_test_unsq0: \", t_test_unsq0)\n",
    "\n",
    "t_test_sq1 = t_test_unsq0.squeeze(0)   # [2,3]\n",
    "print(\"\\n\\nt_test_sq1 shape:\", t_test_sq1.shape)\n",
    "print(\"t_test_sq1: \", t_test_sq1)\n"
   ]
  },
  {
   "cell_type": "markdown",
   "metadata": {},
   "source": [
    "## 🔹 4) `reshape` vs `view`\n",
    "\n",
    "Ambas permiten cambiar la forma (*shape*) de un tensor:\n",
    "\n",
    "- **`view()`** → más eficiente, pero requiere que el tensor sea **contiguo** en memoria.  \n",
    "- **`reshape()`** → intenta usar `view`, y si no puede, crea una copia.  \n",
    "\n",
    "💡 Si un tensor fue transpuesto (`transpose`/`permute`), usar `contiguous()` antes de `view()`.  \n"
   ]
  },
  {
   "cell_type": "code",
   "execution_count": 41,
   "metadata": {},
   "outputs": [
    {
     "name": "stdout",
     "output_type": "stream",
     "text": [
      "a:  tensor([ 0,  1,  2,  3,  4,  5,  6,  7,  8,  9, 10, 11])\n",
      "b:  tensor([[ 0,  1,  2,  3],\n",
      "        [ 4,  5,  6,  7],\n",
      "        [ 8,  9, 10, 11]])\n",
      "c:  tensor([[ 0,  4,  8],\n",
      "        [ 1,  5,  9],\n",
      "        [ 2,  6, 10],\n",
      "        [ 3,  7, 11]])\n",
      "c.contiguous? False\n",
      "c2.shape: torch.Size([2, 6])\n",
      "c2: tensor([[ 0,  4,  8,  1,  5,  9],\n",
      "        [ 2,  6, 10,  3,  7, 11]])\n",
      "c2.shape: torch.Size([2, 6]) | r2.shape: torch.Size([2, 6])\n"
     ]
    }
   ],
   "source": [
    "a = torch.arange(12)            # [12]\n",
    "print(\"a: \", a)\n",
    "b = a.view(3, 4)                # [3,4] (contiguo)\n",
    "print(\"b: \", b)\n",
    "c = b.t()                       # [4,3] (no contiguo)\n",
    "print(\"c: \", c)\n",
    "print(\"c.contiguous?\", c.is_contiguous())\n",
    "\n",
    "# Para usar view:\n",
    "c2 = c.contiguous().view(2, 6)\n",
    "print(\"c2.shape:\", c2.shape)\n",
    "print(\"c2:\", c2)\n",
    "\n",
    "# reshape funciona aunque no sea contiguo\n",
    "r2 = c.reshape(2, 6)\n",
    "\n",
    "print(\"c2.shape:\", c2.shape, \"| r2.shape:\", r2.shape)\n"
   ]
  },
  {
   "cell_type": "markdown",
   "metadata": {},
   "source": [
    "## 🔹 5) `transpose` y `permute`\n",
    "\n",
    "Para **reordenar ejes** de un tensor:\n",
    "\n",
    "- `transpose(dim0, dim1)` → intercambia dos dimensiones.  \n",
    "- `permute(dims)` → reordena las dimensiones arbitrariamente.  \n",
    "\n",
    "> ⚠️ Estos resultados suelen no ser contiguos en memoria.  \n"
   ]
  },
  {
   "cell_type": "code",
   "execution_count": 43,
   "metadata": {},
   "outputs": [
    {
     "name": "stdout",
     "output_type": "stream",
     "text": [
      "x shape: torch.Size([2, 3, 4])\n",
      "x: tensor([[[ 1.1490,  0.1812, -0.0920,  1.5828],\n",
      "         [ 0.1526,  0.3843,  1.3091,  0.4645],\n",
      "         [-0.8345,  0.5978, -0.0514, -0.0646]],\n",
      "\n",
      "        [[-0.4970,  0.4658, -0.2573, -1.0673],\n",
      "         [ 2.0089, -0.5370,  0.2228,  0.6971],\n",
      "         [-1.4267,  0.9059,  0.1446,  0.2280]]])\n",
      "x: torch.Size([2, 3, 4]) | transpose: torch.Size([2, 4, 3]) | permute: torch.Size([2, 4, 3])\n"
     ]
    }
   ],
   "source": [
    "x = torch.randn(2, 3, 4)        # [B=2, C=3, T=4]\n",
    "print(\"x shape:\", x.shape)\n",
    "print(\"x:\", x)\n",
    "\n",
    "x_t = x.transpose(1, 2)         # [2,4,3]\n",
    "x_p = x.permute(0, 2, 1)        # [2,4,3]\n",
    "\n",
    "print(\"x:\", x.shape, \"| transpose:\", x_t.shape, \"| permute:\", x_p.shape)\n"
   ]
  }
 ],
 "metadata": {
  "colab": {
   "authorship_tag": "ABX9TyM3oT4urHznLkCh/BrIShfP",
   "include_colab_link": true,
   "provenance": []
  },
  "kernelspec": {
   "display_name": "base",
   "language": "python",
   "name": "python3"
  },
  "language_info": {
   "codemirror_mode": {
    "name": "ipython",
    "version": 3
   },
   "file_extension": ".py",
   "mimetype": "text/x-python",
   "name": "python",
   "nbconvert_exporter": "python",
   "pygments_lexer": "ipython3",
   "version": "3.12.2"
  }
 },
 "nbformat": 4,
 "nbformat_minor": 4
}
