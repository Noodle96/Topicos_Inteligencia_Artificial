{
  "nbformat": 4,
  "nbformat_minor": 0,
  "metadata": {
    "colab": {
      "provenance": [],
      "authorship_tag": "ABX9TyM3oT4urHznLkCh/BrIShfP",
      "include_colab_link": true
    },
    "kernelspec": {
      "name": "python3",
      "display_name": "Python 3"
    },
    "language_info": {
      "name": "python"
    }
  },
  "cells": [
    {
      "cell_type": "markdown",
      "metadata": {
        "id": "view-in-github",
        "colab_type": "text"
      },
      "source": [
        "<a href=\"https://colab.research.google.com/github/Noodle96/Topicos_Inteligencia_Artificial/blob/main/00_TorchIntroduction.ipynb\" target=\"_parent\"><img src=\"https://colab.research.google.com/assets/colab-badge.svg\" alt=\"Open In Colab\"/></a>"
      ]
    },
    {
      "cell_type": "code",
      "source": [
        "#!pip list"
      ],
      "metadata": {
        "collapsed": true,
        "id": "hbui2no0iWNx"
      },
      "execution_count": null,
      "outputs": []
    },
    {
      "cell_type": "markdown",
      "source": [
        "## **PyTorch: a deep learning framework**\n",
        "Pytorch is\n",
        "<ul type=\"circle\">\n",
        "    <li>one of the most popular deep learning frameworks</li>\n",
        "    <li>the framework used in many published deep learning papers</li>\n",
        "    <li>intuitive and user-friendly</li>\n",
        "    <li>has much in common with NumPy</li>\n",
        "<ul/>"
      ],
      "metadata": {
        "id": "gO3HutZJmmFR"
      }
    },
    {
      "cell_type": "markdown",
      "source": [
        "### **Importing PyTorch and related packages**\n",
        "```python\n",
        "import torch\n",
        "```\n",
        "PyTorch support\n",
        "*   image data with ```torchvision ```\n",
        "*   audio data with ```torchaudio ```\n",
        "*   text data with ```torchtext ```"
      ],
      "metadata": {
        "id": "jOhatGv1no2S"
      }
    },
    {
      "cell_type": "code",
      "execution_count": null,
      "metadata": {
        "id": "BrbqNn-ih4r3"
      },
      "outputs": [],
      "source": [
        "import torch\n",
        "import numpy as np"
      ]
    },
    {
      "cell_type": "code",
      "source": [
        "lst = [ [1,2,3],\n",
        "        [4,5,6]\n",
        "    ]\n",
        "print(lst)\n",
        "print(type(lst))"
      ],
      "metadata": {
        "id": "TETlerBKil0f",
        "colab": {
          "base_uri": "https://localhost:8080/"
        },
        "outputId": "d5c6c80e-07a3-4a54-f319-75062101c089"
      },
      "execution_count": null,
      "outputs": [
        {
          "output_type": "stream",
          "name": "stdout",
          "text": [
            "[[1, 2, 3], [4, 5, 6]]\n",
            "<class 'list'>\n"
          ]
        }
      ]
    },
    {
      "cell_type": "markdown",
      "source": [
        "### **Tensors: the building blocks of networks in PyTorch**\n",
        "\n"
      ],
      "metadata": {
        "id": "k7xelNfrkNjP"
      }
    },
    {
      "cell_type": "markdown",
      "source": [
        "> **Load from list**"
      ],
      "metadata": {
        "id": "3v8k2p4OmMP0"
      }
    },
    {
      "cell_type": "code",
      "source": [
        "lst_tensor = torch.tensor(lst)\n",
        "print(lst_tensor)\n",
        "print(type(lst_tensor))"
      ],
      "metadata": {
        "id": "JjHCkmk9i81D",
        "colab": {
          "base_uri": "https://localhost:8080/"
        },
        "outputId": "47da29b9-a66f-4dab-8e1d-6ba5eb6e916c"
      },
      "execution_count": null,
      "outputs": [
        {
          "output_type": "stream",
          "name": "stdout",
          "text": [
            "tensor([[1, 2, 3],\n",
            "        [4, 5, 6]])\n",
            "<class 'torch.Tensor'>\n"
          ]
        }
      ]
    },
    {
      "cell_type": "code",
      "source": [
        "print(f\"\"\"{lst_tensor.shape}, {lst_tensor.dtype}, {lst_tensor.device}\"\"\")"
      ],
      "metadata": {
        "id": "6-9jfJgnjUCP",
        "colab": {
          "base_uri": "https://localhost:8080/"
        },
        "outputId": "73b533b3-66b7-4532-af85-605d68b922d7"
      },
      "execution_count": null,
      "outputs": [
        {
          "output_type": "stream",
          "name": "stdout",
          "text": [
            "torch.Size([2, 3]), torch.int64, cpu\n"
          ]
        }
      ]
    },
    {
      "cell_type": "markdown",
      "source": [
        "> **Load from numpy**"
      ],
      "metadata": {
        "id": "aOltOqe5mcWh"
      }
    },
    {
      "cell_type": "code",
      "source": [
        "np_list = np.array(lst)\n",
        "np_tensor = torch.from_numpy(np_list)\n",
        "print(np_tensor)\n",
        "print(type(np_tensor))"
      ],
      "metadata": {
        "id": "KLeQJQZWpAIt",
        "colab": {
          "base_uri": "https://localhost:8080/"
        },
        "outputId": "267c15d5-b221-403d-b733-441452267cef"
      },
      "execution_count": null,
      "outputs": [
        {
          "output_type": "stream",
          "name": "stdout",
          "text": [
            "tensor([[1, 2, 3],\n",
            "        [4, 5, 6]])\n",
            "<class 'torch.Tensor'>\n"
          ]
        }
      ]
    },
    {
      "cell_type": "markdown",
      "source": [
        "*   Tensor shape\n",
        "*   Tensor data type\n",
        "*   Tensor device"
      ],
      "metadata": {
        "id": "RbppweDaqEuh"
      }
    },
    {
      "cell_type": "code",
      "source": [
        "# np_tensor es ya un tensor\n",
        "np_tensor.shape"
      ],
      "metadata": {
        "id": "mxX1rVGCqL4K",
        "colab": {
          "base_uri": "https://localhost:8080/"
        },
        "outputId": "489606d9-5276-4f04-96b8-a15e803c7226"
      },
      "execution_count": null,
      "outputs": [
        {
          "output_type": "execute_result",
          "data": {
            "text/plain": [
              "torch.Size([2, 3])"
            ]
          },
          "metadata": {},
          "execution_count": 8
        }
      ]
    },
    {
      "cell_type": "code",
      "source": [
        "np_tensor.dtype"
      ],
      "metadata": {
        "id": "0gahS1U6qVWv",
        "colab": {
          "base_uri": "https://localhost:8080/"
        },
        "outputId": "adf1df03-d5f0-401b-9c75-2fcf2478d4f2"
      },
      "execution_count": null,
      "outputs": [
        {
          "output_type": "execute_result",
          "data": {
            "text/plain": [
              "torch.int64"
            ]
          },
          "metadata": {},
          "execution_count": 9
        }
      ]
    },
    {
      "cell_type": "code",
      "source": [
        "np_tensor.device"
      ],
      "metadata": {
        "id": "FRJoMWd6qYVf",
        "colab": {
          "base_uri": "https://localhost:8080/"
        },
        "outputId": "8a3b6d8f-1689-4c1f-f26a-dbe90a5e50bb"
      },
      "execution_count": null,
      "outputs": [
        {
          "output_type": "execute_result",
          "data": {
            "text/plain": [
              "device(type='cpu')"
            ]
          },
          "metadata": {},
          "execution_count": 10
        }
      ]
    },
    {
      "cell_type": "markdown",
      "source": [
        "### **Getting started with tensor operations**"
      ],
      "metadata": {
        "id": "Zqxf10syrhRU"
      }
    },
    {
      "cell_type": "markdown",
      "source": [
        "> **Compatibles shapes**"
      ],
      "metadata": {
        "id": "Hmo6UDsrrmNs"
      }
    },
    {
      "cell_type": "code",
      "source": [
        "a = torch.tensor([[1,1],[2,2]])\n",
        "b = torch.tensor([[10,10],[20,20]])\n",
        "print(a+b)"
      ],
      "metadata": {
        "id": "Fs993LZPrsaz",
        "colab": {
          "base_uri": "https://localhost:8080/"
        },
        "outputId": "aa70c2ab-4a34-487b-fb2b-e51169d24142"
      },
      "execution_count": null,
      "outputs": [
        {
          "output_type": "stream",
          "name": "stdout",
          "text": [
            "tensor([[11, 11],\n",
            "        [22, 22]])\n"
          ]
        }
      ]
    },
    {
      "cell_type": "markdown",
      "source": [
        "> **Incompatible shapes**"
      ],
      "metadata": {
        "id": "ijGdK98QsITh"
      }
    },
    {
      "cell_type": "code",
      "source": [
        "c = torch.tensor([[100,100],[200,200]])\n",
        "d = torch.tensor([[1,2,3],[4,5,6]])\n",
        "#c+d"
      ],
      "metadata": {
        "id": "0jIK2up6sMB3"
      },
      "execution_count": null,
      "outputs": []
    },
    {
      "cell_type": "markdown",
      "source": [
        "Element-wise multiplication"
      ],
      "metadata": {
        "id": "FqlH9k9Es0gM"
      }
    },
    {
      "cell_type": "code",
      "source": [
        "e = torch.tensor([[1,2],[3,4]])\n",
        "f = torch.tensor([[2,3],[5,6]])\n",
        "e*f\n",
        "print(type(e))"
      ],
      "metadata": {
        "id": "5D8ixLkpskia",
        "colab": {
          "base_uri": "https://localhost:8080/"
        },
        "outputId": "0909c44c-ab0b-4ea4-bb47-322b9105c19f"
      },
      "execution_count": null,
      "outputs": [
        {
          "output_type": "stream",
          "name": "stdout",
          "text": [
            "<class 'torch.Tensor'>\n"
          ]
        }
      ]
    },
    {
      "cell_type": "code",
      "source": [
        "class Coche:\n",
        "  \"\"\"Define las propiedades y comportamientos de un coche.\"\"\"\n",
        "\n",
        "  def __init__(self, marca, modelo, color):\n",
        "    \"\"\"Inicializa las propiedades del coche.\"\"\"\n",
        "    self.marca = marca\n",
        "    self.modelo = modelo\n",
        "    self.color = color\n",
        "\n",
        "  def arrancar(self):\n",
        "    \"\"\"Simula el arranque del coche.\"\"\"\n",
        "    print(f\"El {self.marca} {self.modelo} {self.color} está arrancando...\")\n",
        "\n",
        "  def acelerar(self, velocidad):\n",
        "    \"\"\"Simula la aceleración del coche.\"\"\"\n",
        "    print(f\"El {self.marca} {self.modelo} {self.color} está acelerando a {velocidad} km/h\")\n",
        "\n",
        "  def frenar(self):\n",
        "    \"\"\"Simula el frenado del coche.\"\"\"\n",
        "    print(f\"El {self.marca} {self.modelo} {self.color} está frenando...\")\n",
        "\n",
        "# Crea una instancia de la clase Coche\n",
        "miCoche = Coche(\"Toyota\", \"Corolla\", \"azul\")\n",
        "\n",
        "# Llama a los métodos del coche\n",
        "miCoche.arrancar()\n",
        "miCoche.acelerar(80)\n",
        "miCoche.frenar()\n",
        "print(type(miCoche))\n"
      ],
      "metadata": {
        "colab": {
          "base_uri": "https://localhost:8080/"
        },
        "id": "qokN-Txkbw3M",
        "outputId": "506f9935-f820-4b1f-ef93-24d38526dd9a"
      },
      "execution_count": null,
      "outputs": [
        {
          "output_type": "stream",
          "name": "stdout",
          "text": [
            "El Toyota Corolla azul está arrancando...\n",
            "El Toyota Corolla azul está acelerando a 80 km/h\n",
            "El Toyota Corolla azul está frenando...\n",
            "<class '__main__.Coche'>\n"
          ]
        }
      ]
    },
    {
      "cell_type": "code",
      "source": [
        "torch_zeros = torch.zeros(2,3)\n",
        "torch_zeros"
      ],
      "metadata": {
        "colab": {
          "base_uri": "https://localhost:8080/"
        },
        "id": "wDhx_ObFcEPq",
        "outputId": "f5786c1a-1c66-4122-d2bf-fd467bb29963"
      },
      "execution_count": null,
      "outputs": [
        {
          "output_type": "execute_result",
          "data": {
            "text/plain": [
              "tensor([[0., 0., 0.],\n",
              "        [0., 0., 0.]])"
            ]
          },
          "metadata": {},
          "execution_count": 25
        }
      ]
    },
    {
      "cell_type": "code",
      "source": [
        "torch_ones = torch.ones(1,3)\n",
        "torch_ones"
      ],
      "metadata": {
        "colab": {
          "base_uri": "https://localhost:8080/"
        },
        "id": "zVds-Kmve_3l",
        "outputId": "db52a567-08cd-46e2-9a63-54bbc143e131"
      },
      "execution_count": null,
      "outputs": [
        {
          "output_type": "execute_result",
          "data": {
            "text/plain": [
              "tensor([[1., 1., 1.]])"
            ]
          },
          "metadata": {},
          "execution_count": 26
        }
      ]
    },
    {
      "cell_type": "code",
      "source": [
        "torch_num = torch.full((3,4),7)\n",
        "torch_num"
      ],
      "metadata": {
        "colab": {
          "base_uri": "https://localhost:8080/"
        },
        "id": "8XPEKr_TfDmw",
        "outputId": "48455513-9da7-4974-dda7-74dc7213aad4"
      },
      "execution_count": null,
      "outputs": [
        {
          "output_type": "execute_result",
          "data": {
            "text/plain": [
              "tensor([[7, 7, 7, 7],\n",
              "        [7, 7, 7, 7],\n",
              "        [7, 7, 7, 7]])"
            ]
          },
          "metadata": {},
          "execution_count": 27
        }
      ]
    },
    {
      "cell_type": "code",
      "source": [
        "# Crea un tensor con valores aleatorios uniformes entre 0 y 1 de forma (2, 3)\n",
        "tensor_aleatorio_uniforme = torch.rand(2, 3)\n",
        "tensor_aleatorio_uniforme"
      ],
      "metadata": {
        "colab": {
          "base_uri": "https://localhost:8080/"
        },
        "id": "qyh0PhRwfPSB",
        "outputId": "31a36aa1-9116-4b52-e2c0-5cffdff353ae"
      },
      "execution_count": null,
      "outputs": [
        {
          "output_type": "execute_result",
          "data": {
            "text/plain": [
              "tensor([[0.8761, 0.0361, 0.6827],\n",
              "        [0.7248, 0.0904, 0.2620]])"
            ]
          },
          "metadata": {},
          "execution_count": 30
        }
      ]
    },
    {
      "cell_type": "code",
      "source": [
        "# Crea un tensor con valores aleatorios normales (distribución gaussiana) de forma (2, 3)\n",
        "tensor_aleatorio_normal = torch.randn(2, 3)\n",
        "tensor_aleatorio_normal"
      ],
      "metadata": {
        "colab": {
          "base_uri": "https://localhost:8080/"
        },
        "id": "Hl_n1-BoffWp",
        "outputId": "7bba3855-8b6a-4341-ef2f-8d8be162196d"
      },
      "execution_count": null,
      "outputs": [
        {
          "output_type": "execute_result",
          "data": {
            "text/plain": [
              "tensor([[ 0.2389, -0.3523, -2.9853],\n",
              "        [ 0.4663, -1.3307, -0.6641]])"
            ]
          },
          "metadata": {},
          "execution_count": 31
        }
      ]
    }
  ]
}