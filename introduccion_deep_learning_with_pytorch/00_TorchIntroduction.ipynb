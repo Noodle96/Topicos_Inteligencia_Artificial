{
 "cells": [
  {
   "cell_type": "markdown",
   "metadata": {
    "colab_type": "text",
    "id": "view-in-github"
   },
   "source": [
    "<a href=\"https://colab.research.google.com/github/Noodle96/Topicos_Inteligencia_Artificial/blob/main/00_TorchIntroduction.ipynb\" target=\"_parent\"><img src=\"https://colab.research.google.com/assets/colab-badge.svg\" alt=\"Open In Colab\"/></a>"
   ]
  },
  {
   "cell_type": "code",
   "execution_count": 3,
   "metadata": {
    "id": "hbui2no0iWNx"
   },
   "outputs": [],
   "source": [
    "#!pip list"
   ]
  },
  {
   "cell_type": "markdown",
   "metadata": {
    "id": "gO3HutZJmmFR"
   },
   "source": [
    "## **PyTorch: a deep learning framework**\n",
    "Pytorch is\n",
    "<ul type=\"circle\">\n",
    "    <li>one of the most popular deep learning frameworks</li>\n",
    "    <li>the framework used in many published deep learning papers</li>\n",
    "    <li>intuitive and user-friendly</li>\n",
    "    <li>has much in common with NumPy</li>\n",
    "<ul/>"
   ]
  },
  {
   "cell_type": "markdown",
   "metadata": {
    "id": "jOhatGv1no2S"
   },
   "source": [
    "### **Importing PyTorch and related packages**\n",
    "```python\n",
    "import torch\n",
    "```\n",
    "PyTorch support\n",
    "*   image data with ```torchvision ```\n",
    "*   audio data with ```torchaudio ```\n",
    "*   text data with ```torchtext ```"
   ]
  },
  {
   "cell_type": "code",
   "execution_count": 1,
   "metadata": {
    "id": "BrbqNn-ih4r3"
   },
   "outputs": [],
   "source": [
    "import torch\n",
    "import numpy as np"
   ]
  },
  {
   "cell_type": "code",
   "execution_count": 2,
   "metadata": {
    "colab": {
     "base_uri": "https://localhost:8080/"
    },
    "id": "TETlerBKil0f",
    "outputId": "d5c6c80e-07a3-4a54-f319-75062101c089"
   },
   "outputs": [
    {
     "name": "stdout",
     "output_type": "stream",
     "text": [
      "[[1, 2, 3], [4, 5, 6]]\n",
      "<class 'list'>\n"
     ]
    }
   ],
   "source": [
    "lst = [ [1,2,3],\n",
    "        [4,5,6]\n",
    "    ]\n",
    "print(lst)\n",
    "print(type(lst))"
   ]
  },
  {
   "cell_type": "markdown",
   "metadata": {
    "id": "k7xelNfrkNjP"
   },
   "source": [
    "### **Tensors: the building blocks of networks in PyTorch**\n",
    "\n"
   ]
  },
  {
   "cell_type": "markdown",
   "metadata": {
    "id": "3v8k2p4OmMP0"
   },
   "source": [
    "> **Load from list**"
   ]
  },
  {
   "cell_type": "code",
   "execution_count": 7,
   "metadata": {
    "colab": {
     "base_uri": "https://localhost:8080/"
    },
    "id": "JjHCkmk9i81D",
    "outputId": "47da29b9-a66f-4dab-8e1d-6ba5eb6e916c"
   },
   "outputs": [
    {
     "name": "stdout",
     "output_type": "stream",
     "text": [
      "tensor([[1, 2, 3],\n",
      "        [4, 5, 6]])\n",
      "<class 'torch.Tensor'>\n"
     ]
    }
   ],
   "source": [
    "lst_tensor = torch.tensor(lst)\n",
    "print(lst_tensor)\n",
    "print(type(lst_tensor))"
   ]
  },
  {
   "cell_type": "code",
   "execution_count": 9,
   "metadata": {
    "colab": {
     "base_uri": "https://localhost:8080/"
    },
    "id": "6-9jfJgnjUCP",
    "outputId": "73b533b3-66b7-4532-af85-605d68b922d7"
   },
   "outputs": [
    {
     "name": "stdout",
     "output_type": "stream",
     "text": [
      "torch.Size([2, 3]), torch.int64, cpu\n"
     ]
    }
   ],
   "source": [
    "print(f\"\"\"{lst_tensor.shape}, {lst_tensor.dtype}, {lst_tensor.device}\"\"\")"
   ]
  },
  {
   "cell_type": "markdown",
   "metadata": {
    "id": "aOltOqe5mcWh"
   },
   "source": [
    "> **Load from numpy**"
   ]
  },
  {
   "cell_type": "code",
   "execution_count": 10,
   "metadata": {
    "colab": {
     "base_uri": "https://localhost:8080/"
    },
    "id": "KLeQJQZWpAIt",
    "outputId": "267c15d5-b221-403d-b733-441452267cef"
   },
   "outputs": [
    {
     "name": "stdout",
     "output_type": "stream",
     "text": [
      "tensor([[1, 2, 3],\n",
      "        [4, 5, 6]])\n",
      "<class 'torch.Tensor'>\n"
     ]
    }
   ],
   "source": [
    "np_list = np.array(lst)\n",
    "np_tensor = torch.from_numpy(np_list)\n",
    "print(np_tensor)\n",
    "print(type(np_tensor))"
   ]
  },
  {
   "cell_type": "markdown",
   "metadata": {
    "id": "RbppweDaqEuh"
   },
   "source": [
    "*   Tensor shape\n",
    "*   Tensor data type\n",
    "*   Tensor device"
   ]
  },
  {
   "cell_type": "code",
   "execution_count": null,
   "metadata": {
    "colab": {
     "base_uri": "https://localhost:8080/"
    },
    "id": "mxX1rVGCqL4K",
    "outputId": "489606d9-5276-4f04-96b8-a15e803c7226"
   },
   "outputs": [
    {
     "data": {
      "text/plain": [
       "torch.Size([2, 3])"
      ]
     },
     "execution_count": 8,
     "metadata": {},
     "output_type": "execute_result"
    }
   ],
   "source": [
    "# np_tensor es ya un tensor\n",
    "np_tensor.shape"
   ]
  },
  {
   "cell_type": "code",
   "execution_count": null,
   "metadata": {
    "colab": {
     "base_uri": "https://localhost:8080/"
    },
    "id": "0gahS1U6qVWv",
    "outputId": "adf1df03-d5f0-401b-9c75-2fcf2478d4f2"
   },
   "outputs": [
    {
     "data": {
      "text/plain": [
       "torch.int64"
      ]
     },
     "execution_count": 9,
     "metadata": {},
     "output_type": "execute_result"
    }
   ],
   "source": [
    "np_tensor.dtype"
   ]
  },
  {
   "cell_type": "code",
   "execution_count": null,
   "metadata": {
    "colab": {
     "base_uri": "https://localhost:8080/"
    },
    "id": "FRJoMWd6qYVf",
    "outputId": "8a3b6d8f-1689-4c1f-f26a-dbe90a5e50bb"
   },
   "outputs": [
    {
     "data": {
      "text/plain": [
       "device(type='cpu')"
      ]
     },
     "execution_count": 10,
     "metadata": {},
     "output_type": "execute_result"
    }
   ],
   "source": [
    "np_tensor.device"
   ]
  },
  {
   "cell_type": "markdown",
   "metadata": {
    "id": "Zqxf10syrhRU"
   },
   "source": [
    "### **Getting started with tensor operations**"
   ]
  },
  {
   "cell_type": "markdown",
   "metadata": {
    "id": "Hmo6UDsrrmNs"
   },
   "source": [
    "> **Compatibles shapes**"
   ]
  },
  {
   "cell_type": "code",
   "execution_count": null,
   "metadata": {
    "colab": {
     "base_uri": "https://localhost:8080/"
    },
    "id": "Fs993LZPrsaz",
    "outputId": "aa70c2ab-4a34-487b-fb2b-e51169d24142"
   },
   "outputs": [
    {
     "name": "stdout",
     "output_type": "stream",
     "text": [
      "tensor([[11, 11],\n",
      "        [22, 22]])\n"
     ]
    }
   ],
   "source": [
    "a = torch.tensor([[1,1],[2,2]])\n",
    "b = torch.tensor([[10,10],[20,20]])\n",
    "print(a+b)"
   ]
  },
  {
   "cell_type": "markdown",
   "metadata": {
    "id": "ijGdK98QsITh"
   },
   "source": [
    "> **Incompatible shapes**"
   ]
  },
  {
   "cell_type": "code",
   "execution_count": null,
   "metadata": {
    "id": "0jIK2up6sMB3"
   },
   "outputs": [],
   "source": [
    "c = torch.tensor([[100,100],[200,200]])\n",
    "d = torch.tensor([[1,2,3],[4,5,6]])\n",
    "#c+d"
   ]
  },
  {
   "cell_type": "markdown",
   "metadata": {
    "id": "FqlH9k9Es0gM"
   },
   "source": [
    "Element-wise multiplication"
   ]
  },
  {
   "cell_type": "code",
   "execution_count": null,
   "metadata": {
    "colab": {
     "base_uri": "https://localhost:8080/"
    },
    "id": "5D8ixLkpskia",
    "outputId": "0909c44c-ab0b-4ea4-bb47-322b9105c19f"
   },
   "outputs": [
    {
     "name": "stdout",
     "output_type": "stream",
     "text": [
      "<class 'torch.Tensor'>\n"
     ]
    }
   ],
   "source": [
    "e = torch.tensor([[1,2],[3,4]])\n",
    "f = torch.tensor([[2,3],[5,6]])\n",
    "e*f\n",
    "print(type(e))"
   ]
  },
  {
   "cell_type": "code",
   "execution_count": null,
   "metadata": {
    "colab": {
     "base_uri": "https://localhost:8080/"
    },
    "id": "qokN-Txkbw3M",
    "outputId": "506f9935-f820-4b1f-ef93-24d38526dd9a"
   },
   "outputs": [
    {
     "name": "stdout",
     "output_type": "stream",
     "text": [
      "El Toyota Corolla azul está arrancando...\n",
      "El Toyota Corolla azul está acelerando a 80 km/h\n",
      "El Toyota Corolla azul está frenando...\n",
      "<class '__main__.Coche'>\n"
     ]
    }
   ],
   "source": [
    "class Coche:\n",
    "  \"\"\"Define las propiedades y comportamientos de un coche.\"\"\"\n",
    "\n",
    "  def __init__(self, marca, modelo, color):\n",
    "    \"\"\"Inicializa las propiedades del coche.\"\"\"\n",
    "    self.marca = marca\n",
    "    self.modelo = modelo\n",
    "    self.color = color\n",
    "\n",
    "  def arrancar(self):\n",
    "    \"\"\"Simula el arranque del coche.\"\"\"\n",
    "    print(f\"El {self.marca} {self.modelo} {self.color} está arrancando...\")\n",
    "\n",
    "  def acelerar(self, velocidad):\n",
    "    \"\"\"Simula la aceleración del coche.\"\"\"\n",
    "    print(f\"El {self.marca} {self.modelo} {self.color} está acelerando a {velocidad} km/h\")\n",
    "\n",
    "  def frenar(self):\n",
    "    \"\"\"Simula el frenado del coche.\"\"\"\n",
    "    print(f\"El {self.marca} {self.modelo} {self.color} está frenando...\")\n",
    "\n",
    "# Crea una instancia de la clase Coche\n",
    "miCoche = Coche(\"Toyota\", \"Corolla\", \"azul\")\n",
    "\n",
    "# Llama a los métodos del coche\n",
    "miCoche.arrancar()\n",
    "miCoche.acelerar(80)\n",
    "miCoche.frenar()\n",
    "print(type(miCoche))\n"
   ]
  },
  {
   "cell_type": "code",
   "execution_count": null,
   "metadata": {
    "colab": {
     "base_uri": "https://localhost:8080/"
    },
    "id": "wDhx_ObFcEPq",
    "outputId": "f5786c1a-1c66-4122-d2bf-fd467bb29963"
   },
   "outputs": [
    {
     "data": {
      "text/plain": [
       "tensor([[0., 0., 0.],\n",
       "        [0., 0., 0.]])"
      ]
     },
     "execution_count": 25,
     "metadata": {},
     "output_type": "execute_result"
    }
   ],
   "source": [
    "torch_zeros = torch.zeros(2,3)\n",
    "torch_zeros"
   ]
  },
  {
   "cell_type": "code",
   "execution_count": null,
   "metadata": {
    "colab": {
     "base_uri": "https://localhost:8080/"
    },
    "id": "zVds-Kmve_3l",
    "outputId": "db52a567-08cd-46e2-9a63-54bbc143e131"
   },
   "outputs": [
    {
     "data": {
      "text/plain": [
       "tensor([[1., 1., 1.]])"
      ]
     },
     "execution_count": 26,
     "metadata": {},
     "output_type": "execute_result"
    }
   ],
   "source": [
    "torch_ones = torch.ones(1,3)\n",
    "torch_ones"
   ]
  },
  {
   "cell_type": "code",
   "execution_count": null,
   "metadata": {
    "colab": {
     "base_uri": "https://localhost:8080/"
    },
    "id": "8XPEKr_TfDmw",
    "outputId": "48455513-9da7-4974-dda7-74dc7213aad4"
   },
   "outputs": [
    {
     "data": {
      "text/plain": [
       "tensor([[7, 7, 7, 7],\n",
       "        [7, 7, 7, 7],\n",
       "        [7, 7, 7, 7]])"
      ]
     },
     "execution_count": 27,
     "metadata": {},
     "output_type": "execute_result"
    }
   ],
   "source": [
    "torch_num = torch.full((3,4),7)\n",
    "torch_num"
   ]
  },
  {
   "cell_type": "code",
   "execution_count": null,
   "metadata": {
    "colab": {
     "base_uri": "https://localhost:8080/"
    },
    "id": "qyh0PhRwfPSB",
    "outputId": "31a36aa1-9116-4b52-e2c0-5cffdff353ae"
   },
   "outputs": [
    {
     "data": {
      "text/plain": [
       "tensor([[0.8761, 0.0361, 0.6827],\n",
       "        [0.7248, 0.0904, 0.2620]])"
      ]
     },
     "execution_count": 30,
     "metadata": {},
     "output_type": "execute_result"
    }
   ],
   "source": [
    "# Crea un tensor con valores aleatorios uniformes entre 0 y 1 de forma (2, 3)\n",
    "tensor_aleatorio_uniforme = torch.rand(2, 3)\n",
    "tensor_aleatorio_uniforme"
   ]
  },
  {
   "cell_type": "code",
   "execution_count": null,
   "metadata": {
    "colab": {
     "base_uri": "https://localhost:8080/"
    },
    "id": "Hl_n1-BoffWp",
    "outputId": "7bba3855-8b6a-4341-ef2f-8d8be162196d"
   },
   "outputs": [
    {
     "data": {
      "text/plain": [
       "tensor([[ 0.2389, -0.3523, -2.9853],\n",
       "        [ 0.4663, -1.3307, -0.6641]])"
      ]
     },
     "execution_count": 31,
     "metadata": {},
     "output_type": "execute_result"
    }
   ],
   "source": [
    "# Crea un tensor con valores aleatorios normales (distribución gaussiana) de forma (2, 3)\n",
    "tensor_aleatorio_normal = torch.randn(2, 3)\n",
    "tensor_aleatorio_normal"
   ]
  }
 ],
 "metadata": {
  "colab": {
   "authorship_tag": "ABX9TyM3oT4urHznLkCh/BrIShfP",
   "include_colab_link": true,
   "provenance": []
  },
  "kernelspec": {
   "display_name": "Python [conda env:base] *",
   "language": "python",
   "name": "conda-base-py"
  },
  "language_info": {
   "codemirror_mode": {
    "name": "ipython",
    "version": 3
   },
   "file_extension": ".py",
   "mimetype": "text/x-python",
   "name": "python",
   "nbconvert_exporter": "python",
   "pygments_lexer": "ipython3",
   "version": "3.12.7"
  }
 },
 "nbformat": 4,
 "nbformat_minor": 4
}
