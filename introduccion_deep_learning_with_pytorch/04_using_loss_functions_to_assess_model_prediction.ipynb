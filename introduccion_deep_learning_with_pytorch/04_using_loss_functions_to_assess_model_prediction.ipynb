{
  "nbformat": 4,
  "nbformat_minor": 0,
  "metadata": {
    "colab": {
      "provenance": [],
      "authorship_tag": "ABX9TyM9KuAo1DEh0QbvHnO9IHdr",
      "include_colab_link": true
    },
    "kernelspec": {
      "name": "python3",
      "display_name": "Python 3"
    },
    "language_info": {
      "name": "python"
    }
  },
  "cells": [
    {
      "cell_type": "markdown",
      "metadata": {
        "id": "view-in-github",
        "colab_type": "text"
      },
      "source": [
        "<a href=\"https://colab.research.google.com/github/Noodle96/Topicos_Inteligencia_Artificial/blob/main/introduccion_deep_learning_with_pytorch/04_using_loss_functions_to_assess_model_prediction.ipynb\" target=\"_parent\"><img src=\"https://colab.research.google.com/assets/colab-badge.svg\" alt=\"Open In Colab\"/></a>"
      ]
    },
    {
      "cell_type": "markdown",
      "source": [
        "## **Why do we need a loss function?**"
      ],
      "metadata": {
        "id": "wlbw0ZWHVzTs"
      }
    },
    {
      "cell_type": "markdown",
      "source": [
        "*   Gives feedback to model during training\n",
        "*   Takes in model prediction $\\hat y$ and ground truth y\n",
        "*   Outputs a float"
      ],
      "metadata": {
        "id": "5OldOwCpWP9d"
      }
    },
    {
      "cell_type": "code",
      "execution_count": 1,
      "metadata": {
        "id": "LCTJdKyuPSBD"
      },
      "outputs": [],
      "source": [
        "import torch\n",
        "import torch.nn as nn\n",
        "import torch.nn.functional as F\n",
        "import torch.optim as optim\n",
        "import torchvision\n",
        "import numpy as np"
      ]
    },
    {
      "cell_type": "markdown",
      "source": [
        "## **One-hot encoding  concepts**\n",
        "\n"
      ],
      "metadata": {
        "id": "1-SEb1F5VSex"
      }
    },
    {
      "cell_type": "markdown",
      "source": [
        "*   loss = $F(y, \\hat y)$\n",
        "*   $y$ es un solo entero (clase label)\n",
        "*   $\\hat y$ es un tensor(output de softmax) de dimension $n$ .\n",
        "*   **Entonces, como comparamos un entero(class) con un tensor(tensor dimension n)?**\n"
      ],
      "metadata": {
        "id": "2zt3oxiqWR3f"
      }
    },
    {
      "cell_type": "code",
      "source": [
        "one_hot_numpy = np.array([1, 0, 0])\n",
        "one_hot_tensor  = torch.tensor([1, 0, 0])\n",
        "print(one_hot_numpy,one_hot_numpy.shape, one_hot_numpy.dtype,type(one_hot_numpy))\n",
        "print(one_hot_tensor, one_hot_tensor.shape, one_hot_tensor.dtype, type(one_hot_tensor))\n",
        "print(one_hot_tensor)"
      ],
      "metadata": {
        "id": "AHNbpgYcPkuA",
        "colab": {
          "base_uri": "https://localhost:8080/"
        },
        "outputId": "57e24940-8dfe-42dc-d42b-d06d030e2a0c"
      },
      "execution_count": 2,
      "outputs": [
        {
          "output_type": "stream",
          "name": "stdout",
          "text": [
            "[1 0 0] (3,) int64 <class 'numpy.ndarray'>\n",
            "tensor([1, 0, 0]) torch.Size([3]) torch.int64 <class 'torch.Tensor'>\n",
            "tensor([1, 0, 0])\n"
          ]
        }
      ]
    },
    {
      "cell_type": "markdown",
      "source": [
        "## **Transforming labels with one-hot encoding**"
      ],
      "metadata": {
        "id": "lSRjSLnrXckc"
      }
    },
    {
      "cell_type": "code",
      "source": [
        "import torch.nn.functional as F"
      ],
      "metadata": {
        "id": "xgeo9sMfXWoU"
      },
      "execution_count": 3,
      "outputs": []
    },
    {
      "cell_type": "code",
      "source": [
        "clase1 = F.one_hot(torch.tensor(0),num_classes=3)\n",
        "print(clase1)"
      ],
      "metadata": {
        "colab": {
          "base_uri": "https://localhost:8080/"
        },
        "id": "RbUo06ddYMzc",
        "outputId": "4d02e69d-d104-4d53-8eeb-b32adb947d0e"
      },
      "execution_count": 4,
      "outputs": [
        {
          "output_type": "stream",
          "name": "stdout",
          "text": [
            "tensor([1, 0, 0])\n"
          ]
        }
      ]
    },
    {
      "cell_type": "code",
      "source": [
        "clase2 = F.one_hot(torch.tensor(1),num_classes=3)\n",
        "print(clase2)"
      ],
      "metadata": {
        "colab": {
          "base_uri": "https://localhost:8080/"
        },
        "id": "RgTTP-3AYdlr",
        "outputId": "ae613649-f7af-4e0a-ec26-1791fba7afc5"
      },
      "execution_count": 5,
      "outputs": [
        {
          "output_type": "stream",
          "name": "stdout",
          "text": [
            "tensor([0, 1, 0])\n"
          ]
        }
      ]
    },
    {
      "cell_type": "code",
      "source": [
        "clase3 = F.one_hot(torch.tensor(2),num_classes=3)\n",
        "print(clase3)"
      ],
      "metadata": {
        "colab": {
          "base_uri": "https://localhost:8080/"
        },
        "id": "eCN_vAKKYhAL",
        "outputId": "1c3de7dc-8978-49d5-8831-cb535b15e0de"
      },
      "execution_count": 6,
      "outputs": [
        {
          "output_type": "stream",
          "name": "stdout",
          "text": [
            "tensor([0, 0, 1])\n"
          ]
        }
      ]
    },
    {
      "cell_type": "code",
      "source": [
        "claseTest = F.one_hot(torch.tensor([0,1,2]),num_classes=3)\n",
        "print(claseTest)"
      ],
      "metadata": {
        "colab": {
          "base_uri": "https://localhost:8080/"
        },
        "id": "nLOnjGSIYjw8",
        "outputId": "4e10a349-1135-490c-b4dc-58367882f8fd"
      },
      "execution_count": 7,
      "outputs": [
        {
          "output_type": "stream",
          "name": "stdout",
          "text": [
            "tensor([[1, 0, 0],\n",
            "        [0, 1, 0],\n",
            "        [0, 0, 1]])\n"
          ]
        }
      ]
    },
    {
      "cell_type": "code",
      "source": [
        "claseError = F.one_hot(torch.tensor(4),num_classes=3)\n",
        "print(claseError)"
      ],
      "metadata": {
        "colab": {
          "base_uri": "https://localhost:8080/",
          "height": 159
        },
        "id": "AerPeORHYzps",
        "outputId": "f4940fb5-5d14-4502-8745-7d9145bc7f8c"
      },
      "execution_count": 8,
      "outputs": [
        {
          "output_type": "error",
          "ename": "RuntimeError",
          "evalue": "Class values must be smaller than num_classes.",
          "traceback": [
            "\u001b[0;31m---------------------------------------------------------------------------\u001b[0m",
            "\u001b[0;31mRuntimeError\u001b[0m                              Traceback (most recent call last)",
            "\u001b[0;32m<ipython-input-8-14fcd4d7e821>\u001b[0m in \u001b[0;36m<cell line: 1>\u001b[0;34m()\u001b[0m\n\u001b[0;32m----> 1\u001b[0;31m \u001b[0mclaseError\u001b[0m \u001b[0;34m=\u001b[0m \u001b[0mF\u001b[0m\u001b[0;34m.\u001b[0m\u001b[0mone_hot\u001b[0m\u001b[0;34m(\u001b[0m\u001b[0mtorch\u001b[0m\u001b[0;34m.\u001b[0m\u001b[0mtensor\u001b[0m\u001b[0;34m(\u001b[0m\u001b[0;36m4\u001b[0m\u001b[0;34m)\u001b[0m\u001b[0;34m,\u001b[0m\u001b[0mnum_classes\u001b[0m\u001b[0;34m=\u001b[0m\u001b[0;36m3\u001b[0m\u001b[0;34m)\u001b[0m\u001b[0;34m\u001b[0m\u001b[0;34m\u001b[0m\u001b[0m\n\u001b[0m\u001b[1;32m      2\u001b[0m \u001b[0mprint\u001b[0m\u001b[0;34m(\u001b[0m\u001b[0mclaseError\u001b[0m\u001b[0;34m)\u001b[0m\u001b[0;34m\u001b[0m\u001b[0;34m\u001b[0m\u001b[0m\n",
            "\u001b[0;31mRuntimeError\u001b[0m: Class values must be smaller than num_classes."
          ]
        }
      ]
    },
    {
      "cell_type": "markdown",
      "source": [
        "## **Cross entropy loss in PyTorch**"
      ],
      "metadata": {
        "id": "jixzzqVYY_FG"
      }
    },
    {
      "cell_type": "code",
      "source": [
        "from torch.nn import CrossEntropyLoss"
      ],
      "metadata": {
        "id": "1UMdWNtZY4we"
      },
      "execution_count": null,
      "outputs": []
    },
    {
      "cell_type": "code",
      "source": [
        "scores = torch.tensor([[-0.1211, 0.1059]])\n",
        "one_hot_target = torch.tensor([[1, 0]])\n",
        "print(scores)\n",
        "print(one_hot_target)"
      ],
      "metadata": {
        "id": "ZEU0z1AeZeh9"
      },
      "execution_count": null,
      "outputs": []
    },
    {
      "cell_type": "code",
      "source": [
        "criterion = CrossEntropyLoss()\n",
        "loss = criterion(scores.double(), one_hot_target.double())\n",
        "print(loss)"
      ],
      "metadata": {
        "id": "z1chVKmTaE2f"
      },
      "execution_count": null,
      "outputs": []
    }
  ]
}